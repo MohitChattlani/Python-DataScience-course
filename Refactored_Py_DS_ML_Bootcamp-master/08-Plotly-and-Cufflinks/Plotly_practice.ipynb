{
 "cells": [
  {
   "cell_type": "code",
   "execution_count": 1,
   "metadata": {},
   "outputs": [],
   "source": [
    "import pandas as pd\n",
    "import numpy as np\n",
    "import chart_studio.plotly as py\n",
    "%matplotlib inline"
   ]
  },
  {
   "cell_type": "code",
   "execution_count": 2,
   "metadata": {},
   "outputs": [],
   "source": [
    "from plotly import __version__"
   ]
  },
  {
   "cell_type": "code",
   "execution_count": 3,
   "metadata": {},
   "outputs": [
    {
     "data": {
      "text/plain": [
       "'5.0.0'"
      ]
     },
     "execution_count": 3,
     "metadata": {},
     "output_type": "execute_result"
    }
   ],
   "source": [
    "__version__"
   ]
  },
  {
   "cell_type": "code",
   "execution_count": 4,
   "metadata": {},
   "outputs": [],
   "source": [
    "from plotly.offline import download_plotlyjs, init_notebook_mode, plot, iplot"
   ]
  },
  {
   "cell_type": "code",
   "execution_count": 5,
   "metadata": {},
   "outputs": [],
   "source": [
    "import cufflinks as cf"
   ]
  },
  {
   "cell_type": "code",
   "execution_count": 6,
   "metadata": {},
   "outputs": [
    {
     "data": {
      "text/html": [
       "        <script type=\"text/javascript\">\n",
       "        window.PlotlyConfig = {MathJaxConfig: 'local'};\n",
       "        if (window.MathJax) {MathJax.Hub.Config({SVG: {font: \"STIX-Web\"}});}\n",
       "        if (typeof require !== 'undefined') {\n",
       "        require.undef(\"plotly\");\n",
       "        requirejs.config({\n",
       "            paths: {\n",
       "                'plotly': ['https://cdn.plot.ly/plotly-2.1.0.min']\n",
       "            }\n",
       "        });\n",
       "        require(['plotly'], function(Plotly) {\n",
       "            window._Plotly = Plotly;\n",
       "        });\n",
       "        }\n",
       "        </script>\n",
       "        "
      ]
     },
     "metadata": {},
     "output_type": "display_data"
    }
   ],
   "source": [
    "# For Notebooks\n",
    "init_notebook_mode(connected=True)"
   ]
  },
  {
   "cell_type": "code",
   "execution_count": 7,
   "metadata": {},
   "outputs": [
    {
     "data": {
      "text/html": [
       "        <script type=\"text/javascript\">\n",
       "        window.PlotlyConfig = {MathJaxConfig: 'local'};\n",
       "        if (window.MathJax) {MathJax.Hub.Config({SVG: {font: \"STIX-Web\"}});}\n",
       "        if (typeof require !== 'undefined') {\n",
       "        require.undef(\"plotly\");\n",
       "        requirejs.config({\n",
       "            paths: {\n",
       "                'plotly': ['https://cdn.plot.ly/plotly-2.1.0.min']\n",
       "            }\n",
       "        });\n",
       "        require(['plotly'], function(Plotly) {\n",
       "            window._Plotly = Plotly;\n",
       "        });\n",
       "        }\n",
       "        </script>\n",
       "        "
      ]
     },
     "metadata": {},
     "output_type": "display_data"
    }
   ],
   "source": [
    "# For offline use\n",
    "cf.go_offline()"
   ]
  },
  {
   "cell_type": "code",
   "execution_count": 9,
   "metadata": {},
   "outputs": [
    {
     "data": {
      "text/plain": [
       "array([[-5.04571492e-01, -3.62621454e-02,  2.32692657e-01,\n",
       "        -6.52301476e-02],\n",
       "       [-1.44904434e+00, -1.31771135e+00, -2.03295456e-01,\n",
       "         4.03287745e-01],\n",
       "       [ 1.65098257e+00, -1.72203501e-01, -1.08208812e+00,\n",
       "        -2.30820647e-01],\n",
       "       [-4.35127052e-01,  6.95219320e-01,  2.32942821e+00,\n",
       "         1.68912222e+00],\n",
       "       [ 6.27492248e-01,  5.42379747e-01, -1.98940878e-01,\n",
       "         1.55207173e+00],\n",
       "       [-4.73631428e-01,  1.79448964e+00,  4.80781276e-01,\n",
       "        -1.44850384e-01],\n",
       "       [-4.73858099e-01,  6.48039479e-01, -6.96512490e-01,\n",
       "        -1.86175076e-01],\n",
       "       [-1.73964136e-02, -1.80856807e+00, -9.16166520e-02,\n",
       "         5.06635419e-01],\n",
       "       [-8.47352386e-01,  6.38267741e-01, -5.79527122e-01,\n",
       "         5.57479887e-01],\n",
       "       [-7.63163903e-01, -1.78127846e-01,  3.84427822e-01,\n",
       "        -9.11910201e-01],\n",
       "       [-4.61695488e-01,  1.41884094e+00, -1.07854975e+00,\n",
       "        -6.48428508e-02],\n",
       "       [ 1.08050134e+00,  1.11011919e+00,  1.02946824e+00,\n",
       "         1.04454570e+00],\n",
       "       [ 3.37869525e-01, -3.06503485e-01,  1.57777681e+00,\n",
       "         1.15847512e+00],\n",
       "       [-1.24754236e+00, -3.29031611e-02, -6.78552830e-01,\n",
       "         1.35565242e-01],\n",
       "       [ 9.25509558e-01,  1.70169987e+00, -6.10053238e-02,\n",
       "        -7.26233696e-01],\n",
       "       [-2.89073755e-01, -4.60886093e-01, -1.08155010e+00,\n",
       "         1.56496530e+00],\n",
       "       [ 9.15862334e-02, -1.03902687e+00, -8.65229691e-01,\n",
       "        -1.77133531e+00],\n",
       "       [ 1.35807590e+00, -7.19860471e-02, -8.66198142e-02,\n",
       "        -2.63897002e-01],\n",
       "       [ 7.74276275e-01, -5.65400658e-01, -8.65105107e-02,\n",
       "        -1.66001246e+00],\n",
       "       [ 3.56738019e-01,  1.29710066e+00, -9.76120404e-01,\n",
       "         1.26755818e+00],\n",
       "       [-3.32362815e-01,  2.04610243e+00,  3.28018947e-01,\n",
       "         1.80634363e+00],\n",
       "       [ 6.97809731e-01, -1.79343563e+00, -2.34503571e+00,\n",
       "        -3.33380992e-01],\n",
       "       [ 8.60178111e-01,  1.38303949e-01,  2.06088558e+00,\n",
       "         9.73441391e-01],\n",
       "       [ 4.19006345e-01,  1.88134716e+00,  9.03585752e-02,\n",
       "        -2.20387365e-01],\n",
       "       [-4.16652463e-01,  1.90829887e-01, -3.84306615e-01,\n",
       "        -4.96130279e-01],\n",
       "       [ 2.59071992e-01,  1.19185374e+00,  3.77192445e-01,\n",
       "         9.51381248e-01],\n",
       "       [-4.32029867e-01, -1.59914810e-01, -1.29341794e+00,\n",
       "        -1.00024038e+00],\n",
       "       [-5.70741149e-01,  1.04380917e+00,  7.49011652e-01,\n",
       "         8.05744956e-01],\n",
       "       [-5.23457103e-01,  2.18489823e-01,  1.45959721e+00,\n",
       "         1.34627542e+00],\n",
       "       [ 3.60430349e-01, -6.91023103e-01, -1.42409588e+00,\n",
       "         2.31230136e-01],\n",
       "       [-1.95486807e-03,  5.21262817e-01, -5.49012061e-01,\n",
       "         1.74636449e+00],\n",
       "       [-1.17886050e+00, -6.96660757e-02,  1.30258059e+00,\n",
       "         1.88076086e+00],\n",
       "       [ 2.71158381e-01,  7.26734028e-01,  1.27551590e+00,\n",
       "         1.78456455e+00],\n",
       "       [-1.07287920e-01,  7.35965520e-01, -1.14252363e+00,\n",
       "         1.56950222e+00],\n",
       "       [-1.06511974e+00,  1.22601376e-01,  7.28283468e-01,\n",
       "        -1.40146515e+00],\n",
       "       [ 1.10416569e+00, -7.91063784e-01, -5.55824675e-01,\n",
       "        -7.77939665e-01],\n",
       "       [-2.20435994e+00,  1.58309703e+00, -8.22180570e-01,\n",
       "         3.64360024e-02],\n",
       "       [-1.41899695e+00, -5.15950412e-01, -1.37313202e+00,\n",
       "         4.29234292e-01],\n",
       "       [-1.35263291e-01,  5.32537935e-02,  4.96641020e-01,\n",
       "        -3.52343766e-01],\n",
       "       [-7.98650329e-02,  3.27812930e-01, -7.62680195e-01,\n",
       "        -7.66413285e-01],\n",
       "       [ 1.78603069e-01, -2.50218058e-01, -5.36558295e-01,\n",
       "         6.06762186e-01],\n",
       "       [ 1.17723754e-01, -1.64329612e+00, -2.64901539e-01,\n",
       "         1.76469716e+00],\n",
       "       [ 1.85668153e-02, -1.08100214e-01,  7.16210525e-01,\n",
       "         6.78842865e-01],\n",
       "       [-4.53727764e-01,  3.89282639e-01, -3.90588457e-01,\n",
       "         1.58250302e+00],\n",
       "       [-3.42064300e-01, -1.06865449e+00, -1.40995003e+00,\n",
       "        -8.31362146e-01],\n",
       "       [ 1.95283597e-01, -1.77988811e+00, -1.04836532e+00,\n",
       "         8.68045947e-01],\n",
       "       [ 4.86785246e-01,  9.57688391e-01,  2.97895476e-01,\n",
       "        -3.72268057e-02],\n",
       "       [ 7.25064022e-01, -9.20235620e-01, -1.26743320e+00,\n",
       "        -7.03270842e-02],\n",
       "       [ 4.35565778e-01,  7.49451654e-01, -1.87879332e+00,\n",
       "         6.79002089e-01],\n",
       "       [-9.73156916e-01,  8.67664463e-02,  7.00244997e-01,\n",
       "         4.10033409e-02],\n",
       "       [-2.71906234e-01, -1.40756158e+00,  1.89018870e+00,\n",
       "         7.92448043e-01],\n",
       "       [-1.51528360e-01, -3.83186715e-01,  1.23655019e-01,\n",
       "        -1.10234274e+00],\n",
       "       [ 1.96380367e+00, -8.25323806e-01,  1.72753692e+00,\n",
       "         1.11171856e+00],\n",
       "       [-9.87029835e-01, -1.66811762e+00,  4.51757410e-01,\n",
       "        -4.01086180e-01],\n",
       "       [ 6.09095262e-01,  9.74759332e-01,  8.80538703e-01,\n",
       "        -1.01836456e+00],\n",
       "       [ 3.56259628e-01,  4.75595006e-01,  6.30750780e-01,\n",
       "         6.32978208e-01],\n",
       "       [-3.61928525e-01, -5.56759880e-01,  1.20878978e+00,\n",
       "         6.39154402e-01],\n",
       "       [-6.18876387e-03, -3.29698889e-01, -1.16641818e+00,\n",
       "         5.51041393e-01],\n",
       "       [ 7.65933094e-02, -8.21886998e-01,  2.28745263e+00,\n",
       "        -5.70723764e-01],\n",
       "       [-1.11180543e-01, -1.58204716e+00, -6.53635623e-01,\n",
       "         1.41910342e+00],\n",
       "       [-1.17135928e+00,  6.25415033e-01, -1.70616541e-02,\n",
       "        -8.64191340e-02],\n",
       "       [ 1.74009830e+00,  1.30438339e+00, -1.72710025e-01,\n",
       "        -1.26383527e+00],\n",
       "       [-7.97679554e-01,  1.35875948e-01, -4.37695529e-01,\n",
       "         1.14464557e+00],\n",
       "       [ 1.25060622e+00,  5.82226694e-01, -9.50331579e-03,\n",
       "        -8.83680014e-01],\n",
       "       [ 2.04154774e+00,  1.45538401e+00, -3.71542842e-01,\n",
       "         8.56399542e-01],\n",
       "       [ 2.90815515e-01,  1.11058828e+00, -8.87502837e-01,\n",
       "        -8.36580660e-01],\n",
       "       [ 1.11048924e+00,  1.35223848e+00, -6.66018225e-01,\n",
       "        -6.01817925e-01],\n",
       "       [-7.84988127e-01, -2.95208444e-01, -1.13948446e+00,\n",
       "         3.80215722e-02],\n",
       "       [-9.41643582e-01, -4.54753764e-01, -2.43688633e+00,\n",
       "         3.17229891e-01],\n",
       "       [ 4.77453863e-01,  8.64078497e-01, -7.99264066e-01,\n",
       "        -1.28690108e+00],\n",
       "       [-1.67441558e+00, -2.09810593e-01, -6.88641677e-02,\n",
       "        -1.33901775e+00],\n",
       "       [ 1.31787057e+00,  2.87763280e+00,  8.13067587e-02,\n",
       "        -6.01995536e-01],\n",
       "       [ 3.34242639e-01, -3.35864240e-01, -3.39220984e-01,\n",
       "        -1.80820968e-01],\n",
       "       [ 8.54543274e-01, -2.35642278e-02, -9.67465074e-01,\n",
       "         9.62330929e-01],\n",
       "       [-5.96560109e-01, -1.26950330e+00, -1.66479997e-01,\n",
       "        -2.11338325e+00],\n",
       "       [-5.34363180e-01, -2.43594575e+00, -4.44586930e-01,\n",
       "         1.14976348e+00],\n",
       "       [ 7.97256426e-01,  1.82728766e+00,  6.49576597e-01,\n",
       "         1.15281120e+00],\n",
       "       [-9.43241574e-01,  1.07247787e+00, -9.07112892e-01,\n",
       "         1.00747151e+00],\n",
       "       [-1.76470523e-02,  5.35491373e-01,  1.26293542e+00,\n",
       "        -3.86231161e-01],\n",
       "       [-8.30947744e-01,  4.60223935e-01,  9.51615934e-02,\n",
       "         1.14541551e-01],\n",
       "       [-7.00452281e-01,  1.76359224e-01,  1.64024007e+00,\n",
       "         8.32307411e-01],\n",
       "       [-8.42530714e-02, -4.31188121e-01, -1.78437392e+00,\n",
       "         2.58303904e-01],\n",
       "       [-9.67826073e-01, -1.03513228e+00, -5.80998574e-01,\n",
       "         2.76158889e-02],\n",
       "       [-1.36104480e-01, -7.02633590e-01,  7.36232903e-01,\n",
       "         3.75852992e-01],\n",
       "       [ 6.93285335e-01, -1.33936003e+00, -4.63835307e-01,\n",
       "        -1.05360029e+00],\n",
       "       [-2.57960455e+00,  1.78768886e-01, -1.23375013e+00,\n",
       "        -5.18429039e-01],\n",
       "       [-8.51885603e-01,  8.02698782e-01, -5.05385524e-02,\n",
       "        -1.76225302e+00],\n",
       "       [ 1.96370993e-01, -6.67134973e-01,  1.46260424e+00,\n",
       "        -9.68037889e-02],\n",
       "       [ 1.31364251e+00, -4.78392826e-01, -1.75901253e+00,\n",
       "        -2.69547106e-01],\n",
       "       [ 2.18068584e+00,  2.46799912e-01, -8.53436221e-01,\n",
       "         1.15376580e+00],\n",
       "       [-2.55456818e-01,  1.83034886e+00, -6.01485810e-01,\n",
       "        -8.17658894e-01],\n",
       "       [-1.33534963e+00, -3.07494969e-01, -8.93360793e-01,\n",
       "        -3.14518528e-01],\n",
       "       [-1.60197248e+00,  2.95690364e-01,  8.62683448e-01,\n",
       "         1.52264927e-01],\n",
       "       [-1.14671796e+00,  1.19711263e+00,  1.48134881e+00,\n",
       "        -4.96914069e-01],\n",
       "       [ 1.63573528e+00, -1.15168262e+00,  1.81891065e+00,\n",
       "         9.22450417e-01],\n",
       "       [ 1.40982269e+00,  7.71968011e-01, -8.47029070e-01,\n",
       "        -4.24534865e-01],\n",
       "       [-1.31634326e+00,  6.55212898e-01, -9.73036798e-01,\n",
       "         2.56167308e-01],\n",
       "       [ 8.92945495e-01,  2.03282851e+00,  8.45599729e-01,\n",
       "        -1.24761301e+00],\n",
       "       [ 5.83742411e-01,  8.69367078e-01, -2.99869776e-01,\n",
       "        -7.03153888e-01],\n",
       "       [ 6.39313506e-01, -7.54603441e-01, -4.04777028e-01,\n",
       "        -6.27828292e-01]])"
      ]
     },
     "execution_count": 9,
     "metadata": {},
     "output_type": "execute_result"
    }
   ],
   "source": [
    "np.random.randn(100,4)"
   ]
  },
  {
   "cell_type": "code",
   "execution_count": 10,
   "metadata": {},
   "outputs": [],
   "source": [
    "df=pd.DataFrame(data=np.random.randn(100,4),columns=[\"A\",\"B\",\"C\",\"D\"])"
   ]
  },
  {
   "cell_type": "code",
   "execution_count": 11,
   "metadata": {},
   "outputs": [
    {
     "data": {
      "text/plain": [
       "<matplotlib.axes._subplots.AxesSubplot at 0x1245cb50>"
      ]
     },
     "execution_count": 11,
     "metadata": {},
     "output_type": "execute_result"
    },
    {
     "data": {
      "image/png": "[encoded data removed]",
      "text/plain": [
       "<Figure size 432x288 with 1 Axes>"
      ]
     },
     "metadata": {
      "needs_background": "light"
     },
     "output_type": "display_data"
    }
   ],
   "source": [
    "df.plot()"
   ]
  },
  {
   "cell_type": "code",
   "execution_count": 13,
   "metadata": {},
   "outputs": [
    {
     "data": {
      "application/vnd.plotly.v1+json": {
       "config": {
        "linkText": "Export to plot.ly",
        "plotlyServerURL": "https://plot.ly",
        "showLink": true
       },
       "data": [
        {
         "line": {
          "color": "rgba(255, 153, 51, 1.0)",
          "dash": "solid",
          "shape": "linear",
          "width": 1.3
         },
         "mode": "lines",
         "name": "A",
         "text": "",
         "type": "scatter",
         "x": [
          0,
          1,
          2,
          3,
          4,
          5,
          6,
          7,
          8,
          9,
          10,
          11,
          12,
          13,
          14,
          15,
          16,
          17,
          18,
          19,
          20,
          21,
          22,
          23,
          24,
          25,
          26,
          27,
          28,
          29,
          30,
          31,
          32,
          33,
          34,
          35,
          36,
          37,
          38,
          39,
          40,
          41,
          42,
          43,
          44,
          45,
          46,
          47,
          48,
          49,
          50,
          51,
          52,
          53,
          54,
          55,
          56,
          57,
          58,
          59,
          60,
          61,
          62,
          63,
          64,
          65,
          66,
          67,
          68,
          69,
          70,
          71,
          72,
          73,
          74,
          75,
          76,
          77,
          78,
          79,
          80,
          81,
          82,
          83,
          84,
          85,
          86,
          87,
          88,
          89,
          90,
          91,
          92,
          93,
          94,
          95,
          96,
          97,
          98,
          99
         ],
         "y": [
          0.1677295974771182,
          -1.7872681686554974,
          0.5693402667655553,
          -1.0046056144579998,
          -1.566005297545977,
          0.464941956949439,
          -0.7301285902505179,
          -0.00770207525387605,
          -0.645384270852266,
          1.1819510278134386,
          -1.5185658054222233,
          -2.9230065372765437,
          -1.257203979597962,
          0.001433421201918124,
          -0.9768940913076974,
          0.1179172817005367,
          -0.30219704920914753,
          -0.22799624179659062,
          0.42022435518638906,
          0.7800228959921974,
          -2.500597164278015,
          -0.3869411011485532,
          1.2395743425887107,
          -1.3795717919376353,
          0.28054626672134375,
          0.22869181471788713,
          -0.6162944867083039,
          -0.7682547900438489,
          -2.5081079586290134,
          1.8294602266781177,
          1.0365707622550122,
          1.395225294932962,
          0.08329047798807905,
          -2.04420582060628,
          -1.0450001438558367,
          -0.14678432354701856,
          1.161916732719901,
          -1.3694720067128212,
          1.1544321155912671,
          -1.283350277145768,
          1.3096660691924171,
          -0.20718454997550748,
          0.25621064804127797,
          0.4554234136722749,
          1.7767178990519135,
          0.8592311126248331,
          2.5283202542788517,
          0.07744736277965077,
          -0.6305428387429659,
          1.4344311195291177,
          -1.149025853632118,
          0.4373549109868916,
          0.23275769234795282,
          0.6684409383813985,
          -0.5668415540630822,
          0.4266231201574942,
          -0.681942960128727,
          0.5992798444781142,
          0.08868419039714577,
          -0.7666801778055945,
          -0.6111983232775987,
          -0.4875029233695006,
          -0.5962535960824918,
          0.789602717306651,
          1.0383750947755768,
          0.034220852098314714,
          -0.9780068742316993,
          0.1267182332850658,
          -0.7021741140029867,
          0.8190741680262112,
          -0.6013408433352899,
          1.2571523443041692,
          0.8186441656768574,
          -0.24796367135153904,
          -0.27136153725087364,
          0.801612237017389,
          -0.48793171434477406,
          0.3588668976833291,
          -0.6055736712667737,
          0.7528031288096263,
          -0.20306412385987466,
          -0.20516587792133717,
          -0.8624158526611833,
          -1.1014615260411138,
          -1.5707540382142438,
          -0.2497834507348051,
          0.04473897694772401,
          -0.2365835008816788,
          -0.10061720104210659,
          -1.5945749924448704,
          -0.04604438152714954,
          0.7363827075726151,
          -0.5217823192653754,
          0.9395243400826574,
          0.7343483258925377,
          0.6514730776072053,
          -0.21880390918346657,
          0.35967499409368486,
          -0.03144010358228288,
          0.7336108936016698
         ]
        },
        {
         "line": {
          "color": "rgba(55, 128, 191, 1.0)",
          "dash": "solid",
          "shape": "linear",
          "width": 1.3
         },
         "mode": "lines",
         "name": "B",
         "text": "",
         "type": "scatter",
         "x": [
          0,
          1,
          2,
          3,
          4,
          5,
          6,
          7,
          8,
          9,
          10,
          11,
          12,
          13,
          14,
          15,
          16,
          17,
          18,
          19,
          20,
          21,
          22,
          23,
          24,
          25,
          26,
          27,
          28,
          29,
          30,
          31,
          32,
          33,
          34,
          35,
          36,
          37,
          38,
          39,
          40,
          41,
          42,
          43,
          44,
          45,
          46,
          47,
          48,
          49,
          50,
          51,
          52,
          53,
          54,
          55,
          56,
          57,
          58,
          59,
          60,
          61,
          62,
          63,
          64,
          65,
          66,
          67,
          68,
          69,
          70,
          71,
          72,
          73,
          74,
          75,
          76,
          77,
          78,
          79,
          80,
          81,
          82,
          83,
          84,
          85,
          86,
          87,
          88,
          89,
          90,
          91,
          92,
          93,
          94,
          95,
          96,
          97,
          98,
          99
         ],
         "y": [
          1.567435203794548,
          0.5573052784883733,
          1.6831238256491807,
          1.0693008020256034,
          1.4602767496480706,
          0.8402880102586139,
          -0.5133259950430152,
          0.23145053238400348,
          0.10931525972312732,
          0.34538604740628476,
          -0.3088737256167502,
          0.9840374749172404,
          0.2884996279189267,
          1.1054302169366281,
          0.540789376561366,
          -0.48340256189418435,
          -0.8409961690202551,
          -2.0362060723456192,
          0.05219836719792028,
          -0.7129725193068858,
          1.497614976600417,
          -0.642083384742269,
          -0.24781293138397187,
          -1.2341566561368085,
          0.4579690402036922,
          0.35143375271504224,
          1.2858325567819626,
          -1.1983173000149776,
          0.5252332133516171,
          -1.0384627570578455,
          1.4335364525369116,
          -1.4584868023197477,
          0.36410949339914134,
          0.9332378000717362,
          0.5599432122308636,
          0.31737738042043806,
          1.8546681640315847,
          1.591575151429714,
          0.6919581271350529,
          -0.4100537207639501,
          -0.8947405934515628,
          1.0955188651989451,
          0.6030233636588795,
          -0.6732100994866114,
          0.3736811631937215,
          2.231836210849512,
          0.8859658233966378,
          0.016409020563769274,
          0.3960782581084781,
          0.33587752498392603,
          -1.4593156041646016,
          0.38347118884821224,
          1.1169667527529703,
          -0.6027172890947485,
          0.015130853727107539,
          -0.16994123916094722,
          -0.02135485402617079,
          -1.0581529789295512,
          -0.1431989041223105,
          0.18078518058547607,
          -0.11581367700884548,
          0.6459135482357761,
          -0.2757475394889642,
          -1.6032453335261103,
          -1.9950806765893105,
          -0.95953336891002,
          -0.36786369125200574,
          0.63181179906116,
          1.7965595599066055,
          0.8753425245476085,
          -0.09383809935906517,
          -0.29776189426005345,
          -1.0523020419953022,
          -0.4645563791700555,
          -1.574217751501877,
          0.1362097487639466,
          0.5460935657326523,
          1.0279791086133334,
          1.3489282088242258,
          -0.023968790286700403,
          0.6247889411923466,
          0.308952838535365,
          -0.29086174333278536,
          0.8254760581813883,
          -0.8433956702342965,
          -0.5069458272536179,
          0.3075054846311606,
          0.7647520946893848,
          -1.0033303895541608,
          -0.18050225685933538,
          0.2496701008157766,
          -1.1832817387110397,
          1.5731768811124753,
          -1.1649769968833978,
          -0.2648973828682833,
          -1.0206046462607217,
          -1.2638406846675438,
          -1.699340451563812,
          -0.14373680823001478,
          0.3183789633812421
         ]
        },
        {
         "line": {
          "color": "rgba(50, 171, 96, 1.0)",
          "dash": "solid",
          "shape": "linear",
          "width": 1.3
         },
         "mode": "lines",
         "name": "C",
         "text": "",
         "type": "scatter",
         "x": [
          0,
          1,
          2,
          3,
          4,
          5,
          6,
          7,
          8,
          9,
          10,
          11,
          12,
          13,
          14,
          15,
          16,
          17,
          18,
          19,
          20,
          21,
          22,
          23,
          24,
          25,
          26,
          27,
          28,
          29,
          30,
          31,
          32,
          33,
          34,
          35,
          36,
          37,
          38,
          39,
          40,
          41,
          42,
          43,
          44,
          45,
          46,
          47,
          48,
          49,
          50,
          51,
          52,
          53,
          54,
          55,
          56,
          57,
          58,
          59,
          60,
          61,
          62,
          63,
          64,
          65,
          66,
          67,
          68,
          69,
          70,
          71,
          72,
          73,
          74,
          75,
          76,
          77,
          78,
          79,
          80,
          81,
          82,
          83,
          84,
          85,
          86,
          87,
          88,
          89,
          90,
          91,
          92,
          93,
          94,
          95,
          96,
          97,
          98,
          99
         ],
         "y": [
          -0.033600120399947954,
          -1.080173103052817,
          0.15843064185613792,
          0.726737628080052,
          0.05134475921993425,
          -1.6018887113213285,
          0.9763537415033974,
          -0.005183597043583913,
          -0.8593091319233954,
          0.5537105388602563,
          -1.359067451191773,
          0.8240144479847009,
          0.502671932005671,
          0.4686116599937991,
          0.2930179438336649,
          -0.41835212156696566,
          -0.4460766667500231,
          -0.3239973469836084,
          0.5245903533947486,
          -1.5317249957205283,
          -1.0764613853828366,
          0.01555199339213199,
          1.0596958862648547,
          1.0760706977146604,
          -1.3907097452118882,
          1.350351943193093,
          1.773501431986023,
          -0.2842568244608287,
          0.8011388241425679,
          -0.5920345884541166,
          -1.3790688131491657,
          -0.646527809446386,
          0.011901869969752355,
          0.2513078152326311,
          -1.0095100672299833,
          1.0324837446636166,
          1.2399703615384126,
          -1.723745213177883,
          -0.7491205572079676,
          -0.4724147314159308,
          -0.4087053509261581,
          0.7057581203453629,
          2.0173365234122578,
          0.3519420335168349,
          -0.378234025782966,
          -1.136302932430963,
          -1.2209406581681241,
          0.313783919534806,
          -0.08888643520611383,
          0.880251840969089,
          -0.27726069882379295,
          0.40185835838247524,
          -1.6133878190077233,
          -1.0631259409573095,
          1.177302014159795,
          -0.4020147569226186,
          -1.042558349355566,
          0.5151772733031954,
          0.9079335723606904,
          -0.39650560906331894,
          -0.7711143270165248,
          0.31947032435682376,
          -2.2806892914912376,
          -1.4383915317122278,
          0.8833166142637999,
          -0.3191495282389241,
          -0.7837839370757361,
          -1.1719117425466632,
          -1.1462758596578184,
          -0.9465562832511951,
          0.0045557510286444915,
          0.6824230191292353,
          0.16251975463702018,
          0.043398357709335415,
          0.2167992735051436,
          1.4569168032293625,
          -0.960670232123432,
          -0.09218844811216233,
          -0.17656333163427956,
          0.25141784780289156,
          -0.4619997659383615,
          0.520716596868806,
          -0.8720678546343096,
          1.0332088820896166,
          1.2324788805474436,
          1.5879391962876657,
          0.31889295338649226,
          1.8108396065702987,
          -1.51574729179147,
          0.06297492131483665,
          0.06008190713713387,
          0.5123180933174598,
          0.36897113584474817,
          0.6550519443149155,
          0.1355601196583871,
          -1.3640861110419114,
          0.7188720087470418,
          0.6965277751976363,
          -0.2598491658698001,
          -0.3176026532899697
         ]
        },
        {
         "line": {
          "color": "rgba(128, 0, 128, 1.0)",
          "dash": "solid",
          "shape": "linear",
          "width": 1.3
         },
         "mode": "lines",
         "name": "D",
         "text": "",
         "type": "scatter",
         "x": [
          0,
          1,
          2,
          3,
          4,
          5,
          6,
          7,
          8,
          9,
          10,
          11,
          12,
          13,
          14,
          15,
          16,
          17,
          18,
          19,
          20,
          21,
          22,
          23,
          24,
          25,
          26,
          27,
          28,
          29,
          30,
          31,
          32,
          33,
          34,
          35,
          36,
          37,
          38,
          39,
          40,
          41,
          42,
          43,
          44,
          45,
          46,
          47,
          48,
          49,
          50,
          51,
          52,
          53,
          54,
          55,
          56,
          57,
          58,
          59,
          60,
          61,
          62,
          63,
          64,
          65,
          66,
          67,
          68,
          69,
          70,
          71,
          72,
          73,
          74,
          75,
          76,
          77,
          78,
          79,
          80,
          81,
          82,
          83,
          84,
          85,
          86,
          87,
          88,
          89,
          90,
          91,
          92,
          93,
          94,
          95,
          96,
          97,
          98,
          99
         ],
         "y": [
          -2.176461679374626,
          1.056463040129513,
          -0.5815782509347535,
          -1.4531100076837522,
          0.5791697765958975,
          -0.3406330724022535,
          -0.12325836124893487,
          1.0748116304095103,
          -0.10905118577839748,
          0.6518814856047164,
          -0.6466801487669083,
          -0.7717647570816459,
          -0.03519057315511924,
          -2.1959029341857046,
          -0.5729690599720317,
          0.7952524438465477,
          0.10148167808540003,
          -1.6129589337321573,
          -0.3236842244740675,
          -0.5315344305139946,
          -0.11364368200412962,
          0.37664746959864903,
          -0.41270426364299984,
          0.24625592425978718,
          -1.122856312946248,
          1.3675866974149253,
          -0.3958166214817183,
          -0.6427014824288048,
          1.0522858673414328,
          1.1575642681841303,
          -1.4527282324432211,
          -0.414160898946422,
          -1.1731642266148459,
          -0.4368501141644954,
          -0.829714680972254,
          -0.22013529513689092,
          0.19259459722546737,
          0.20593221673733553,
          -0.5600032391365798,
          0.3301314638746017,
          -0.5529201546325127,
          -0.5806740447199947,
          -0.894276649529487,
          0.39939996582732196,
          -0.6371145460796107,
          1.2736442669804808,
          -0.57350950853774,
          -0.2584910588471825,
          0.6490232061221145,
          0.41242255367918823,
          0.25726224418708116,
          0.9911708011965187,
          0.5072726887975598,
          -0.16045379205231644,
          0.04461639952600274,
          0.6216226550030862,
          1.783862411840752,
          0.5826940231295298,
          1.8421202591283043,
          -0.2988762430712268,
          -0.9057070584687866,
          0.679446631158942,
          1.1158664619128216,
          1.5247905982667886,
          0.795707279922195,
          -0.3479322372747578,
          0.04695880895459405,
          0.514073180434789,
          0.827138503146773,
          0.4193857032556513,
          -0.7190363787544634,
          0.06490165269183075,
          -0.542073851809334,
          1.1943987271917096,
          0.9798847371414087,
          -0.23839457323456772,
          -0.21443423751153712,
          -0.8857954282410218,
          -1.0640968211670048,
          -0.4131696693291577,
          -0.6778371500989281,
          -1.1345698539608493,
          -0.9552168758096323,
          1.9446542178664608,
          -1.541168062269582,
          -1.2360777455326353,
          0.8804695639267682,
          1.9800139907315033,
          -0.32890878946092456,
          0.3603796519273215,
          -0.22830759300794998,
          2.8454077637181476,
          0.22547121659796893,
          1.4516716494630302,
          0.7267499552617944,
          -1.2536840784885543,
          -0.577660025523696,
          -0.5344688801554291,
          0.8312159109437165,
          -0.10230312235220843
         ]
        }
       ],
       "layout": {
        "legend": {
         "bgcolor": "#F5F6F9",
         "font": {
          "color": "#4D5663"
         }
        },
        "paper_bgcolor": "#F5F6F9",
        "plot_bgcolor": "#F5F6F9",
        "template": {
         "data": {
          "bar": [
           {
            "error_x": {
             "color": "#2a3f5f"
            },
            "error_y": {
             "color": "#2a3f5f"
            },
            "marker": {
             "line": {
              "color": "#E5ECF6",
              "width": 0.5
             },
             "pattern": {
              "fillmode": "overlay",
              "size": 10,
              "solidity": 0.2
             }
            },
            "type": "bar"
           }
          ],
          "barpolar": [
           {
            "marker": {
             "line": {
              "color": "#E5ECF6",
              "width": 0.5
             },
             "pattern": {
              "fillmode": "overlay",
              "size": 10,
              "solidity": 0.2
             }
            },
            "type": "barpolar"
           }
          ],
          "carpet": [
           {
            "aaxis": {
             "endlinecolor": "#2a3f5f",
             "gridcolor": "white",
             "linecolor": "white",
             "minorgridcolor": "white",
             "startlinecolor": "#2a3f5f"
            },
            "baxis": {
             "endlinecolor": "#2a3f5f",
             "gridcolor": "white",
             "linecolor": "white",
             "minorgridcolor": "white",
             "startlinecolor": "#2a3f5f"
            },
            "type": "carpet"
           }
          ],
          "choropleth": [
           {
            "colorbar": {
             "outlinewidth": 0,
             "ticks": ""
            },
            "type": "choropleth"
           }
          ],
          "contour": [
           {
            "colorbar": {
             "outlinewidth": 0,
             "ticks": ""
            },
            "colorscale": [
             [
              0,
              "#0d0887"
             ],
             [
              0.1111111111111111,
              "#46039f"
             ],
             [
              0.2222222222222222,
              "#7201a8"
             ],
             [
              0.3333333333333333,
              "#9c179e"
             ],
             [
              0.4444444444444444,
              "#bd3786"
             ],
             [
              0.5555555555555556,
              "#d8576b"
             ],
             [
              0.6666666666666666,
              "#ed7953"
             ],
             [
              0.7777777777777778,
              "#fb9f3a"
             ],
             [
              0.8888888888888888,
              "#fdca26"
             ],
             [
              1,
              "#f0f921"
             ]
            ],
            "type": "contour"
           }
          ],
          "contourcarpet": [
           {
            "colorbar": {
             "outlinewidth": 0,
             "ticks": ""
            },
            "type": "contourcarpet"
           }
          ],
          "heatmap": [
           {
            "colorbar": {
             "outlinewidth": 0,
             "ticks": ""
            },
            "colorscale": [
             [
              0,
              "#0d0887"
             ],
             [
              0.1111111111111111,
              "#46039f"
             ],
             [
              0.2222222222222222,
              "#7201a8"
             ],
             [
              0.3333333333333333,
              "#9c179e"
             ],
             [
              0.4444444444444444,
              "#bd3786"
             ],
             [
              0.5555555555555556,
              "#d8576b"
             ],
             [
              0.6666666666666666,
              "#ed7953"
             ],
             [
              0.7777777777777778,
              "#fb9f3a"
             ],
             [
              0.8888888888888888,
              "#fdca26"
             ],
             [
              1,
              "#f0f921"
             ]
            ],
            "type": "heatmap"
           }
          ],
          "heatmapgl": [
           {
            "colorbar": {
             "outlinewidth": 0,
             "ticks": ""
            },
            "colorscale": [
             [
              0,
              "#0d0887"
             ],
             [
              0.1111111111111111,
              "#46039f"
             ],
             [
              0.2222222222222222,
              "#7201a8"
             ],
             [
              0.3333333333333333,
              "#9c179e"
             ],
             [
              0.4444444444444444,
              "#bd3786"
             ],
             [
              0.5555555555555556,
              "#d8576b"
             ],
             [
              0.6666666666666666,
              "#ed7953"
             ],
             [
              0.7777777777777778,
              "#fb9f3a"
             ],
             [
              0.8888888888888888,
              "#fdca26"
             ],
             [
              1,
              "#f0f921"
             ]
            ],
            "type": "heatmapgl"
           }
          ],
          "histogram": [
           {
            "marker": {
             "pattern": {
              "fillmode": "overlay",
              "size": 10,
              "solidity": 0.2
             }
            },
            "type": "histogram"
           }
          ],
          "histogram2d": [
           {
            "colorbar": {
             "outlinewidth": 0,
             "ticks": ""
            },
            "colorscale": [
             [
              0,
              "#0d0887"
             ],
             [
              0.1111111111111111,
              "#46039f"
             ],
             [
              0.2222222222222222,
              "#7201a8"
             ],
             [
              0.3333333333333333,
              "#9c179e"
             ],
             [
              0.4444444444444444,
              "#bd3786"
             ],
             [
              0.5555555555555556,
              "#d8576b"
             ],
             [
              0.6666666666666666,
              "#ed7953"
             ],
             [
              0.7777777777777778,
              "#fb9f3a"
             ],
             [
              0.8888888888888888,
              "#fdca26"
             ],
             [
              1,
              "#f0f921"
             ]
            ],
            "type": "histogram2d"
           }
          ],
          "histogram2dcontour": [
           {
            "colorbar": {
             "outlinewidth": 0,
             "ticks": ""
            },
            "colorscale": [
             [
              0,
              "#0d0887"
             ],
             [
              0.1111111111111111,
              "#46039f"
             ],
             [
              0.2222222222222222,
              "#7201a8"
             ],
             [
              0.3333333333333333,
              "#9c179e"
             ],
             [
              0.4444444444444444,
              "#bd3786"
             ],
             [
              0.5555555555555556,
              "#d8576b"
             ],
             [
              0.6666666666666666,
              "#ed7953"
             ],
             [
              0.7777777777777778,
              "#fb9f3a"
             ],
             [
              0.8888888888888888,
              "#fdca26"
             ],
             [
              1,
              "#f0f921"
             ]
            ],
            "type": "histogram2dcontour"
           }
          ],
          "mesh3d": [
           {
            "colorbar": {
             "outlinewidth": 0,
             "ticks": ""
            },
            "type": "mesh3d"
           }
          ],
          "parcoords": [
           {
            "line": {
             "colorbar": {
              "outlinewidth": 0,
              "ticks": ""
             }
            },
            "type": "parcoords"
           }
          ],
          "pie": [
           {
            "automargin": true,
            "type": "pie"
           }
          ],
          "scatter": [
           {
            "marker": {
             "colorbar": {
              "outlinewidth": 0,
              "ticks": ""
             }
            },
            "type": "scatter"
           }
          ],
          "scatter3d": [
           {
            "line": {
             "colorbar": {
              "outlinewidth": 0,
              "ticks": ""
             }
            },
            "marker": {
             "colorbar": {
              "outlinewidth": 0,
              "ticks": ""
             }
            },
            "type": "scatter3d"
           }
          ],
          "scattercarpet": [
           {
            "marker": {
             "colorbar": {
              "outlinewidth": 0,
              "ticks": ""
             }
            },
            "type": "scattercarpet"
           }
          ],
          "scattergeo": [
           {
            "marker": {
             "colorbar": {
              "outlinewidth": 0,
              "ticks": ""
             }
            },
            "type": "scattergeo"
           }
          ],
          "scattergl": [
           {
            "marker": {
             "colorbar": {
              "outlinewidth": 0,
              "ticks": ""
             }
            },
            "type": "scattergl"
           }
          ],
          "scattermapbox": [
           {
            "marker": {
             "colorbar": {
              "outlinewidth": 0,
              "ticks": ""
             }
            },
            "type": "scattermapbox"
           }
          ],
          "scatterpolar": [
           {
            "marker": {
             "colorbar": {
              "outlinewidth": 0,
              "ticks": ""
             }
            },
            "type": "scatterpolar"
           }
          ],
          "scatterpolargl": [
           {
            "marker": {
             "colorbar": {
              "outlinewidth": 0,
              "ticks": ""
             }
            },
            "type": "scatterpolargl"
           }
          ],
          "scatterternary": [
           {
            "marker": {
             "colorbar": {
              "outlinewidth": 0,
              "ticks": ""
             }
            },
            "type": "scatterternary"
           }
          ],
          "surface": [
           {
            "colorbar": {
             "outlinewidth": 0,
             "ticks": ""
            },
            "colorscale": [
             [
              0,
              "#0d0887"
             ],
             [
              0.1111111111111111,
              "#46039f"
             ],
             [
              0.2222222222222222,
              "#7201a8"
             ],
             [
              0.3333333333333333,
              "#9c179e"
             ],
             [
              0.4444444444444444,
              "#bd3786"
             ],
             [
              0.5555555555555556,
              "#d8576b"
             ],
             [
              0.6666666666666666,
              "#ed7953"
             ],
             [
              0.7777777777777778,
              "#fb9f3a"
             ],
             [
              0.8888888888888888,
              "#fdca26"
             ],
             [
              1,
              "#f0f921"
             ]
            ],
            "type": "surface"
           }
          ],
          "table": [
           {
            "cells": {
             "fill": {
              "color": "#EBF0F8"
             },
             "line": {
              "color": "white"
             }
            },
            "header": {
             "fill": {
              "color": "#C8D4E3"
             },
             "line": {
              "color": "white"
             }
            },
            "type": "table"
           }
          ]
         },
         "layout": {
          "annotationdefaults": {
           "arrowcolor": "#2a3f5f",
           "arrowhead": 0,
           "arrowwidth": 1
          },
          "autotypenumbers": "strict",
          "coloraxis": {
           "colorbar": {
            "outlinewidth": 0,
            "ticks": ""
           }
          },
          "colorscale": {
           "diverging": [
            [
             0,
             "#8e0152"
            ],
            [
             0.1,
             "#c51b7d"
            ],
            [
             0.2,
             "#de77ae"
            ],
            [
             0.3,
             "#f1b6da"
            ],
            [
             0.4,
             "#fde0ef"
            ],
            [
             0.5,
             "#f7f7f7"
            ],
            [
             0.6,
             "#e6f5d0"
            ],
            [
             0.7,
             "#b8e186"
            ],
            [
             0.8,
             "#7fbc41"
            ],
            [
             0.9,
             "#4d9221"
            ],
            [
             1,
             "#276419"
            ]
           ],
           "sequential": [
            [
             0,
             "#0d0887"
            ],
            [
             0.1111111111111111,
             "#46039f"
            ],
            [
             0.2222222222222222,
             "#7201a8"
            ],
            [
             0.3333333333333333,
             "#9c179e"
            ],
            [
             0.4444444444444444,
             "#bd3786"
            ],
            [
             0.5555555555555556,
             "#d8576b"
            ],
            [
             0.6666666666666666,
             "#ed7953"
            ],
            [
             0.7777777777777778,
             "#fb9f3a"
            ],
            [
             0.8888888888888888,
             "#fdca26"
            ],
            [
             1,
             "#f0f921"
            ]
           ],
           "sequentialminus": [
            [
             0,
             "#0d0887"
            ],
            [
             0.1111111111111111,
             "#46039f"
            ],
            [
             0.2222222222222222,
             "#7201a8"
            ],
            [
             0.3333333333333333,
             "#9c179e"
            ],
            [
             0.4444444444444444,
             "#bd3786"
            ],
            [
             0.5555555555555556,
             "#d8576b"
            ],
            [
             0.6666666666666666,
             "#ed7953"
            ],
            [
             0.7777777777777778,
             "#fb9f3a"
            ],
            [
             0.8888888888888888,
             "#fdca26"
            ],
            [
             1,
             "#f0f921"
            ]
           ]
          },
          "colorway": [
           "#636efa",
           "#EF553B",
           "#00cc96",
           "#ab63fa",
           "#FFA15A",
           "#19d3f3",
           "#FF6692",
           "#B6E880",
           "#FF97FF",
           "#FECB52"
          ],
          "font": {
           "color": "#2a3f5f"
          },
          "geo": {
           "bgcolor": "white",
           "lakecolor": "white",
           "landcolor": "#E5ECF6",
           "showlakes": true,
           "showland": true,
           "subunitcolor": "white"
          },
          "hoverlabel": {
           "align": "left"
          },
          "hovermode": "closest",
          "mapbox": {
           "style": "light"
          },
          "paper_bgcolor": "white",
          "plot_bgcolor": "#E5ECF6",
          "polar": {
           "angularaxis": {
            "gridcolor": "white",
            "linecolor": "white",
            "ticks": ""
           },
           "bgcolor": "#E5ECF6",
           "radialaxis": {
            "gridcolor": "white",
            "linecolor": "white",
            "ticks": ""
           }
          },
          "scene": {
           "xaxis": {
            "backgroundcolor": "#E5ECF6",
            "gridcolor": "white",
            "gridwidth": 2,
            "linecolor": "white",
            "showbackground": true,
            "ticks": "",
            "zerolinecolor": "white"
           },
           "yaxis": {
            "backgroundcolor": "#E5ECF6",
            "gridcolor": "white",
            "gridwidth": 2,
            "linecolor": "white",
            "showbackground": true,
            "ticks": "",
            "zerolinecolor": "white"
           },
           "zaxis": {
            "backgroundcolor": "#E5ECF6",
            "gridcolor": "white",
            "gridwidth": 2,
            "linecolor": "white",
            "showbackground": true,
            "ticks": "",
            "zerolinecolor": "white"
           }
          },
          "shapedefaults": {
           "line": {
            "color": "#2a3f5f"
           }
          },
          "ternary": {
           "aaxis": {
            "gridcolor": "white",
            "linecolor": "white",
            "ticks": ""
           },
           "baxis": {
            "gridcolor": "white",
            "linecolor": "white",
            "ticks": ""
           },
           "bgcolor": "#E5ECF6",
           "caxis": {
            "gridcolor": "white",
            "linecolor": "white",
            "ticks": ""
           }
          },
          "title": {
           "x": 0.05
          },
          "xaxis": {
           "automargin": true,
           "gridcolor": "white",
           "linecolor": "white",
           "ticks": "",
           "title": {
            "standoff": 15
           },
           "zerolinecolor": "white",
           "zerolinewidth": 2
          },
          "yaxis": {
           "automargin": true,
           "gridcolor": "white",
           "linecolor": "white",
           "ticks": "",
           "title": {
            "standoff": 15
           },
           "zerolinecolor": "white",
           "zerolinewidth": 2
          }
         }
        },
        "title": {
         "font": {
          "color": "#4D5663"
         }
        },
        "xaxis": {
         "gridcolor": "#E1E5ED",
         "showgrid": true,
         "tickfont": {
          "color": "#4D5663"
         },
         "title": {
          "font": {
           "color": "#4D5663"
          },
          "text": ""
         },
         "zerolinecolor": "#E1E5ED"
        },
        "yaxis": {
         "gridcolor": "#E1E5ED",
         "showgrid": true,
         "tickfont": {
          "color": "#4D5663"
         },
         "title": {
          "font": {
           "color": "#4D5663"
          },
          "text": ""
         },
         "zerolinecolor": "#E1E5ED"
        }
       }
      },
      "text/html": [
       "<div>                            <div id=\"64cd2f43-e4de-440a-9e44-306665f61eae\" class=\"plotly-graph-div\" style=\"height:525px; width:100%;\"></div>            <script type=\"text/javascript\">                require([\"plotly\"], function(Plotly) {                    window.PLOTLYENV=window.PLOTLYENV || {};\n",
       "                    window.PLOTLYENV.BASE_URL='https://plot.ly';                                    if (document.getElementById(\"64cd2f43-e4de-440a-9e44-306665f61eae\")) {                    Plotly.newPlot(                        \"64cd2f43-e4de-440a-9e44-306665f61eae\",                        [{\"line\":{\"color\":\"rgba(255, 153, 51, 1.0)\",\"dash\":\"solid\",\"shape\":\"linear\",\"width\":1.3},\"mode\":\"lines\",\"name\":\"A\",\"text\":\"\",\"type\":\"scatter\",\"x\":[0,1,2,3,4,5,6,7,8,9,10,11,12,13,14,15,16,17,18,19,20,21,22,23,24,25,26,27,28,29,30,31,32,33,34,35,36,37,38,39,40,41,42,43,44,45,46,47,48,49,50,51,52,53,54,55,56,57,58,59,60,61,62,63,64,65,66,67,68,69,70,71,72,73,74,75,76,77,78,79,80,81,82,83,84,85,86,87,88,89,90,91,92,93,94,95,96,97,98,99],\"y\":[0.1677295974771182,-1.7872681686554974,0.5693402667655553,-1.0046056144579998,-1.566005297545977,0.464941956949439,-0.7301285902505179,-0.00770207525387605,-0.645384270852266,1.1819510278134386,-1.5185658054222233,-2.9230065372765437,-1.257203979597962,0.001433421201918124,-0.9768940913076974,0.1179172817005367,-0.30219704920914753,-0.22799624179659062,0.42022435518638906,0.7800228959921974,-2.500597164278015,-0.3869411011485532,1.2395743425887107,-1.3795717919376353,0.28054626672134375,0.22869181471788713,-0.6162944867083039,-0.7682547900438489,-2.5081079586290134,1.8294602266781177,1.0365707622550122,1.395225294932962,0.08329047798807905,-2.04420582060628,-1.0450001438558367,-0.14678432354701856,1.161916732719901,-1.3694720067128212,1.1544321155912671,-1.283350277145768,1.3096660691924171,-0.20718454997550748,0.25621064804127797,0.4554234136722749,1.7767178990519135,0.8592311126248331,2.5283202542788517,0.07744736277965077,-0.6305428387429659,1.4344311195291177,-1.149025853632118,0.4373549109868916,0.23275769234795282,0.6684409383813985,-0.5668415540630822,0.4266231201574942,-0.681942960128727,0.5992798444781142,0.08868419039714577,-0.7666801778055945,-0.6111983232775987,-0.4875029233695006,-0.5962535960824918,0.789602717306651,1.0383750947755768,0.034220852098314714,-0.9780068742316993,0.1267182332850658,-0.7021741140029867,0.8190741680262112,-0.6013408433352899,1.2571523443041692,0.8186441656768574,-0.24796367135153904,-0.27136153725087364,0.801612237017389,-0.48793171434477406,0.3588668976833291,-0.6055736712667737,0.7528031288096263,-0.20306412385987466,-0.20516587792133717,-0.8624158526611833,-1.1014615260411138,-1.5707540382142438,-0.2497834507348051,0.04473897694772401,-0.2365835008816788,-0.10061720104210659,-1.5945749924448704,-0.04604438152714954,0.7363827075726151,-0.5217823192653754,0.9395243400826574,0.7343483258925377,0.6514730776072053,-0.21880390918346657,0.35967499409368486,-0.03144010358228288,0.7336108936016698]},{\"line\":{\"color\":\"rgba(55, 128, 191, 1.0)\",\"dash\":\"solid\",\"shape\":\"linear\",\"width\":1.3},\"mode\":\"lines\",\"name\":\"B\",\"text\":\"\",\"type\":\"scatter\",\"x\":[0,1,2,3,4,5,6,7,8,9,10,11,12,13,14,15,16,17,18,19,20,21,22,23,24,25,26,27,28,29,30,31,32,33,34,35,36,37,38,39,40,41,42,43,44,45,46,47,48,49,50,51,52,53,54,55,56,57,58,59,60,61,62,63,64,65,66,67,68,69,70,71,72,73,74,75,76,77,78,79,80,81,82,83,84,85,86,87,88,89,90,91,92,93,94,95,96,97,98,99],\"y\":[1.567435203794548,0.5573052784883733,1.6831238256491807,1.0693008020256034,1.4602767496480706,0.8402880102586139,-0.5133259950430152,0.23145053238400348,0.10931525972312732,0.34538604740628476,-0.3088737256167502,0.9840374749172404,0.2884996279189267,1.1054302169366281,0.540789376561366,-0.48340256189418435,-0.8409961690202551,-2.0362060723456192,0.05219836719792028,-0.7129725193068858,1.497614976600417,-0.642083384742269,-0.24781293138397187,-1.2341566561368085,0.4579690402036922,0.35143375271504224,1.2858325567819626,-1.1983173000149776,0.5252332133516171,-1.0384627570578455,1.4335364525369116,-1.4584868023197477,0.36410949339914134,0.9332378000717362,0.5599432122308636,0.31737738042043806,1.8546681640315847,1.591575151429714,0.6919581271350529,-0.4100537207639501,-0.8947405934515628,1.0955188651989451,0.6030233636588795,-0.6732100994866114,0.3736811631937215,2.231836210849512,0.8859658233966378,0.016409020563769274,0.3960782581084781,0.33587752498392603,-1.4593156041646016,0.38347118884821224,1.1169667527529703,-0.6027172890947485,0.015130853727107539,-0.16994123916094722,-0.02135485402617079,-1.0581529789295512,-0.1431989041223105,0.18078518058547607,-0.11581367700884548,0.6459135482357761,-0.2757475394889642,-1.6032453335261103,-1.9950806765893105,-0.95953336891002,-0.36786369125200574,0.63181179906116,1.7965595599066055,0.8753425245476085,-0.09383809935906517,-0.29776189426005345,-1.0523020419953022,-0.4645563791700555,-1.574217751501877,0.1362097487639466,0.5460935657326523,1.0279791086133334,1.3489282088242258,-0.023968790286700403,0.6247889411923466,0.308952838535365,-0.29086174333278536,0.8254760581813883,-0.8433956702342965,-0.5069458272536179,0.3075054846311606,0.7647520946893848,-1.0033303895541608,-0.18050225685933538,0.2496701008157766,-1.1832817387110397,1.5731768811124753,-1.1649769968833978,-0.2648973828682833,-1.0206046462607217,-1.2638406846675438,-1.699340451563812,-0.14373680823001478,0.3183789633812421]},{\"line\":{\"color\":\"rgba(50, 171, 96, 1.0)\",\"dash\":\"solid\",\"shape\":\"linear\",\"width\":1.3},\"mode\":\"lines\",\"name\":\"C\",\"text\":\"\",\"type\":\"scatter\",\"x\":[0,1,2,3,4,5,6,7,8,9,10,11,12,13,14,15,16,17,18,19,20,21,22,23,24,25,26,27,28,29,30,31,32,33,34,35,36,37,38,39,40,41,42,43,44,45,46,47,48,49,50,51,52,53,54,55,56,57,58,59,60,61,62,63,64,65,66,67,68,69,70,71,72,73,74,75,76,77,78,79,80,81,82,83,84,85,86,87,88,89,90,91,92,93,94,95,96,97,98,99],\"y\":[-0.033600120399947954,-1.080173103052817,0.15843064185613792,0.726737628080052,0.05134475921993425,-1.6018887113213285,0.9763537415033974,-0.005183597043583913,-0.8593091319233954,0.5537105388602563,-1.359067451191773,0.8240144479847009,0.502671932005671,0.4686116599937991,0.2930179438336649,-0.41835212156696566,-0.4460766667500231,-0.3239973469836084,0.5245903533947486,-1.5317249957205283,-1.0764613853828366,0.01555199339213199,1.0596958862648547,1.0760706977146604,-1.3907097452118882,1.350351943193093,1.773501431986023,-0.2842568244608287,0.8011388241425679,-0.5920345884541166,-1.3790688131491657,-0.646527809446386,0.011901869969752355,0.2513078152326311,-1.0095100672299833,1.0324837446636166,1.2399703615384126,-1.723745213177883,-0.7491205572079676,-0.4724147314159308,-0.4087053509261581,0.7057581203453629,2.0173365234122578,0.3519420335168349,-0.378234025782966,-1.136302932430963,-1.2209406581681241,0.313783919534806,-0.08888643520611383,0.880251840969089,-0.27726069882379295,0.40185835838247524,-1.6133878190077233,-1.0631259409573095,1.177302014159795,-0.4020147569226186,-1.042558349355566,0.5151772733031954,0.9079335723606904,-0.39650560906331894,-0.7711143270165248,0.31947032435682376,-2.2806892914912376,-1.4383915317122278,0.8833166142637999,-0.3191495282389241,-0.7837839370757361,-1.1719117425466632,-1.1462758596578184,-0.9465562832511951,0.0045557510286444915,0.6824230191292353,0.16251975463702018,0.043398357709335415,0.2167992735051436,1.4569168032293625,-0.960670232123432,-0.09218844811216233,-0.17656333163427956,0.25141784780289156,-0.4619997659383615,0.520716596868806,-0.8720678546343096,1.0332088820896166,1.2324788805474436,1.5879391962876657,0.31889295338649226,1.8108396065702987,-1.51574729179147,0.06297492131483665,0.06008190713713387,0.5123180933174598,0.36897113584474817,0.6550519443149155,0.1355601196583871,-1.3640861110419114,0.7188720087470418,0.6965277751976363,-0.2598491658698001,-0.3176026532899697]},{\"line\":{\"color\":\"rgba(128, 0, 128, 1.0)\",\"dash\":\"solid\",\"shape\":\"linear\",\"width\":1.3},\"mode\":\"lines\",\"name\":\"D\",\"text\":\"\",\"type\":\"scatter\",\"x\":[0,1,2,3,4,5,6,7,8,9,10,11,12,13,14,15,16,17,18,19,20,21,22,23,24,25,26,27,28,29,30,31,32,33,34,35,36,37,38,39,40,41,42,43,44,45,46,47,48,49,50,51,52,53,54,55,56,57,58,59,60,61,62,63,64,65,66,67,68,69,70,71,72,73,74,75,76,77,78,79,80,81,82,83,84,85,86,87,88,89,90,91,92,93,94,95,96,97,98,99],\"y\":[-2.176461679374626,1.056463040129513,-0.5815782509347535,-1.4531100076837522,0.5791697765958975,-0.3406330724022535,-0.12325836124893487,1.0748116304095103,-0.10905118577839748,0.6518814856047164,-0.6466801487669083,-0.7717647570816459,-0.03519057315511924,-2.1959029341857046,-0.5729690599720317,0.7952524438465477,0.10148167808540003,-1.6129589337321573,-0.3236842244740675,-0.5315344305139946,-0.11364368200412962,0.37664746959864903,-0.41270426364299984,0.24625592425978718,-1.122856312946248,1.3675866974149253,-0.3958166214817183,-0.6427014824288048,1.0522858673414328,1.1575642681841303,-1.4527282324432211,-0.414160898946422,-1.1731642266148459,-0.4368501141644954,-0.829714680972254,-0.22013529513689092,0.19259459722546737,0.20593221673733553,-0.5600032391365798,0.3301314638746017,-0.5529201546325127,-0.5806740447199947,-0.894276649529487,0.39939996582732196,-0.6371145460796107,1.2736442669804808,-0.57350950853774,-0.2584910588471825,0.6490232061221145,0.41242255367918823,0.25726224418708116,0.9911708011965187,0.5072726887975598,-0.16045379205231644,0.04461639952600274,0.6216226550030862,1.783862411840752,0.5826940231295298,1.8421202591283043,-0.2988762430712268,-0.9057070584687866,0.679446631158942,1.1158664619128216,1.5247905982667886,0.795707279922195,-0.3479322372747578,0.04695880895459405,0.514073180434789,0.827138503146773,0.4193857032556513,-0.7190363787544634,0.06490165269183075,-0.542073851809334,1.1943987271917096,0.9798847371414087,-0.23839457323456772,-0.21443423751153712,-0.8857954282410218,-1.0640968211670048,-0.4131696693291577,-0.6778371500989281,-1.1345698539608493,-0.9552168758096323,1.9446542178664608,-1.541168062269582,-1.2360777455326353,0.8804695639267682,1.9800139907315033,-0.32890878946092456,0.3603796519273215,-0.22830759300794998,2.8454077637181476,0.22547121659796893,1.4516716494630302,0.7267499552617944,-1.2536840784885543,-0.577660025523696,-0.5344688801554291,0.8312159109437165,-0.10230312235220843]}],                        {\"legend\":{\"bgcolor\":\"#F5F6F9\",\"font\":{\"color\":\"#4D5663\"}},\"paper_bgcolor\":\"#F5F6F9\",\"plot_bgcolor\":\"#F5F6F9\",\"template\":{\"data\":{\"bar\":[{\"error_x\":{\"color\":\"#2a3f5f\"},\"error_y\":{\"color\":\"#2a3f5f\"},\"marker\":{\"line\":{\"color\":\"#E5ECF6\",\"width\":0.5},\"pattern\":{\"fillmode\":\"overlay\",\"size\":10,\"solidity\":0.2}},\"type\":\"bar\"}],\"barpolar\":[{\"marker\":{\"line\":{\"color\":\"#E5ECF6\",\"width\":0.5},\"pattern\":{\"fillmode\":\"overlay\",\"size\":10,\"solidity\":0.2}},\"type\":\"barpolar\"}],\"carpet\":[{\"aaxis\":{\"endlinecolor\":\"#2a3f5f\",\"gridcolor\":\"white\",\"linecolor\":\"white\",\"minorgridcolor\":\"white\",\"startlinecolor\":\"#2a3f5f\"},\"baxis\":{\"endlinecolor\":\"#2a3f5f\",\"gridcolor\":\"white\",\"linecolor\":\"white\",\"minorgridcolor\":\"white\",\"startlinecolor\":\"#2a3f5f\"},\"type\":\"carpet\"}],\"choropleth\":[{\"colorbar\":{\"outlinewidth\":0,\"ticks\":\"\"},\"type\":\"choropleth\"}],\"contour\":[{\"colorbar\":{\"outlinewidth\":0,\"ticks\":\"\"},\"colorscale\":[[0.0,\"#0d0887\"],[0.1111111111111111,\"#46039f\"],[0.2222222222222222,\"#7201a8\"],[0.3333333333333333,\"#9c179e\"],[0.4444444444444444,\"#bd3786\"],[0.5555555555555556,\"#d8576b\"],[0.6666666666666666,\"#ed7953\"],[0.7777777777777778,\"#fb9f3a\"],[0.8888888888888888,\"#fdca26\"],[1.0,\"#f0f921\"]],\"type\":\"contour\"}],\"contourcarpet\":[{\"colorbar\":{\"outlinewidth\":0,\"ticks\":\"\"},\"type\":\"contourcarpet\"}],\"heatmap\":[{\"colorbar\":{\"outlinewidth\":0,\"ticks\":\"\"},\"colorscale\":[[0.0,\"#0d0887\"],[0.1111111111111111,\"#46039f\"],[0.2222222222222222,\"#7201a8\"],[0.3333333333333333,\"#9c179e\"],[0.4444444444444444,\"#bd3786\"],[0.5555555555555556,\"#d8576b\"],[0.6666666666666666,\"#ed7953\"],[0.7777777777777778,\"#fb9f3a\"],[0.8888888888888888,\"#fdca26\"],[1.0,\"#f0f921\"]],\"type\":\"heatmap\"}],\"heatmapgl\":[{\"colorbar\":{\"outlinewidth\":0,\"ticks\":\"\"},\"colorscale\":[[0.0,\"#0d0887\"],[0.1111111111111111,\"#46039f\"],[0.2222222222222222,\"#7201a8\"],[0.3333333333333333,\"#9c179e\"],[0.4444444444444444,\"#bd3786\"],[0.5555555555555556,\"#d8576b\"],[0.6666666666666666,\"#ed7953\"],[0.7777777777777778,\"#fb9f3a\"],[0.8888888888888888,\"#fdca26\"],[1.0,\"#f0f921\"]],\"type\":\"heatmapgl\"}],\"histogram\":[{\"marker\":{\"pattern\":{\"fillmode\":\"overlay\",\"size\":10,\"solidity\":0.2}},\"type\":\"histogram\"}],\"histogram2d\":[{\"colorbar\":{\"outlinewidth\":0,\"ticks\":\"\"},\"colorscale\":[[0.0,\"#0d0887\"],[0.1111111111111111,\"#46039f\"],[0.2222222222222222,\"#7201a8\"],[0.3333333333333333,\"#9c179e\"],[0.4444444444444444,\"#bd3786\"],[0.5555555555555556,\"#d8576b\"],[0.6666666666666666,\"#ed7953\"],[0.7777777777777778,\"#fb9f3a\"],[0.8888888888888888,\"#fdca26\"],[1.0,\"#f0f921\"]],\"type\":\"histogram2d\"}],\"histogram2dcontour\":[{\"colorbar\":{\"outlinewidth\":0,\"ticks\":\"\"},\"colorscale\":[[0.0,\"#0d0887\"],[0.1111111111111111,\"#46039f\"],[0.2222222222222222,\"#7201a8\"],[0.3333333333333333,\"#9c179e\"],[0.4444444444444444,\"#bd3786\"],[0.5555555555555556,\"#d8576b\"],[0.6666666666666666,\"#ed7953\"],[0.7777777777777778,\"#fb9f3a\"],[0.8888888888888888,\"#fdca26\"],[1.0,\"#f0f921\"]],\"type\":\"histogram2dcontour\"}],\"mesh3d\":[{\"colorbar\":{\"outlinewidth\":0,\"ticks\":\"\"},\"type\":\"mesh3d\"}],\"parcoords\":[{\"line\":{\"colorbar\":{\"outlinewidth\":0,\"ticks\":\"\"}},\"type\":\"parcoords\"}],\"pie\":[{\"automargin\":true,\"type\":\"pie\"}],\"scatter\":[{\"marker\":{\"colorbar\":{\"outlinewidth\":0,\"ticks\":\"\"}},\"type\":\"scatter\"}],\"scatter3d\":[{\"line\":{\"colorbar\":{\"outlinewidth\":0,\"ticks\":\"\"}},\"marker\":{\"colorbar\":{\"outlinewidth\":0,\"ticks\":\"\"}},\"type\":\"scatter3d\"}],\"scattercarpet\":[{\"marker\":{\"colorbar\":{\"outlinewidth\":0,\"ticks\":\"\"}},\"type\":\"scattercarpet\"}],\"scattergeo\":[{\"marker\":{\"colorbar\":{\"outlinewidth\":0,\"ticks\":\"\"}},\"type\":\"scattergeo\"}],\"scattergl\":[{\"marker\":{\"colorbar\":{\"outlinewidth\":0,\"ticks\":\"\"}},\"type\":\"scattergl\"}],\"scattermapbox\":[{\"marker\":{\"colorbar\":{\"outlinewidth\":0,\"ticks\":\"\"}},\"type\":\"scattermapbox\"}],\"scatterpolar\":[{\"marker\":{\"colorbar\":{\"outlinewidth\":0,\"ticks\":\"\"}},\"type\":\"scatterpolar\"}],\"scatterpolargl\":[{\"marker\":{\"colorbar\":{\"outlinewidth\":0,\"ticks\":\"\"}},\"type\":\"scatterpolargl\"}],\"scatterternary\":[{\"marker\":{\"colorbar\":{\"outlinewidth\":0,\"ticks\":\"\"}},\"type\":\"scatterternary\"}],\"surface\":[{\"colorbar\":{\"outlinewidth\":0,\"ticks\":\"\"},\"colorscale\":[[0.0,\"#0d0887\"],[0.1111111111111111,\"#46039f\"],[0.2222222222222222,\"#7201a8\"],[0.3333333333333333,\"#9c179e\"],[0.4444444444444444,\"#bd3786\"],[0.5555555555555556,\"#d8576b\"],[0.6666666666666666,\"#ed7953\"],[0.7777777777777778,\"#fb9f3a\"],[0.8888888888888888,\"#fdca26\"],[1.0,\"#f0f921\"]],\"type\":\"surface\"}],\"table\":[{\"cells\":{\"fill\":{\"color\":\"#EBF0F8\"},\"line\":{\"color\":\"white\"}},\"header\":{\"fill\":{\"color\":\"#C8D4E3\"},\"line\":{\"color\":\"white\"}},\"type\":\"table\"}]},\"layout\":{\"annotationdefaults\":{\"arrowcolor\":\"#2a3f5f\",\"arrowhead\":0,\"arrowwidth\":1},\"autotypenumbers\":\"strict\",\"coloraxis\":{\"colorbar\":{\"outlinewidth\":0,\"ticks\":\"\"}},\"colorscale\":{\"diverging\":[[0,\"#8e0152\"],[0.1,\"#c51b7d\"],[0.2,\"#de77ae\"],[0.3,\"#f1b6da\"],[0.4,\"#fde0ef\"],[0.5,\"#f7f7f7\"],[0.6,\"#e6f5d0\"],[0.7,\"#b8e186\"],[0.8,\"#7fbc41\"],[0.9,\"#4d9221\"],[1,\"#276419\"]],\"sequential\":[[0.0,\"#0d0887\"],[0.1111111111111111,\"#46039f\"],[0.2222222222222222,\"#7201a8\"],[0.3333333333333333,\"#9c179e\"],[0.4444444444444444,\"#bd3786\"],[0.5555555555555556,\"#d8576b\"],[0.6666666666666666,\"#ed7953\"],[0.7777777777777778,\"#fb9f3a\"],[0.8888888888888888,\"#fdca26\"],[1.0,\"#f0f921\"]],\"sequentialminus\":[[0.0,\"#0d0887\"],[0.1111111111111111,\"#46039f\"],[0.2222222222222222,\"#7201a8\"],[0.3333333333333333,\"#9c179e\"],[0.4444444444444444,\"#bd3786\"],[0.5555555555555556,\"#d8576b\"],[0.6666666666666666,\"#ed7953\"],[0.7777777777777778,\"#fb9f3a\"],[0.8888888888888888,\"#fdca26\"],[1.0,\"#f0f921\"]]},\"colorway\":[\"#636efa\",\"#EF553B\",\"#00cc96\",\"#ab63fa\",\"#FFA15A\",\"#19d3f3\",\"#FF6692\",\"#B6E880\",\"#FF97FF\",\"#FECB52\"],\"font\":{\"color\":\"#2a3f5f\"},\"geo\":{\"bgcolor\":\"white\",\"lakecolor\":\"white\",\"landcolor\":\"#E5ECF6\",\"showlakes\":true,\"showland\":true,\"subunitcolor\":\"white\"},\"hoverlabel\":{\"align\":\"left\"},\"hovermode\":\"closest\",\"mapbox\":{\"style\":\"light\"},\"paper_bgcolor\":\"white\",\"plot_bgcolor\":\"#E5ECF6\",\"polar\":{\"angularaxis\":{\"gridcolor\":\"white\",\"linecolor\":\"white\",\"ticks\":\"\"},\"bgcolor\":\"#E5ECF6\",\"radialaxis\":{\"gridcolor\":\"white\",\"linecolor\":\"white\",\"ticks\":\"\"}},\"scene\":{\"xaxis\":{\"backgroundcolor\":\"#E5ECF6\",\"gridcolor\":\"white\",\"gridwidth\":2,\"linecolor\":\"white\",\"showbackground\":true,\"ticks\":\"\",\"zerolinecolor\":\"white\"},\"yaxis\":{\"backgroundcolor\":\"#E5ECF6\",\"gridcolor\":\"white\",\"gridwidth\":2,\"linecolor\":\"white\",\"showbackground\":true,\"ticks\":\"\",\"zerolinecolor\":\"white\"},\"zaxis\":{\"backgroundcolor\":\"#E5ECF6\",\"gridcolor\":\"white\",\"gridwidth\":2,\"linecolor\":\"white\",\"showbackground\":true,\"ticks\":\"\",\"zerolinecolor\":\"white\"}},\"shapedefaults\":{\"line\":{\"color\":\"#2a3f5f\"}},\"ternary\":{\"aaxis\":{\"gridcolor\":\"white\",\"linecolor\":\"white\",\"ticks\":\"\"},\"baxis\":{\"gridcolor\":\"white\",\"linecolor\":\"white\",\"ticks\":\"\"},\"bgcolor\":\"#E5ECF6\",\"caxis\":{\"gridcolor\":\"white\",\"linecolor\":\"white\",\"ticks\":\"\"}},\"title\":{\"x\":0.05},\"xaxis\":{\"automargin\":true,\"gridcolor\":\"white\",\"linecolor\":\"white\",\"ticks\":\"\",\"title\":{\"standoff\":15},\"zerolinecolor\":\"white\",\"zerolinewidth\":2},\"yaxis\":{\"automargin\":true,\"gridcolor\":\"white\",\"linecolor\":\"white\",\"ticks\":\"\",\"title\":{\"standoff\":15},\"zerolinecolor\":\"white\",\"zerolinewidth\":2}}},\"title\":{\"font\":{\"color\":\"#4D5663\"}},\"xaxis\":{\"gridcolor\":\"#E1E5ED\",\"showgrid\":true,\"tickfont\":{\"color\":\"#4D5663\"},\"title\":{\"font\":{\"color\":\"#4D5663\"},\"text\":\"\"},\"zerolinecolor\":\"#E1E5ED\"},\"yaxis\":{\"gridcolor\":\"#E1E5ED\",\"showgrid\":true,\"tickfont\":{\"color\":\"#4D5663\"},\"title\":{\"font\":{\"color\":\"#4D5663\"},\"text\":\"\"},\"zerolinecolor\":\"#E1E5ED\"}},                        {\"showLink\": true, \"linkText\": \"Export to plot.ly\", \"plotlyServerURL\": \"https://plot.ly\", \"responsive\": true}                    ).then(function(){\n",
       "                            \n",
       "var gd = document.getElementById('64cd2f43-e4de-440a-9e44-306665f61eae');\n",
       "var x = new MutationObserver(function (mutations, observer) {{\n",
       "        var display = window.getComputedStyle(gd).display;\n",
       "        if (!display || display === 'none') {{\n",
       "            console.log([gd, 'removed!']);\n",
       "            Plotly.purge(gd);\n",
       "            observer.disconnect();\n",
       "        }}\n",
       "}});\n",
       "\n",
       "// Listen for the removal of the full notebook cells\n",
       "var notebookContainer = gd.closest('#notebook-container');\n",
       "if (notebookContainer) {{\n",
       "    x.observe(notebookContainer, {childList: true});\n",
       "}}\n",
       "\n",
       "// Listen for the clearing of the current output cell\n",
       "var outputEl = gd.closest('.output');\n",
       "if (outputEl) {{\n",
       "    x.observe(outputEl, {childList: true});\n",
       "}}\n",
       "\n",
       "                        })                };                });            </script>        </div>"
      ]
     },
     "metadata": {},
     "output_type": "display_data"
    }
   ],
   "source": [
    "df.iplot()"
   ]
  },
  {
   "cell_type": "code",
   "execution_count": 15,
   "metadata": {},
   "outputs": [
    {
     "data": {
      "application/vnd.plotly.v1+json": {
       "config": {
        "linkText": "Export to plot.ly",
        "plotlyServerURL": "https://plot.ly",
        "showLink": true
       },
       "data": [
        {
         "line": {
          "color": "rgba(255, 153, 51, 1.0)",
          "dash": "solid",
          "shape": "linear",
          "width": 1.3
         },
         "marker": {
          "size": 12,
          "symbol": "circle"
         },
         "mode": "markers",
         "name": "B",
         "text": "",
         "type": "scatter",
         "x": [
          0.1677295974771182,
          -1.7872681686554974,
          0.5693402667655553,
          -1.0046056144579998,
          -1.566005297545977,
          0.464941956949439,
          -0.7301285902505179,
          -0.00770207525387605,
          -0.645384270852266,
          1.1819510278134386,
          -1.5185658054222233,
          -2.9230065372765437,
          -1.257203979597962,
          0.001433421201918124,
          -0.9768940913076974,
          0.1179172817005367,
          -0.30219704920914753,
          -0.22799624179659062,
          0.42022435518638906,
          0.7800228959921974,
          -2.500597164278015,
          -0.3869411011485532,
          1.2395743425887107,
          -1.3795717919376353,
          0.28054626672134375,
          0.22869181471788713,
          -0.6162944867083039,
          -0.7682547900438489,
          -2.5081079586290134,
          1.8294602266781177,
          1.0365707622550122,
          1.395225294932962,
          0.08329047798807905,
          -2.04420582060628,
          -1.0450001438558367,
          -0.14678432354701856,
          1.161916732719901,
          -1.3694720067128212,
          1.1544321155912671,
          -1.283350277145768,
          1.3096660691924171,
          -0.20718454997550748,
          0.25621064804127797,
          0.4554234136722749,
          1.7767178990519135,
          0.8592311126248331,
          2.5283202542788517,
          0.07744736277965077,
          -0.6305428387429659,
          1.4344311195291177,
          -1.149025853632118,
          0.4373549109868916,
          0.23275769234795282,
          0.6684409383813985,
          -0.5668415540630822,
          0.4266231201574942,
          -0.681942960128727,
          0.5992798444781142,
          0.08868419039714577,
          -0.7666801778055945,
          -0.6111983232775987,
          -0.4875029233695006,
          -0.5962535960824918,
          0.789602717306651,
          1.0383750947755768,
          0.034220852098314714,
          -0.9780068742316993,
          0.1267182332850658,
          -0.7021741140029867,
          0.8190741680262112,
          -0.6013408433352899,
          1.2571523443041692,
          0.8186441656768574,
          -0.24796367135153904,
          -0.27136153725087364,
          0.801612237017389,
          -0.48793171434477406,
          0.3588668976833291,
          -0.6055736712667737,
          0.7528031288096263,
          -0.20306412385987466,
          -0.20516587792133717,
          -0.8624158526611833,
          -1.1014615260411138,
          -1.5707540382142438,
          -0.2497834507348051,
          0.04473897694772401,
          -0.2365835008816788,
          -0.10061720104210659,
          -1.5945749924448704,
          -0.04604438152714954,
          0.7363827075726151,
          -0.5217823192653754,
          0.9395243400826574,
          0.7343483258925377,
          0.6514730776072053,
          -0.21880390918346657,
          0.35967499409368486,
          -0.03144010358228288,
          0.7336108936016698
         ],
         "y": [
          1.567435203794548,
          0.5573052784883733,
          1.6831238256491807,
          1.0693008020256034,
          1.4602767496480706,
          0.8402880102586139,
          -0.5133259950430152,
          0.23145053238400348,
          0.10931525972312732,
          0.34538604740628476,
          -0.3088737256167502,
          0.9840374749172404,
          0.2884996279189267,
          1.1054302169366281,
          0.540789376561366,
          -0.48340256189418435,
          -0.8409961690202551,
          -2.0362060723456192,
          0.05219836719792028,
          -0.7129725193068858,
          1.497614976600417,
          -0.642083384742269,
          -0.24781293138397187,
          -1.2341566561368085,
          0.4579690402036922,
          0.35143375271504224,
          1.2858325567819626,
          -1.1983173000149776,
          0.5252332133516171,
          -1.0384627570578455,
          1.4335364525369116,
          -1.4584868023197477,
          0.36410949339914134,
          0.9332378000717362,
          0.5599432122308636,
          0.31737738042043806,
          1.8546681640315847,
          1.591575151429714,
          0.6919581271350529,
          -0.4100537207639501,
          -0.8947405934515628,
          1.0955188651989451,
          0.6030233636588795,
          -0.6732100994866114,
          0.3736811631937215,
          2.231836210849512,
          0.8859658233966378,
          0.016409020563769274,
          0.3960782581084781,
          0.33587752498392603,
          -1.4593156041646016,
          0.38347118884821224,
          1.1169667527529703,
          -0.6027172890947485,
          0.015130853727107539,
          -0.16994123916094722,
          -0.02135485402617079,
          -1.0581529789295512,
          -0.1431989041223105,
          0.18078518058547607,
          -0.11581367700884548,
          0.6459135482357761,
          -0.2757475394889642,
          -1.6032453335261103,
          -1.9950806765893105,
          -0.95953336891002,
          -0.36786369125200574,
          0.63181179906116,
          1.7965595599066055,
          0.8753425245476085,
          -0.09383809935906517,
          -0.29776189426005345,
          -1.0523020419953022,
          -0.4645563791700555,
          -1.574217751501877,
          0.1362097487639466,
          0.5460935657326523,
          1.0279791086133334,
          1.3489282088242258,
          -0.023968790286700403,
          0.6247889411923466,
          0.308952838535365,
          -0.29086174333278536,
          0.8254760581813883,
          -0.8433956702342965,
          -0.5069458272536179,
          0.3075054846311606,
          0.7647520946893848,
          -1.0033303895541608,
          -0.18050225685933538,
          0.2496701008157766,
          -1.1832817387110397,
          1.5731768811124753,
          -1.1649769968833978,
          -0.2648973828682833,
          -1.0206046462607217,
          -1.2638406846675438,
          -1.699340451563812,
          -0.14373680823001478,
          0.3183789633812421
         ]
        }
       ],
       "layout": {
        "legend": {
         "bgcolor": "#F5F6F9",
         "font": {
          "color": "#4D5663"
         }
        },
        "paper_bgcolor": "#F5F6F9",
        "plot_bgcolor": "#F5F6F9",
        "template": {
         "data": {
          "bar": [
           {
            "error_x": {
             "color": "#2a3f5f"
            },
            "error_y": {
             "color": "#2a3f5f"
            },
            "marker": {
             "line": {
              "color": "#E5ECF6",
              "width": 0.5
             },
             "pattern": {
              "fillmode": "overlay",
              "size": 10,
              "solidity": 0.2
             }
            },
            "type": "bar"
           }
          ],
          "barpolar": [
           {
            "marker": {
             "line": {
              "color": "#E5ECF6",
              "width": 0.5
             },
             "pattern": {
              "fillmode": "overlay",
              "size": 10,
              "solidity": 0.2
             }
            },
            "type": "barpolar"
           }
          ],
          "carpet": [
           {
            "aaxis": {
             "endlinecolor": "#2a3f5f",
             "gridcolor": "white",
             "linecolor": "white",
             "minorgridcolor": "white",
             "startlinecolor": "#2a3f5f"
            },
            "baxis": {
             "endlinecolor": "#2a3f5f",
             "gridcolor": "white",
             "linecolor": "white",
             "minorgridcolor": "white",
             "startlinecolor": "#2a3f5f"
            },
            "type": "carpet"
           }
          ],
          "choropleth": [
           {
            "colorbar": {
             "outlinewidth": 0,
             "ticks": ""
            },
            "type": "choropleth"
           }
          ],
          "contour": [
           {
            "colorbar": {
             "outlinewidth": 0,
             "ticks": ""
            },
            "colorscale": [
             [
              0,
              "#0d0887"
             ],
             [
              0.1111111111111111,
              "#46039f"
             ],
             [
              0.2222222222222222,
              "#7201a8"
             ],
             [
              0.3333333333333333,
              "#9c179e"
             ],
             [
              0.4444444444444444,
              "#bd3786"
             ],
             [
              0.5555555555555556,
              "#d8576b"
             ],
             [
              0.6666666666666666,
              "#ed7953"
             ],
             [
              0.7777777777777778,
              "#fb9f3a"
             ],
             [
              0.8888888888888888,
              "#fdca26"
             ],
             [
              1,
              "#f0f921"
             ]
            ],
            "type": "contour"
           }
          ],
          "contourcarpet": [
           {
            "colorbar": {
             "outlinewidth": 0,
             "ticks": ""
            },
            "type": "contourcarpet"
           }
          ],
          "heatmap": [
           {
            "colorbar": {
             "outlinewidth": 0,
             "ticks": ""
            },
            "colorscale": [
             [
              0,
              "#0d0887"
             ],
             [
              0.1111111111111111,
              "#46039f"
             ],
             [
              0.2222222222222222,
              "#7201a8"
             ],
             [
              0.3333333333333333,
              "#9c179e"
             ],
             [
              0.4444444444444444,
              "#bd3786"
             ],
             [
              0.5555555555555556,
              "#d8576b"
             ],
             [
              0.6666666666666666,
              "#ed7953"
             ],
             [
              0.7777777777777778,
              "#fb9f3a"
             ],
             [
              0.8888888888888888,
              "#fdca26"
             ],
             [
              1,
              "#f0f921"
             ]
            ],
            "type": "heatmap"
           }
          ],
          "heatmapgl": [
           {
            "colorbar": {
             "outlinewidth": 0,
             "ticks": ""
            },
            "colorscale": [
             [
              0,
              "#0d0887"
             ],
             [
              0.1111111111111111,
              "#46039f"
             ],
             [
              0.2222222222222222,
              "#7201a8"
             ],
             [
              0.3333333333333333,
              "#9c179e"
             ],
             [
              0.4444444444444444,
              "#bd3786"
             ],
             [
              0.5555555555555556,
              "#d8576b"
             ],
             [
              0.6666666666666666,
              "#ed7953"
             ],
             [
              0.7777777777777778,
              "#fb9f3a"
             ],
             [
              0.8888888888888888,
              "#fdca26"
             ],
             [
              1,
              "#f0f921"
             ]
            ],
            "type": "heatmapgl"
           }
          ],
          "histogram": [
           {
            "marker": {
             "pattern": {
              "fillmode": "overlay",
              "size": 10,
              "solidity": 0.2
             }
            },
            "type": "histogram"
           }
          ],
          "histogram2d": [
           {
            "colorbar": {
             "outlinewidth": 0,
             "ticks": ""
            },
            "colorscale": [
             [
              0,
              "#0d0887"
             ],
             [
              0.1111111111111111,
              "#46039f"
             ],
             [
              0.2222222222222222,
              "#7201a8"
             ],
             [
              0.3333333333333333,
              "#9c179e"
             ],
             [
              0.4444444444444444,
              "#bd3786"
             ],
             [
              0.5555555555555556,
              "#d8576b"
             ],
             [
              0.6666666666666666,
              "#ed7953"
             ],
             [
              0.7777777777777778,
              "#fb9f3a"
             ],
             [
              0.8888888888888888,
              "#fdca26"
             ],
             [
              1,
              "#f0f921"
             ]
            ],
            "type": "histogram2d"
           }
          ],
          "histogram2dcontour": [
           {
            "colorbar": {
             "outlinewidth": 0,
             "ticks": ""
            },
            "colorscale": [
             [
              0,
              "#0d0887"
             ],
             [
              0.1111111111111111,
              "#46039f"
             ],
             [
              0.2222222222222222,
              "#7201a8"
             ],
             [
              0.3333333333333333,
              "#9c179e"
             ],
             [
              0.4444444444444444,
              "#bd3786"
             ],
             [
              0.5555555555555556,
              "#d8576b"
             ],
             [
              0.6666666666666666,
              "#ed7953"
             ],
             [
              0.7777777777777778,
              "#fb9f3a"
             ],
             [
              0.8888888888888888,
              "#fdca26"
             ],
             [
              1,
              "#f0f921"
             ]
            ],
            "type": "histogram2dcontour"
           }
          ],
          "mesh3d": [
           {
            "colorbar": {
             "outlinewidth": 0,
             "ticks": ""
            },
            "type": "mesh3d"
           }
          ],
          "parcoords": [
           {
            "line": {
             "colorbar": {
              "outlinewidth": 0,
              "ticks": ""
             }
            },
            "type": "parcoords"
           }
          ],
          "pie": [
           {
            "automargin": true,
            "type": "pie"
           }
          ],
          "scatter": [
           {
            "marker": {
             "colorbar": {
              "outlinewidth": 0,
              "ticks": ""
             }
            },
            "type": "scatter"
           }
          ],
          "scatter3d": [
           {
            "line": {
             "colorbar": {
              "outlinewidth": 0,
              "ticks": ""
             }
            },
            "marker": {
             "colorbar": {
              "outlinewidth": 0,
              "ticks": ""
             }
            },
            "type": "scatter3d"
           }
          ],
          "scattercarpet": [
           {
            "marker": {
             "colorbar": {
              "outlinewidth": 0,
              "ticks": ""
             }
            },
            "type": "scattercarpet"
           }
          ],
          "scattergeo": [
           {
            "marker": {
             "colorbar": {
              "outlinewidth": 0,
              "ticks": ""
             }
            },
            "type": "scattergeo"
           }
          ],
          "scattergl": [
           {
            "marker": {
             "colorbar": {
              "outlinewidth": 0,
              "ticks": ""
             }
            },
            "type": "scattergl"
           }
          ],
          "scattermapbox": [
           {
            "marker": {
             "colorbar": {
              "outlinewidth": 0,
              "ticks": ""
             }
            },
            "type": "scattermapbox"
           }
          ],
          "scatterpolar": [
           {
            "marker": {
             "colorbar": {
              "outlinewidth": 0,
              "ticks": ""
             }
            },
            "type": "scatterpolar"
           }
          ],
          "scatterpolargl": [
           {
            "marker": {
             "colorbar": {
              "outlinewidth": 0,
              "ticks": ""
             }
            },
            "type": "scatterpolargl"
           }
          ],
          "scatterternary": [
           {
            "marker": {
             "colorbar": {
              "outlinewidth": 0,
              "ticks": ""
             }
            },
            "type": "scatterternary"
           }
          ],
          "surface": [
           {
            "colorbar": {
             "outlinewidth": 0,
             "ticks": ""
            },
            "colorscale": [
             [
              0,
              "#0d0887"
             ],
             [
              0.1111111111111111,
              "#46039f"
             ],
             [
              0.2222222222222222,
              "#7201a8"
             ],
             [
              0.3333333333333333,
              "#9c179e"
             ],
             [
              0.4444444444444444,
              "#bd3786"
             ],
             [
              0.5555555555555556,
              "#d8576b"
             ],
             [
              0.6666666666666666,
              "#ed7953"
             ],
             [
              0.7777777777777778,
              "#fb9f3a"
             ],
             [
              0.8888888888888888,
              "#fdca26"
             ],
             [
              1,
              "#f0f921"
             ]
            ],
            "type": "surface"
           }
          ],
          "table": [
           {
            "cells": {
             "fill": {
              "color": "#EBF0F8"
             },
             "line": {
              "color": "white"
             }
            },
            "header": {
             "fill": {
              "color": "#C8D4E3"
             },
             "line": {
              "color": "white"
             }
            },
            "type": "table"
           }
          ]
         },
         "layout": {
          "annotationdefaults": {
           "arrowcolor": "#2a3f5f",
           "arrowhead": 0,
           "arrowwidth": 1
          },
          "autotypenumbers": "strict",
          "coloraxis": {
           "colorbar": {
            "outlinewidth": 0,
            "ticks": ""
           }
          },
          "colorscale": {
           "diverging": [
            [
             0,
             "#8e0152"
            ],
            [
             0.1,
             "#c51b7d"
            ],
            [
             0.2,
             "#de77ae"
            ],
            [
             0.3,
             "#f1b6da"
            ],
            [
             0.4,
             "#fde0ef"
            ],
            [
             0.5,
             "#f7f7f7"
            ],
            [
             0.6,
             "#e6f5d0"
            ],
            [
             0.7,
             "#b8e186"
            ],
            [
             0.8,
             "#7fbc41"
            ],
            [
             0.9,
             "#4d9221"
            ],
            [
             1,
             "#276419"
            ]
           ],
           "sequential": [
            [
             0,
             "#0d0887"
            ],
            [
             0.1111111111111111,
             "#46039f"
            ],
            [
             0.2222222222222222,
             "#7201a8"
            ],
            [
             0.3333333333333333,
             "#9c179e"
            ],
            [
             0.4444444444444444,
             "#bd3786"
            ],
            [
             0.5555555555555556,
             "#d8576b"
            ],
            [
             0.6666666666666666,
             "#ed7953"
            ],
            [
             0.7777777777777778,
             "#fb9f3a"
            ],
            [
             0.8888888888888888,
             "#fdca26"
            ],
            [
             1,
             "#f0f921"
            ]
           ],
           "sequentialminus": [
            [
             0,
             "#0d0887"
            ],
            [
             0.1111111111111111,
             "#46039f"
            ],
            [
             0.2222222222222222,
             "#7201a8"
            ],
            [
             0.3333333333333333,
             "#9c179e"
            ],
            [
             0.4444444444444444,
             "#bd3786"
            ],
            [
             0.5555555555555556,
             "#d8576b"
            ],
            [
             0.6666666666666666,
             "#ed7953"
            ],
            [
             0.7777777777777778,
             "#fb9f3a"
            ],
            [
             0.8888888888888888,
             "#fdca26"
            ],
            [
             1,
             "#f0f921"
            ]
           ]
          },
          "colorway": [
           "#636efa",
           "#EF553B",
           "#00cc96",
           "#ab63fa",
           "#FFA15A",
           "#19d3f3",
           "#FF6692",
           "#B6E880",
           "#FF97FF",
           "#FECB52"
          ],
          "font": {
           "color": "#2a3f5f"
          },
          "geo": {
           "bgcolor": "white",
           "lakecolor": "white",
           "landcolor": "#E5ECF6",
           "showlakes": true,
           "showland": true,
           "subunitcolor": "white"
          },
          "hoverlabel": {
           "align": "left"
          },
          "hovermode": "closest",
          "mapbox": {
           "style": "light"
          },
          "paper_bgcolor": "white",
          "plot_bgcolor": "#E5ECF6",
          "polar": {
           "angularaxis": {
            "gridcolor": "white",
            "linecolor": "white",
            "ticks": ""
           },
           "bgcolor": "#E5ECF6",
           "radialaxis": {
            "gridcolor": "white",
            "linecolor": "white",
            "ticks": ""
           }
          },
          "scene": {
           "xaxis": {
            "backgroundcolor": "#E5ECF6",
            "gridcolor": "white",
            "gridwidth": 2,
            "linecolor": "white",
            "showbackground": true,
            "ticks": "",
            "zerolinecolor": "white"
           },
           "yaxis": {
            "backgroundcolor": "#E5ECF6",
            "gridcolor": "white",
            "gridwidth": 2,
            "linecolor": "white",
            "showbackground": true,
            "ticks": "",
            "zerolinecolor": "white"
           },
           "zaxis": {
            "backgroundcolor": "#E5ECF6",
            "gridcolor": "white",
            "gridwidth": 2,
            "linecolor": "white",
            "showbackground": true,
            "ticks": "",
            "zerolinecolor": "white"
           }
          },
          "shapedefaults": {
           "line": {
            "color": "#2a3f5f"
           }
          },
          "ternary": {
           "aaxis": {
            "gridcolor": "white",
            "linecolor": "white",
            "ticks": ""
           },
           "baxis": {
            "gridcolor": "white",
            "linecolor": "white",
            "ticks": ""
           },
           "bgcolor": "#E5ECF6",
           "caxis": {
            "gridcolor": "white",
            "linecolor": "white",
            "ticks": ""
           }
          },
          "title": {
           "x": 0.05
          },
          "xaxis": {
           "automargin": true,
           "gridcolor": "white",
           "linecolor": "white",
           "ticks": "",
           "title": {
            "standoff": 15
           },
           "zerolinecolor": "white",
           "zerolinewidth": 2
          },
          "yaxis": {
           "automargin": true,
           "gridcolor": "white",
           "linecolor": "white",
           "ticks": "",
           "title": {
            "standoff": 15
           },
           "zerolinecolor": "white",
           "zerolinewidth": 2
          }
         }
        },
        "title": {
         "font": {
          "color": "#4D5663"
         }
        },
        "xaxis": {
         "gridcolor": "#E1E5ED",
         "showgrid": true,
         "tickfont": {
          "color": "#4D5663"
         },
         "title": {
          "font": {
           "color": "#4D5663"
          },
          "text": ""
         },
         "zerolinecolor": "#E1E5ED"
        },
        "yaxis": {
         "gridcolor": "#E1E5ED",
         "showgrid": true,
         "tickfont": {
          "color": "#4D5663"
         },
         "title": {
          "font": {
           "color": "#4D5663"
          },
          "text": ""
         },
         "zerolinecolor": "#E1E5ED"
        }
       }
      },
      "text/html": [
       "<div>                            <div id=\"9f23ea0e-54e4-4fa8-8305-bdbc33b589a2\" class=\"plotly-graph-div\" style=\"height:525px; width:100%;\"></div>            <script type=\"text/javascript\">                require([\"plotly\"], function(Plotly) {                    window.PLOTLYENV=window.PLOTLYENV || {};\n",
       "                    window.PLOTLYENV.BASE_URL='https://plot.ly';                                    if (document.getElementById(\"9f23ea0e-54e4-4fa8-8305-bdbc33b589a2\")) {                    Plotly.newPlot(                        \"9f23ea0e-54e4-4fa8-8305-bdbc33b589a2\",                        [{\"line\":{\"color\":\"rgba(255, 153, 51, 1.0)\",\"dash\":\"solid\",\"shape\":\"linear\",\"width\":1.3},\"marker\":{\"size\":12,\"symbol\":\"circle\"},\"mode\":\"markers\",\"name\":\"B\",\"text\":\"\",\"type\":\"scatter\",\"x\":[0.1677295974771182,-1.7872681686554974,0.5693402667655553,-1.0046056144579998,-1.566005297545977,0.464941956949439,-0.7301285902505179,-0.00770207525387605,-0.645384270852266,1.1819510278134386,-1.5185658054222233,-2.9230065372765437,-1.257203979597962,0.001433421201918124,-0.9768940913076974,0.1179172817005367,-0.30219704920914753,-0.22799624179659062,0.42022435518638906,0.7800228959921974,-2.500597164278015,-0.3869411011485532,1.2395743425887107,-1.3795717919376353,0.28054626672134375,0.22869181471788713,-0.6162944867083039,-0.7682547900438489,-2.5081079586290134,1.8294602266781177,1.0365707622550122,1.395225294932962,0.08329047798807905,-2.04420582060628,-1.0450001438558367,-0.14678432354701856,1.161916732719901,-1.3694720067128212,1.1544321155912671,-1.283350277145768,1.3096660691924171,-0.20718454997550748,0.25621064804127797,0.4554234136722749,1.7767178990519135,0.8592311126248331,2.5283202542788517,0.07744736277965077,-0.6305428387429659,1.4344311195291177,-1.149025853632118,0.4373549109868916,0.23275769234795282,0.6684409383813985,-0.5668415540630822,0.4266231201574942,-0.681942960128727,0.5992798444781142,0.08868419039714577,-0.7666801778055945,-0.6111983232775987,-0.4875029233695006,-0.5962535960824918,0.789602717306651,1.0383750947755768,0.034220852098314714,-0.9780068742316993,0.1267182332850658,-0.7021741140029867,0.8190741680262112,-0.6013408433352899,1.2571523443041692,0.8186441656768574,-0.24796367135153904,-0.27136153725087364,0.801612237017389,-0.48793171434477406,0.3588668976833291,-0.6055736712667737,0.7528031288096263,-0.20306412385987466,-0.20516587792133717,-0.8624158526611833,-1.1014615260411138,-1.5707540382142438,-0.2497834507348051,0.04473897694772401,-0.2365835008816788,-0.10061720104210659,-1.5945749924448704,-0.04604438152714954,0.7363827075726151,-0.5217823192653754,0.9395243400826574,0.7343483258925377,0.6514730776072053,-0.21880390918346657,0.35967499409368486,-0.03144010358228288,0.7336108936016698],\"y\":[1.567435203794548,0.5573052784883733,1.6831238256491807,1.0693008020256034,1.4602767496480706,0.8402880102586139,-0.5133259950430152,0.23145053238400348,0.10931525972312732,0.34538604740628476,-0.3088737256167502,0.9840374749172404,0.2884996279189267,1.1054302169366281,0.540789376561366,-0.48340256189418435,-0.8409961690202551,-2.0362060723456192,0.05219836719792028,-0.7129725193068858,1.497614976600417,-0.642083384742269,-0.24781293138397187,-1.2341566561368085,0.4579690402036922,0.35143375271504224,1.2858325567819626,-1.1983173000149776,0.5252332133516171,-1.0384627570578455,1.4335364525369116,-1.4584868023197477,0.36410949339914134,0.9332378000717362,0.5599432122308636,0.31737738042043806,1.8546681640315847,1.591575151429714,0.6919581271350529,-0.4100537207639501,-0.8947405934515628,1.0955188651989451,0.6030233636588795,-0.6732100994866114,0.3736811631937215,2.231836210849512,0.8859658233966378,0.016409020563769274,0.3960782581084781,0.33587752498392603,-1.4593156041646016,0.38347118884821224,1.1169667527529703,-0.6027172890947485,0.015130853727107539,-0.16994123916094722,-0.02135485402617079,-1.0581529789295512,-0.1431989041223105,0.18078518058547607,-0.11581367700884548,0.6459135482357761,-0.2757475394889642,-1.6032453335261103,-1.9950806765893105,-0.95953336891002,-0.36786369125200574,0.63181179906116,1.7965595599066055,0.8753425245476085,-0.09383809935906517,-0.29776189426005345,-1.0523020419953022,-0.4645563791700555,-1.574217751501877,0.1362097487639466,0.5460935657326523,1.0279791086133334,1.3489282088242258,-0.023968790286700403,0.6247889411923466,0.308952838535365,-0.29086174333278536,0.8254760581813883,-0.8433956702342965,-0.5069458272536179,0.3075054846311606,0.7647520946893848,-1.0033303895541608,-0.18050225685933538,0.2496701008157766,-1.1832817387110397,1.5731768811124753,-1.1649769968833978,-0.2648973828682833,-1.0206046462607217,-1.2638406846675438,-1.699340451563812,-0.14373680823001478,0.3183789633812421]}],                        {\"legend\":{\"bgcolor\":\"#F5F6F9\",\"font\":{\"color\":\"#4D5663\"}},\"paper_bgcolor\":\"#F5F6F9\",\"plot_bgcolor\":\"#F5F6F9\",\"template\":{\"data\":{\"bar\":[{\"error_x\":{\"color\":\"#2a3f5f\"},\"error_y\":{\"color\":\"#2a3f5f\"},\"marker\":{\"line\":{\"color\":\"#E5ECF6\",\"width\":0.5},\"pattern\":{\"fillmode\":\"overlay\",\"size\":10,\"solidity\":0.2}},\"type\":\"bar\"}],\"barpolar\":[{\"marker\":{\"line\":{\"color\":\"#E5ECF6\",\"width\":0.5},\"pattern\":{\"fillmode\":\"overlay\",\"size\":10,\"solidity\":0.2}},\"type\":\"barpolar\"}],\"carpet\":[{\"aaxis\":{\"endlinecolor\":\"#2a3f5f\",\"gridcolor\":\"white\",\"linecolor\":\"white\",\"minorgridcolor\":\"white\",\"startlinecolor\":\"#2a3f5f\"},\"baxis\":{\"endlinecolor\":\"#2a3f5f\",\"gridcolor\":\"white\",\"linecolor\":\"white\",\"minorgridcolor\":\"white\",\"startlinecolor\":\"#2a3f5f\"},\"type\":\"carpet\"}],\"choropleth\":[{\"colorbar\":{\"outlinewidth\":0,\"ticks\":\"\"},\"type\":\"choropleth\"}],\"contour\":[{\"colorbar\":{\"outlinewidth\":0,\"ticks\":\"\"},\"colorscale\":[[0.0,\"#0d0887\"],[0.1111111111111111,\"#46039f\"],[0.2222222222222222,\"#7201a8\"],[0.3333333333333333,\"#9c179e\"],[0.4444444444444444,\"#bd3786\"],[0.5555555555555556,\"#d8576b\"],[0.6666666666666666,\"#ed7953\"],[0.7777777777777778,\"#fb9f3a\"],[0.8888888888888888,\"#fdca26\"],[1.0,\"#f0f921\"]],\"type\":\"contour\"}],\"contourcarpet\":[{\"colorbar\":{\"outlinewidth\":0,\"ticks\":\"\"},\"type\":\"contourcarpet\"}],\"heatmap\":[{\"colorbar\":{\"outlinewidth\":0,\"ticks\":\"\"},\"colorscale\":[[0.0,\"#0d0887\"],[0.1111111111111111,\"#46039f\"],[0.2222222222222222,\"#7201a8\"],[0.3333333333333333,\"#9c179e\"],[0.4444444444444444,\"#bd3786\"],[0.5555555555555556,\"#d8576b\"],[0.6666666666666666,\"#ed7953\"],[0.7777777777777778,\"#fb9f3a\"],[0.8888888888888888,\"#fdca26\"],[1.0,\"#f0f921\"]],\"type\":\"heatmap\"}],\"heatmapgl\":[{\"colorbar\":{\"outlinewidth\":0,\"ticks\":\"\"},\"colorscale\":[[0.0,\"#0d0887\"],[0.1111111111111111,\"#46039f\"],[0.2222222222222222,\"#7201a8\"],[0.3333333333333333,\"#9c179e\"],[0.4444444444444444,\"#bd3786\"],[0.5555555555555556,\"#d8576b\"],[0.6666666666666666,\"#ed7953\"],[0.7777777777777778,\"#fb9f3a\"],[0.8888888888888888,\"#fdca26\"],[1.0,\"#f0f921\"]],\"type\":\"heatmapgl\"}],\"histogram\":[{\"marker\":{\"pattern\":{\"fillmode\":\"overlay\",\"size\":10,\"solidity\":0.2}},\"type\":\"histogram\"}],\"histogram2d\":[{\"colorbar\":{\"outlinewidth\":0,\"ticks\":\"\"},\"colorscale\":[[0.0,\"#0d0887\"],[0.1111111111111111,\"#46039f\"],[0.2222222222222222,\"#7201a8\"],[0.3333333333333333,\"#9c179e\"],[0.4444444444444444,\"#bd3786\"],[0.5555555555555556,\"#d8576b\"],[0.6666666666666666,\"#ed7953\"],[0.7777777777777778,\"#fb9f3a\"],[0.8888888888888888,\"#fdca26\"],[1.0,\"#f0f921\"]],\"type\":\"histogram2d\"}],\"histogram2dcontour\":[{\"colorbar\":{\"outlinewidth\":0,\"ticks\":\"\"},\"colorscale\":[[0.0,\"#0d0887\"],[0.1111111111111111,\"#46039f\"],[0.2222222222222222,\"#7201a8\"],[0.3333333333333333,\"#9c179e\"],[0.4444444444444444,\"#bd3786\"],[0.5555555555555556,\"#d8576b\"],[0.6666666666666666,\"#ed7953\"],[0.7777777777777778,\"#fb9f3a\"],[0.8888888888888888,\"#fdca26\"],[1.0,\"#f0f921\"]],\"type\":\"histogram2dcontour\"}],\"mesh3d\":[{\"colorbar\":{\"outlinewidth\":0,\"ticks\":\"\"},\"type\":\"mesh3d\"}],\"parcoords\":[{\"line\":{\"colorbar\":{\"outlinewidth\":0,\"ticks\":\"\"}},\"type\":\"parcoords\"}],\"pie\":[{\"automargin\":true,\"type\":\"pie\"}],\"scatter\":[{\"marker\":{\"colorbar\":{\"outlinewidth\":0,\"ticks\":\"\"}},\"type\":\"scatter\"}],\"scatter3d\":[{\"line\":{\"colorbar\":{\"outlinewidth\":0,\"ticks\":\"\"}},\"marker\":{\"colorbar\":{\"outlinewidth\":0,\"ticks\":\"\"}},\"type\":\"scatter3d\"}],\"scattercarpet\":[{\"marker\":{\"colorbar\":{\"outlinewidth\":0,\"ticks\":\"\"}},\"type\":\"scattercarpet\"}],\"scattergeo\":[{\"marker\":{\"colorbar\":{\"outlinewidth\":0,\"ticks\":\"\"}},\"type\":\"scattergeo\"}],\"scattergl\":[{\"marker\":{\"colorbar\":{\"outlinewidth\":0,\"ticks\":\"\"}},\"type\":\"scattergl\"}],\"scattermapbox\":[{\"marker\":{\"colorbar\":{\"outlinewidth\":0,\"ticks\":\"\"}},\"type\":\"scattermapbox\"}],\"scatterpolar\":[{\"marker\":{\"colorbar\":{\"outlinewidth\":0,\"ticks\":\"\"}},\"type\":\"scatterpolar\"}],\"scatterpolargl\":[{\"marker\":{\"colorbar\":{\"outlinewidth\":0,\"ticks\":\"\"}},\"type\":\"scatterpolargl\"}],\"scatterternary\":[{\"marker\":{\"colorbar\":{\"outlinewidth\":0,\"ticks\":\"\"}},\"type\":\"scatterternary\"}],\"surface\":[{\"colorbar\":{\"outlinewidth\":0,\"ticks\":\"\"},\"colorscale\":[[0.0,\"#0d0887\"],[0.1111111111111111,\"#46039f\"],[0.2222222222222222,\"#7201a8\"],[0.3333333333333333,\"#9c179e\"],[0.4444444444444444,\"#bd3786\"],[0.5555555555555556,\"#d8576b\"],[0.6666666666666666,\"#ed7953\"],[0.7777777777777778,\"#fb9f3a\"],[0.8888888888888888,\"#fdca26\"],[1.0,\"#f0f921\"]],\"type\":\"surface\"}],\"table\":[{\"cells\":{\"fill\":{\"color\":\"#EBF0F8\"},\"line\":{\"color\":\"white\"}},\"header\":{\"fill\":{\"color\":\"#C8D4E3\"},\"line\":{\"color\":\"white\"}},\"type\":\"table\"}]},\"layout\":{\"annotationdefaults\":{\"arrowcolor\":\"#2a3f5f\",\"arrowhead\":0,\"arrowwidth\":1},\"autotypenumbers\":\"strict\",\"coloraxis\":{\"colorbar\":{\"outlinewidth\":0,\"ticks\":\"\"}},\"colorscale\":{\"diverging\":[[0,\"#8e0152\"],[0.1,\"#c51b7d\"],[0.2,\"#de77ae\"],[0.3,\"#f1b6da\"],[0.4,\"#fde0ef\"],[0.5,\"#f7f7f7\"],[0.6,\"#e6f5d0\"],[0.7,\"#b8e186\"],[0.8,\"#7fbc41\"],[0.9,\"#4d9221\"],[1,\"#276419\"]],\"sequential\":[[0.0,\"#0d0887\"],[0.1111111111111111,\"#46039f\"],[0.2222222222222222,\"#7201a8\"],[0.3333333333333333,\"#9c179e\"],[0.4444444444444444,\"#bd3786\"],[0.5555555555555556,\"#d8576b\"],[0.6666666666666666,\"#ed7953\"],[0.7777777777777778,\"#fb9f3a\"],[0.8888888888888888,\"#fdca26\"],[1.0,\"#f0f921\"]],\"sequentialminus\":[[0.0,\"#0d0887\"],[0.1111111111111111,\"#46039f\"],[0.2222222222222222,\"#7201a8\"],[0.3333333333333333,\"#9c179e\"],[0.4444444444444444,\"#bd3786\"],[0.5555555555555556,\"#d8576b\"],[0.6666666666666666,\"#ed7953\"],[0.7777777777777778,\"#fb9f3a\"],[0.8888888888888888,\"#fdca26\"],[1.0,\"#f0f921\"]]},\"colorway\":[\"#636efa\",\"#EF553B\",\"#00cc96\",\"#ab63fa\",\"#FFA15A\",\"#19d3f3\",\"#FF6692\",\"#B6E880\",\"#FF97FF\",\"#FECB52\"],\"font\":{\"color\":\"#2a3f5f\"},\"geo\":{\"bgcolor\":\"white\",\"lakecolor\":\"white\",\"landcolor\":\"#E5ECF6\",\"showlakes\":true,\"showland\":true,\"subunitcolor\":\"white\"},\"hoverlabel\":{\"align\":\"left\"},\"hovermode\":\"closest\",\"mapbox\":{\"style\":\"light\"},\"paper_bgcolor\":\"white\",\"plot_bgcolor\":\"#E5ECF6\",\"polar\":{\"angularaxis\":{\"gridcolor\":\"white\",\"linecolor\":\"white\",\"ticks\":\"\"},\"bgcolor\":\"#E5ECF6\",\"radialaxis\":{\"gridcolor\":\"white\",\"linecolor\":\"white\",\"ticks\":\"\"}},\"scene\":{\"xaxis\":{\"backgroundcolor\":\"#E5ECF6\",\"gridcolor\":\"white\",\"gridwidth\":2,\"linecolor\":\"white\",\"showbackground\":true,\"ticks\":\"\",\"zerolinecolor\":\"white\"},\"yaxis\":{\"backgroundcolor\":\"#E5ECF6\",\"gridcolor\":\"white\",\"gridwidth\":2,\"linecolor\":\"white\",\"showbackground\":true,\"ticks\":\"\",\"zerolinecolor\":\"white\"},\"zaxis\":{\"backgroundcolor\":\"#E5ECF6\",\"gridcolor\":\"white\",\"gridwidth\":2,\"linecolor\":\"white\",\"showbackground\":true,\"ticks\":\"\",\"zerolinecolor\":\"white\"}},\"shapedefaults\":{\"line\":{\"color\":\"#2a3f5f\"}},\"ternary\":{\"aaxis\":{\"gridcolor\":\"white\",\"linecolor\":\"white\",\"ticks\":\"\"},\"baxis\":{\"gridcolor\":\"white\",\"linecolor\":\"white\",\"ticks\":\"\"},\"bgcolor\":\"#E5ECF6\",\"caxis\":{\"gridcolor\":\"white\",\"linecolor\":\"white\",\"ticks\":\"\"}},\"title\":{\"x\":0.05},\"xaxis\":{\"automargin\":true,\"gridcolor\":\"white\",\"linecolor\":\"white\",\"ticks\":\"\",\"title\":{\"standoff\":15},\"zerolinecolor\":\"white\",\"zerolinewidth\":2},\"yaxis\":{\"automargin\":true,\"gridcolor\":\"white\",\"linecolor\":\"white\",\"ticks\":\"\",\"title\":{\"standoff\":15},\"zerolinecolor\":\"white\",\"zerolinewidth\":2}}},\"title\":{\"font\":{\"color\":\"#4D5663\"}},\"xaxis\":{\"gridcolor\":\"#E1E5ED\",\"showgrid\":true,\"tickfont\":{\"color\":\"#4D5663\"},\"title\":{\"font\":{\"color\":\"#4D5663\"},\"text\":\"\"},\"zerolinecolor\":\"#E1E5ED\"},\"yaxis\":{\"gridcolor\":\"#E1E5ED\",\"showgrid\":true,\"tickfont\":{\"color\":\"#4D5663\"},\"title\":{\"font\":{\"color\":\"#4D5663\"},\"text\":\"\"},\"zerolinecolor\":\"#E1E5ED\"}},                        {\"showLink\": true, \"linkText\": \"Export to plot.ly\", \"plotlyServerURL\": \"https://plot.ly\", \"responsive\": true}                    ).then(function(){\n",
       "                            \n",
       "var gd = document.getElementById('9f23ea0e-54e4-4fa8-8305-bdbc33b589a2');\n",
       "var x = new MutationObserver(function (mutations, observer) {{\n",
       "        var display = window.getComputedStyle(gd).display;\n",
       "        if (!display || display === 'none') {{\n",
       "            console.log([gd, 'removed!']);\n",
       "            Plotly.purge(gd);\n",
       "            observer.disconnect();\n",
       "        }}\n",
       "}});\n",
       "\n",
       "// Listen for the removal of the full notebook cells\n",
       "var notebookContainer = gd.closest('#notebook-container');\n",
       "if (notebookContainer) {{\n",
       "    x.observe(notebookContainer, {childList: true});\n",
       "}}\n",
       "\n",
       "// Listen for the clearing of the current output cell\n",
       "var outputEl = gd.closest('.output');\n",
       "if (outputEl) {{\n",
       "    x.observe(outputEl, {childList: true});\n",
       "}}\n",
       "\n",
       "                        })                };                });            </script>        </div>"
      ]
     },
     "metadata": {},
     "output_type": "display_data"
    }
   ],
   "source": [
    "df.iplot(kind=\"scatter\",x=\"A\",y=\"B\",mode=\"markers\")"
   ]
  },
  {
   "cell_type": "code",
   "execution_count": 34,
   "metadata": {},
   "outputs": [
    {
     "data": {
      "application/vnd.plotly.v1+json": {
       "config": {
        "linkText": "Export to plot.ly",
        "plotlyServerURL": "https://plot.ly",
        "showLink": true
       },
       "data": [
        {
         "boxpoints": false,
         "line": {
          "width": 1.3
         },
         "marker": {
          "color": "rgba(255, 153, 51, 1.0)"
         },
         "name": "A",
         "orientation": "v",
         "type": "box",
         "y": [
          1.3958571402522173,
          1.7687417871313142,
          0.10653189579918299,
          -0.06839751030895003,
          -0.22286407251005386,
          -0.911813054415412,
          -1.138374712280638,
          -2.076515295378499,
          0.8355743687848377,
          -1.3852398598619142,
          -0.7881696259183386,
          1.567746687368864,
          1.9892891176353522,
          -0.9830767758554056,
          -0.3627983979158278,
          -0.2820990166954689,
          0.046870071917995845,
          0.19842188879515865,
          -0.6568697207070987,
          -0.764236807627151,
          1.1736716674459398,
          -0.6191162705469615,
          1.084557146065737,
          1.653380999200758,
          1.4090059850128653,
          0.1861857567059522,
          -0.786733985990504,
          -1.600126818156464,
          1.1255562264329135,
          -0.28735115089746577,
          0.2723703615553113,
          -0.9473062585529124,
          0.0002873577943047055,
          0.7331551022767826,
          -0.8872465280594893,
          -1.0264752373869415,
          -0.7409637199245542,
          -0.7046085376423608,
          -0.40775762221923517,
          -1.6784306148900403,
          -0.8407645884416786,
          1.5596392657887848,
          -0.5259211309683172,
          -0.07497933317657705,
          -1.0226455579770275,
          -0.6860456493957651,
          -0.6975946526799793,
          2.1043412618632313,
          0.47785752753502864,
          2.054327559238907,
          -0.6585820392388271,
          -1.3210350576424565,
          -0.22868465795478748,
          -2.6883518205241663,
          0.42664908196041373,
          0.9983811999339781,
          -0.18160768836834684,
          1.6320159222316475,
          -0.2516207782679942,
          -1.5445388099026622,
          -0.7695414918898916,
          0.7546127640134019,
          -0.3359542940734125,
          -1.191926069470237,
          -1.0927364230354342,
          1.2351843215395883,
          0.5051650057793735,
          1.1416519597608146,
          -1.0055825617519072,
          1.6829143708101177,
          -0.32423847811046014,
          -0.5770935042474814,
          -0.06757080836898403,
          0.022809114117759575,
          2.21936698432604,
          -0.35172589279848776,
          -0.04859146944744719,
          -1.1858001293639995,
          0.49929049394009534,
          0.8462783992717402,
          0.05519926184140124,
          0.7422481328903986,
          0.0706953624577117,
          0.7985470808608991,
          0.04725948488277241,
          0.4450498669823275,
          -0.4022199827458861,
          0.047164515076318976,
          0.7103398027557435,
          0.3877377434028861,
          -0.7411714841424565,
          -1.2280193523166323,
          1.9568324643654835,
          -1.215878836062444,
          0.15667208570674476,
          -0.10815633343085357,
          -0.9009243428302873,
          -0.0795524993928057,
          -0.8454673086593281,
          -0.3389249262706094
         ]
        },
        {
         "boxpoints": false,
         "line": {
          "width": 1.3
         },
         "marker": {
          "color": "rgba(55, 128, 191, 1.0)"
         },
         "name": "B",
         "orientation": "v",
         "type": "box",
         "y": [
          0.31109329086789356,
          -0.5896119792127454,
          0.18249769739963367,
          0.21273906694711908,
          0.34546790380517933,
          1.4360691722389451,
          0.0343021349022167,
          -2.2980295614555537,
          -0.7237288140051719,
          0.806522745140201,
          1.55988029049177,
          0.659722457974447,
          0.6928752051233459,
          -0.3433248984765326,
          -2.151751528618054,
          1.1691350062192414,
          -0.5301247177872519,
          -1.5048533378505118,
          0.5047690078441021,
          0.7775406491403986,
          0.49904089052427425,
          0.8296443449352046,
          1.0896299791611008,
          0.7377019861129948,
          1.0180645558788401,
          2.093681731800379,
          -0.09126646340663945,
          0.44804128182266945,
          -0.4816226664996335,
          -0.621942600653705,
          0.9944941339374124,
          0.6654419517329713,
          0.5128809494180684,
          0.9180080552315676,
          -0.9709378852782818,
          -0.14147321728217505,
          -0.5176675881051254,
          2.3059657949304326,
          1.4963679195653352,
          1.9839559596060798,
          -1.6702107081802164,
          0.4294416061188701,
          0.012606398726399072,
          1.2428092614742294,
          0.9511349956811631,
          -1.279460026426591,
          0.3816809303288523,
          -0.9014048293561713,
          -1.2103133313567842,
          1.154954986794404,
          1.100899783879604,
          -0.21599626415112302,
          0.333822558746985,
          -1.315563202336242,
          -1.5552900360807937,
          1.252717178399084,
          -1.3743601997655164,
          -0.25862816090832486,
          -1.8315619262622933,
          -1.1722014006145083,
          0.2912483438736711,
          0.19565927515916923,
          -0.2342104353474634,
          0.20546762939681662,
          0.6121835437337633,
          -0.37335920121020494,
          0.3317532063059609,
          -1.9925436753413595,
          -1.6003098768246704,
          0.3514677569461104,
          1.3272177621816075,
          1.4029331703224068,
          0.3523168323756554,
          0.3309423247587541,
          -1.9510545964729062,
          -1.4014187409082823,
          -0.5397632785490671,
          -0.08521821954972478,
          -0.16621049899519807,
          -1.475760420609932,
          -0.5598875937119878,
          1.0939185750888833,
          1.872907682637046,
          0.758055974295879,
          -1.3348431468217508,
          0.3276533558639439,
          0.6821689694033598,
          0.03168399942849605,
          -1.2437262113594139,
          -0.8514055203570562,
          -0.5032698663296064,
          -0.06416017208904702,
          2.520308466556398,
          -1.235168939598875,
          0.2505454787907699,
          0.053354249893103584,
          1.3103937710010418,
          2.225094555722162,
          -0.19809983931161484,
          0.09120185081284775
         ]
        },
        {
         "boxpoints": false,
         "line": {
          "width": 1.3
         },
         "marker": {
          "color": "rgba(50, 171, 96, 1.0)"
         },
         "name": "C",
         "orientation": "v",
         "type": "box",
         "y": [
          1.6347658526715707,
          0.2868586057317435,
          -1.1562648342698731,
          -0.08096746768648701,
          -0.6167471403758398,
          -0.5758832138866083,
          0.8108208508319218,
          -1.0870215404056656,
          -0.07882969863844433,
          1.7098957232099565,
          0.14184658180245865,
          -0.3081737658753205,
          0.9132869778141347,
          -0.24045150325404466,
          0.05224488780186278,
          -0.5902977031351417,
          -1.1013758559030982,
          -1.7423836798709382,
          -1.1447021942943114,
          -0.1752950805698457,
          0.5662644067398914,
          -1.0951424204276554,
          0.06389935443279016,
          0.34327788790985214,
          1.1105754615255787,
          0.4283397206549526,
          -1.4958995280841378,
          -0.5852169948565668,
          0.8332738834247893,
          0.5045165768682954,
          -1.7024023233284435,
          1.0402636536161,
          -0.5218764033023217,
          -0.6928485754828932,
          1.8430566071675716,
          -0.33495777416551165,
          1.8819694141478087,
          -1.506445103837816,
          -0.2181805745043368,
          0.464152066199954,
          0.5002602672803182,
          -0.2820660695831403,
          -0.3977998875094609,
          -0.555570631751226,
          -0.735579551040796,
          0.1368268647621024,
          0.7293963124147521,
          -1.5075918371206725,
          0.3667540518218954,
          0.7019533064362523,
          -2.9236604136004454,
          -0.277702479609747,
          -0.901982659077775,
          0.18063200126557233,
          -1.3966338225180648,
          0.6048147982246752,
          -0.26078897536011447,
          0.6637555851890443,
          1.9976061906852782,
          1.1294052534785939,
          0.8177086473878505,
          -1.7480401600690183,
          -0.5361242445091391,
          -0.26559247053750384,
          0.5098542916943661,
          -0.2345461255805308,
          1.9747822938241544,
          2.254746472696296,
          0.08211099981809841,
          1.378050506201138,
          0.8698593321848085,
          -0.38183497633304236,
          -0.7650763803471096,
          -0.25757827012711987,
          -0.13697681624781097,
          0.022256657363951684,
          -0.16701125073550563,
          -1.2052409291688266,
          0.2153640825852169,
          -0.6603215482046738,
          -0.9246395318755377,
          0.2388772812997699,
          -0.09671899060144923,
          0.4772431061024023,
          1.329180265253229,
          0.2039724441624209,
          1.8903692491664805,
          -0.09282202121260788,
          -0.5108951338479449,
          -0.4641329831175329,
          -0.5091373795411394,
          0.3957269728935815,
          0.39999599523296525,
          1.551440212582932,
          -0.15421545387631033,
          0.05744405671059272,
          -1.107867984381729,
          0.02368946061881002,
          -1.1732332161269206,
          2.260195275456725
         ]
        },
        {
         "boxpoints": false,
         "line": {
          "width": 1.3
         },
         "marker": {
          "color": "rgba(128, 0, 128, 1.0)"
         },
         "name": "D",
         "orientation": "v",
         "type": "box",
         "y": [
          2.8831187598308805,
          -0.835021415941102,
          0.6633161011647011,
          1.542062312217833,
          -0.7055570970593087,
          -0.1511906206339422,
          -0.05465853803434885,
          -1.169533023761951,
          -0.6916683428080085,
          0.2394856594696669,
          -1.345842346942365,
          0.3977879363001694,
          -0.23123006480597189,
          0.2522395322026367,
          0.39707129252669743,
          0.0655973212620371,
          0.7719389232063344,
          -0.3491744026272944,
          -0.4388648313267055,
          -0.8332580325162625,
          -0.45522041033690347,
          1.475758446467513,
          0.46437235734381616,
          0.6323065761382201,
          0.5416588560570849,
          0.25801145553380234,
          1.3369896856811678,
          -0.6564072156035029,
          0.19376484831734087,
          0.2937667665765117,
          -1.570492942850171,
          -0.6132092438031086,
          1.5111471458467387,
          1.4633282497792037,
          -0.5585460355998368,
          0.32387720916432833,
          1.5271944757887963,
          -0.6993724791258156,
          -1.5432373425408235,
          0.6805635570982138,
          -0.19403225360505208,
          0.9480303038533627,
          -0.001493232412873552,
          -0.1260431308820136,
          0.030837471934231073,
          -0.21699904721603303,
          -0.22728208777171935,
          -0.7072797893297744,
          -1.3558412838883938,
          -0.6844111539116826,
          0.5539332790179642,
          -0.4118852703804302,
          2.8460788901212912,
          1.2974613781232007,
          0.5117927704903444,
          -0.19686216154501063,
          -0.04105661866255928,
          0.02944813114580223,
          0.00045103826612160827,
          0.6946718869643124,
          -0.6255811767405366,
          -0.5237957145629558,
          -1.0508786315885654,
          1.300523204664431,
          0.21775814639420724,
          1.7977239274953862,
          0.7538051335850401,
          0.33370278107066437,
          -0.5353501714312515,
          -0.1278658292281604,
          0.8353094467516324,
          0.033291188722614655,
          -1.8486398414376155,
          -0.36918541919466913,
          -0.7090557181720686,
          0.07101097797203515,
          -1.7582691426380328,
          0.4151293843885225,
          0.525482801901166,
          1.0003975958713374,
          -0.7251437905020867,
          -0.05179773148786689,
          -1.1353922612864336,
          0.06393207281323608,
          1.478463629052684,
          0.6106599777216862,
          -0.001685620128343559,
          -0.06397171849575364,
          1.0761770444118255,
          0.4883548211682853,
          0.6489448248739202,
          0.6193015694937775,
          1.4537881976338332,
          0.4233463140182659,
          -0.48092132233387946,
          0.8593760397778081,
          1.6325366551129092,
          -1.6920863673126614,
          1.4973368132603428,
          -0.46268269730843625
         ]
        }
       ],
       "layout": {
        "legend": {
         "bgcolor": "#F5F6F9",
         "font": {
          "color": "#4D5663"
         }
        },
        "paper_bgcolor": "#F5F6F9",
        "plot_bgcolor": "#F5F6F9",
        "template": {
         "data": {
          "bar": [
           {
            "error_x": {
             "color": "#2a3f5f"
            },
            "error_y": {
             "color": "#2a3f5f"
            },
            "marker": {
             "line": {
              "color": "#E5ECF6",
              "width": 0.5
             },
             "pattern": {
              "fillmode": "overlay",
              "size": 10,
              "solidity": 0.2
             }
            },
            "type": "bar"
           }
          ],
          "barpolar": [
           {
            "marker": {
             "line": {
              "color": "#E5ECF6",
              "width": 0.5
             },
             "pattern": {
              "fillmode": "overlay",
              "size": 10,
              "solidity": 0.2
             }
            },
            "type": "barpolar"
           }
          ],
          "carpet": [
           {
            "aaxis": {
             "endlinecolor": "#2a3f5f",
             "gridcolor": "white",
             "linecolor": "white",
             "minorgridcolor": "white",
             "startlinecolor": "#2a3f5f"
            },
            "baxis": {
             "endlinecolor": "#2a3f5f",
             "gridcolor": "white",
             "linecolor": "white",
             "minorgridcolor": "white",
             "startlinecolor": "#2a3f5f"
            },
            "type": "carpet"
           }
          ],
          "choropleth": [
           {
            "colorbar": {
             "outlinewidth": 0,
             "ticks": ""
            },
            "type": "choropleth"
           }
          ],
          "contour": [
           {
            "colorbar": {
             "outlinewidth": 0,
             "ticks": ""
            },
            "colorscale": [
             [
              0,
              "#0d0887"
             ],
             [
              0.1111111111111111,
              "#46039f"
             ],
             [
              0.2222222222222222,
              "#7201a8"
             ],
             [
              0.3333333333333333,
              "#9c179e"
             ],
             [
              0.4444444444444444,
              "#bd3786"
             ],
             [
              0.5555555555555556,
              "#d8576b"
             ],
             [
              0.6666666666666666,
              "#ed7953"
             ],
             [
              0.7777777777777778,
              "#fb9f3a"
             ],
             [
              0.8888888888888888,
              "#fdca26"
             ],
             [
              1,
              "#f0f921"
             ]
            ],
            "type": "contour"
           }
          ],
          "contourcarpet": [
           {
            "colorbar": {
             "outlinewidth": 0,
             "ticks": ""
            },
            "type": "contourcarpet"
           }
          ],
          "heatmap": [
           {
            "colorbar": {
             "outlinewidth": 0,
             "ticks": ""
            },
            "colorscale": [
             [
              0,
              "#0d0887"
             ],
             [
              0.1111111111111111,
              "#46039f"
             ],
             [
              0.2222222222222222,
              "#7201a8"
             ],
             [
              0.3333333333333333,
              "#9c179e"
             ],
             [
              0.4444444444444444,
              "#bd3786"
             ],
             [
              0.5555555555555556,
              "#d8576b"
             ],
             [
              0.6666666666666666,
              "#ed7953"
             ],
             [
              0.7777777777777778,
              "#fb9f3a"
             ],
             [
              0.8888888888888888,
              "#fdca26"
             ],
             [
              1,
              "#f0f921"
             ]
            ],
            "type": "heatmap"
           }
          ],
          "heatmapgl": [
           {
            "colorbar": {
             "outlinewidth": 0,
             "ticks": ""
            },
            "colorscale": [
             [
              0,
              "#0d0887"
             ],
             [
              0.1111111111111111,
              "#46039f"
             ],
             [
              0.2222222222222222,
              "#7201a8"
             ],
             [
              0.3333333333333333,
              "#9c179e"
             ],
             [
              0.4444444444444444,
              "#bd3786"
             ],
             [
              0.5555555555555556,
              "#d8576b"
             ],
             [
              0.6666666666666666,
              "#ed7953"
             ],
             [
              0.7777777777777778,
              "#fb9f3a"
             ],
             [
              0.8888888888888888,
              "#fdca26"
             ],
             [
              1,
              "#f0f921"
             ]
            ],
            "type": "heatmapgl"
           }
          ],
          "histogram": [
           {
            "marker": {
             "pattern": {
              "fillmode": "overlay",
              "size": 10,
              "solidity": 0.2
             }
            },
            "type": "histogram"
           }
          ],
          "histogram2d": [
           {
            "colorbar": {
             "outlinewidth": 0,
             "ticks": ""
            },
            "colorscale": [
             [
              0,
              "#0d0887"
             ],
             [
              0.1111111111111111,
              "#46039f"
             ],
             [
              0.2222222222222222,
              "#7201a8"
             ],
             [
              0.3333333333333333,
              "#9c179e"
             ],
             [
              0.4444444444444444,
              "#bd3786"
             ],
             [
              0.5555555555555556,
              "#d8576b"
             ],
             [
              0.6666666666666666,
              "#ed7953"
             ],
             [
              0.7777777777777778,
              "#fb9f3a"
             ],
             [
              0.8888888888888888,
              "#fdca26"
             ],
             [
              1,
              "#f0f921"
             ]
            ],
            "type": "histogram2d"
           }
          ],
          "histogram2dcontour": [
           {
            "colorbar": {
             "outlinewidth": 0,
             "ticks": ""
            },
            "colorscale": [
             [
              0,
              "#0d0887"
             ],
             [
              0.1111111111111111,
              "#46039f"
             ],
             [
              0.2222222222222222,
              "#7201a8"
             ],
             [
              0.3333333333333333,
              "#9c179e"
             ],
             [
              0.4444444444444444,
              "#bd3786"
             ],
             [
              0.5555555555555556,
              "#d8576b"
             ],
             [
              0.6666666666666666,
              "#ed7953"
             ],
             [
              0.7777777777777778,
              "#fb9f3a"
             ],
             [
              0.8888888888888888,
              "#fdca26"
             ],
             [
              1,
              "#f0f921"
             ]
            ],
            "type": "histogram2dcontour"
           }
          ],
          "mesh3d": [
           {
            "colorbar": {
             "outlinewidth": 0,
             "ticks": ""
            },
            "type": "mesh3d"
           }
          ],
          "parcoords": [
           {
            "line": {
             "colorbar": {
              "outlinewidth": 0,
              "ticks": ""
             }
            },
            "type": "parcoords"
           }
          ],
          "pie": [
           {
            "automargin": true,
            "type": "pie"
           }
          ],
          "scatter": [
           {
            "marker": {
             "colorbar": {
              "outlinewidth": 0,
              "ticks": ""
             }
            },
            "type": "scatter"
           }
          ],
          "scatter3d": [
           {
            "line": {
             "colorbar": {
              "outlinewidth": 0,
              "ticks": ""
             }
            },
            "marker": {
             "colorbar": {
              "outlinewidth": 0,
              "ticks": ""
             }
            },
            "type": "scatter3d"
           }
          ],
          "scattercarpet": [
           {
            "marker": {
             "colorbar": {
              "outlinewidth": 0,
              "ticks": ""
             }
            },
            "type": "scattercarpet"
           }
          ],
          "scattergeo": [
           {
            "marker": {
             "colorbar": {
              "outlinewidth": 0,
              "ticks": ""
             }
            },
            "type": "scattergeo"
           }
          ],
          "scattergl": [
           {
            "marker": {
             "colorbar": {
              "outlinewidth": 0,
              "ticks": ""
             }
            },
            "type": "scattergl"
           }
          ],
          "scattermapbox": [
           {
            "marker": {
             "colorbar": {
              "outlinewidth": 0,
              "ticks": ""
             }
            },
            "type": "scattermapbox"
           }
          ],
          "scatterpolar": [
           {
            "marker": {
             "colorbar": {
              "outlinewidth": 0,
              "ticks": ""
             }
            },
            "type": "scatterpolar"
           }
          ],
          "scatterpolargl": [
           {
            "marker": {
             "colorbar": {
              "outlinewidth": 0,
              "ticks": ""
             }
            },
            "type": "scatterpolargl"
           }
          ],
          "scatterternary": [
           {
            "marker": {
             "colorbar": {
              "outlinewidth": 0,
              "ticks": ""
             }
            },
            "type": "scatterternary"
           }
          ],
          "surface": [
           {
            "colorbar": {
             "outlinewidth": 0,
             "ticks": ""
            },
            "colorscale": [
             [
              0,
              "#0d0887"
             ],
             [
              0.1111111111111111,
              "#46039f"
             ],
             [
              0.2222222222222222,
              "#7201a8"
             ],
             [
              0.3333333333333333,
              "#9c179e"
             ],
             [
              0.4444444444444444,
              "#bd3786"
             ],
             [
              0.5555555555555556,
              "#d8576b"
             ],
             [
              0.6666666666666666,
              "#ed7953"
             ],
             [
              0.7777777777777778,
              "#fb9f3a"
             ],
             [
              0.8888888888888888,
              "#fdca26"
             ],
             [
              1,
              "#f0f921"
             ]
            ],
            "type": "surface"
           }
          ],
          "table": [
           {
            "cells": {
             "fill": {
              "color": "#EBF0F8"
             },
             "line": {
              "color": "white"
             }
            },
            "header": {
             "fill": {
              "color": "#C8D4E3"
             },
             "line": {
              "color": "white"
             }
            },
            "type": "table"
           }
          ]
         },
         "layout": {
          "annotationdefaults": {
           "arrowcolor": "#2a3f5f",
           "arrowhead": 0,
           "arrowwidth": 1
          },
          "autotypenumbers": "strict",
          "coloraxis": {
           "colorbar": {
            "outlinewidth": 0,
            "ticks": ""
           }
          },
          "colorscale": {
           "diverging": [
            [
             0,
             "#8e0152"
            ],
            [
             0.1,
             "#c51b7d"
            ],
            [
             0.2,
             "#de77ae"
            ],
            [
             0.3,
             "#f1b6da"
            ],
            [
             0.4,
             "#fde0ef"
            ],
            [
             0.5,
             "#f7f7f7"
            ],
            [
             0.6,
             "#e6f5d0"
            ],
            [
             0.7,
             "#b8e186"
            ],
            [
             0.8,
             "#7fbc41"
            ],
            [
             0.9,
             "#4d9221"
            ],
            [
             1,
             "#276419"
            ]
           ],
           "sequential": [
            [
             0,
             "#0d0887"
            ],
            [
             0.1111111111111111,
             "#46039f"
            ],
            [
             0.2222222222222222,
             "#7201a8"
            ],
            [
             0.3333333333333333,
             "#9c179e"
            ],
            [
             0.4444444444444444,
             "#bd3786"
            ],
            [
             0.5555555555555556,
             "#d8576b"
            ],
            [
             0.6666666666666666,
             "#ed7953"
            ],
            [
             0.7777777777777778,
             "#fb9f3a"
            ],
            [
             0.8888888888888888,
             "#fdca26"
            ],
            [
             1,
             "#f0f921"
            ]
           ],
           "sequentialminus": [
            [
             0,
             "#0d0887"
            ],
            [
             0.1111111111111111,
             "#46039f"
            ],
            [
             0.2222222222222222,
             "#7201a8"
            ],
            [
             0.3333333333333333,
             "#9c179e"
            ],
            [
             0.4444444444444444,
             "#bd3786"
            ],
            [
             0.5555555555555556,
             "#d8576b"
            ],
            [
             0.6666666666666666,
             "#ed7953"
            ],
            [
             0.7777777777777778,
             "#fb9f3a"
            ],
            [
             0.8888888888888888,
             "#fdca26"
            ],
            [
             1,
             "#f0f921"
            ]
           ]
          },
          "colorway": [
           "#636efa",
           "#EF553B",
           "#00cc96",
           "#ab63fa",
           "#FFA15A",
           "#19d3f3",
           "#FF6692",
           "#B6E880",
           "#FF97FF",
           "#FECB52"
          ],
          "font": {
           "color": "#2a3f5f"
          },
          "geo": {
           "bgcolor": "white",
           "lakecolor": "white",
           "landcolor": "#E5ECF6",
           "showlakes": true,
           "showland": true,
           "subunitcolor": "white"
          },
          "hoverlabel": {
           "align": "left"
          },
          "hovermode": "closest",
          "mapbox": {
           "style": "light"
          },
          "paper_bgcolor": "white",
          "plot_bgcolor": "#E5ECF6",
          "polar": {
           "angularaxis": {
            "gridcolor": "white",
            "linecolor": "white",
            "ticks": ""
           },
           "bgcolor": "#E5ECF6",
           "radialaxis": {
            "gridcolor": "white",
            "linecolor": "white",
            "ticks": ""
           }
          },
          "scene": {
           "xaxis": {
            "backgroundcolor": "#E5ECF6",
            "gridcolor": "white",
            "gridwidth": 2,
            "linecolor": "white",
            "showbackground": true,
            "ticks": "",
            "zerolinecolor": "white"
           },
           "yaxis": {
            "backgroundcolor": "#E5ECF6",
            "gridcolor": "white",
            "gridwidth": 2,
            "linecolor": "white",
            "showbackground": true,
            "ticks": "",
            "zerolinecolor": "white"
           },
           "zaxis": {
            "backgroundcolor": "#E5ECF6",
            "gridcolor": "white",
            "gridwidth": 2,
            "linecolor": "white",
            "showbackground": true,
            "ticks": "",
            "zerolinecolor": "white"
           }
          },
          "shapedefaults": {
           "line": {
            "color": "#2a3f5f"
           }
          },
          "ternary": {
           "aaxis": {
            "gridcolor": "white",
            "linecolor": "white",
            "ticks": ""
           },
           "baxis": {
            "gridcolor": "white",
            "linecolor": "white",
            "ticks": ""
           },
           "bgcolor": "#E5ECF6",
           "caxis": {
            "gridcolor": "white",
            "linecolor": "white",
            "ticks": ""
           }
          },
          "title": {
           "x": 0.05
          },
          "xaxis": {
           "automargin": true,
           "gridcolor": "white",
           "linecolor": "white",
           "ticks": "",
           "title": {
            "standoff": 15
           },
           "zerolinecolor": "white",
           "zerolinewidth": 2
          },
          "yaxis": {
           "automargin": true,
           "gridcolor": "white",
           "linecolor": "white",
           "ticks": "",
           "title": {
            "standoff": 15
           },
           "zerolinecolor": "white",
           "zerolinewidth": 2
          }
         }
        },
        "title": {
         "font": {
          "color": "#4D5663"
         }
        },
        "xaxis": {
         "gridcolor": "#E1E5ED",
         "showgrid": true,
         "tickfont": {
          "color": "#4D5663"
         },
         "title": {
          "font": {
           "color": "#4D5663"
          },
          "text": ""
         },
         "zerolinecolor": "#E1E5ED"
        },
        "yaxis": {
         "gridcolor": "#E1E5ED",
         "showgrid": true,
         "tickfont": {
          "color": "#4D5663"
         },
         "title": {
          "font": {
           "color": "#4D5663"
          },
          "text": ""
         },
         "zerolinecolor": "#E1E5ED"
        }
       }
      },
      "text/html": [
       "<div>                            <div id=\"a782740e-1dd1-44b0-9899-8b97f69c2058\" class=\"plotly-graph-div\" style=\"height:525px; width:100%;\"></div>            <script type=\"text/javascript\">                require([\"plotly\"], function(Plotly) {                    window.PLOTLYENV=window.PLOTLYENV || {};\n",
       "                    window.PLOTLYENV.BASE_URL='https://plot.ly';                                    if (document.getElementById(\"a782740e-1dd1-44b0-9899-8b97f69c2058\")) {                    Plotly.newPlot(                        \"a782740e-1dd1-44b0-9899-8b97f69c2058\",                        [{\"boxpoints\":false,\"line\":{\"width\":1.3},\"marker\":{\"color\":\"rgba(255, 153, 51, 1.0)\"},\"name\":\"A\",\"orientation\":\"v\",\"type\":\"box\",\"y\":[1.3958571402522173,1.7687417871313142,0.10653189579918299,-0.06839751030895003,-0.22286407251005386,-0.911813054415412,-1.138374712280638,-2.076515295378499,0.8355743687848377,-1.3852398598619142,-0.7881696259183386,1.567746687368864,1.9892891176353522,-0.9830767758554056,-0.3627983979158278,-0.2820990166954689,0.046870071917995845,0.19842188879515865,-0.6568697207070987,-0.764236807627151,1.1736716674459398,-0.6191162705469615,1.084557146065737,1.653380999200758,1.4090059850128653,0.1861857567059522,-0.786733985990504,-1.600126818156464,1.1255562264329135,-0.28735115089746577,0.2723703615553113,-0.9473062585529124,0.0002873577943047055,0.7331551022767826,-0.8872465280594893,-1.0264752373869415,-0.7409637199245542,-0.7046085376423608,-0.40775762221923517,-1.6784306148900403,-0.8407645884416786,1.5596392657887848,-0.5259211309683172,-0.07497933317657705,-1.0226455579770275,-0.6860456493957651,-0.6975946526799793,2.1043412618632313,0.47785752753502864,2.054327559238907,-0.6585820392388271,-1.3210350576424565,-0.22868465795478748,-2.6883518205241663,0.42664908196041373,0.9983811999339781,-0.18160768836834684,1.6320159222316475,-0.2516207782679942,-1.5445388099026622,-0.7695414918898916,0.7546127640134019,-0.3359542940734125,-1.191926069470237,-1.0927364230354342,1.2351843215395883,0.5051650057793735,1.1416519597608146,-1.0055825617519072,1.6829143708101177,-0.32423847811046014,-0.5770935042474814,-0.06757080836898403,0.022809114117759575,2.21936698432604,-0.35172589279848776,-0.04859146944744719,-1.1858001293639995,0.49929049394009534,0.8462783992717402,0.05519926184140124,0.7422481328903986,0.0706953624577117,0.7985470808608991,0.04725948488277241,0.4450498669823275,-0.4022199827458861,0.047164515076318976,0.7103398027557435,0.3877377434028861,-0.7411714841424565,-1.2280193523166323,1.9568324643654835,-1.215878836062444,0.15667208570674476,-0.10815633343085357,-0.9009243428302873,-0.0795524993928057,-0.8454673086593281,-0.3389249262706094]},{\"boxpoints\":false,\"line\":{\"width\":1.3},\"marker\":{\"color\":\"rgba(55, 128, 191, 1.0)\"},\"name\":\"B\",\"orientation\":\"v\",\"type\":\"box\",\"y\":[0.31109329086789356,-0.5896119792127454,0.18249769739963367,0.21273906694711908,0.34546790380517933,1.4360691722389451,0.0343021349022167,-2.2980295614555537,-0.7237288140051719,0.806522745140201,1.55988029049177,0.659722457974447,0.6928752051233459,-0.3433248984765326,-2.151751528618054,1.1691350062192414,-0.5301247177872519,-1.5048533378505118,0.5047690078441021,0.7775406491403986,0.49904089052427425,0.8296443449352046,1.0896299791611008,0.7377019861129948,1.0180645558788401,2.093681731800379,-0.09126646340663945,0.44804128182266945,-0.4816226664996335,-0.621942600653705,0.9944941339374124,0.6654419517329713,0.5128809494180684,0.9180080552315676,-0.9709378852782818,-0.14147321728217505,-0.5176675881051254,2.3059657949304326,1.4963679195653352,1.9839559596060798,-1.6702107081802164,0.4294416061188701,0.012606398726399072,1.2428092614742294,0.9511349956811631,-1.279460026426591,0.3816809303288523,-0.9014048293561713,-1.2103133313567842,1.154954986794404,1.100899783879604,-0.21599626415112302,0.333822558746985,-1.315563202336242,-1.5552900360807937,1.252717178399084,-1.3743601997655164,-0.25862816090832486,-1.8315619262622933,-1.1722014006145083,0.2912483438736711,0.19565927515916923,-0.2342104353474634,0.20546762939681662,0.6121835437337633,-0.37335920121020494,0.3317532063059609,-1.9925436753413595,-1.6003098768246704,0.3514677569461104,1.3272177621816075,1.4029331703224068,0.3523168323756554,0.3309423247587541,-1.9510545964729062,-1.4014187409082823,-0.5397632785490671,-0.08521821954972478,-0.16621049899519807,-1.475760420609932,-0.5598875937119878,1.0939185750888833,1.872907682637046,0.758055974295879,-1.3348431468217508,0.3276533558639439,0.6821689694033598,0.03168399942849605,-1.2437262113594139,-0.8514055203570562,-0.5032698663296064,-0.06416017208904702,2.520308466556398,-1.235168939598875,0.2505454787907699,0.053354249893103584,1.3103937710010418,2.225094555722162,-0.19809983931161484,0.09120185081284775]},{\"boxpoints\":false,\"line\":{\"width\":1.3},\"marker\":{\"color\":\"rgba(50, 171, 96, 1.0)\"},\"name\":\"C\",\"orientation\":\"v\",\"type\":\"box\",\"y\":[1.6347658526715707,0.2868586057317435,-1.1562648342698731,-0.08096746768648701,-0.6167471403758398,-0.5758832138866083,0.8108208508319218,-1.0870215404056656,-0.07882969863844433,1.7098957232099565,0.14184658180245865,-0.3081737658753205,0.9132869778141347,-0.24045150325404466,0.05224488780186278,-0.5902977031351417,-1.1013758559030982,-1.7423836798709382,-1.1447021942943114,-0.1752950805698457,0.5662644067398914,-1.0951424204276554,0.06389935443279016,0.34327788790985214,1.1105754615255787,0.4283397206549526,-1.4958995280841378,-0.5852169948565668,0.8332738834247893,0.5045165768682954,-1.7024023233284435,1.0402636536161,-0.5218764033023217,-0.6928485754828932,1.8430566071675716,-0.33495777416551165,1.8819694141478087,-1.506445103837816,-0.2181805745043368,0.464152066199954,0.5002602672803182,-0.2820660695831403,-0.3977998875094609,-0.555570631751226,-0.735579551040796,0.1368268647621024,0.7293963124147521,-1.5075918371206725,0.3667540518218954,0.7019533064362523,-2.9236604136004454,-0.277702479609747,-0.901982659077775,0.18063200126557233,-1.3966338225180648,0.6048147982246752,-0.26078897536011447,0.6637555851890443,1.9976061906852782,1.1294052534785939,0.8177086473878505,-1.7480401600690183,-0.5361242445091391,-0.26559247053750384,0.5098542916943661,-0.2345461255805308,1.9747822938241544,2.254746472696296,0.08211099981809841,1.378050506201138,0.8698593321848085,-0.38183497633304236,-0.7650763803471096,-0.25757827012711987,-0.13697681624781097,0.022256657363951684,-0.16701125073550563,-1.2052409291688266,0.2153640825852169,-0.6603215482046738,-0.9246395318755377,0.2388772812997699,-0.09671899060144923,0.4772431061024023,1.329180265253229,0.2039724441624209,1.8903692491664805,-0.09282202121260788,-0.5108951338479449,-0.4641329831175329,-0.5091373795411394,0.3957269728935815,0.39999599523296525,1.551440212582932,-0.15421545387631033,0.05744405671059272,-1.107867984381729,0.02368946061881002,-1.1732332161269206,2.260195275456725]},{\"boxpoints\":false,\"line\":{\"width\":1.3},\"marker\":{\"color\":\"rgba(128, 0, 128, 1.0)\"},\"name\":\"D\",\"orientation\":\"v\",\"type\":\"box\",\"y\":[2.8831187598308805,-0.835021415941102,0.6633161011647011,1.542062312217833,-0.7055570970593087,-0.1511906206339422,-0.05465853803434885,-1.169533023761951,-0.6916683428080085,0.2394856594696669,-1.345842346942365,0.3977879363001694,-0.23123006480597189,0.2522395322026367,0.39707129252669743,0.0655973212620371,0.7719389232063344,-0.3491744026272944,-0.4388648313267055,-0.8332580325162625,-0.45522041033690347,1.475758446467513,0.46437235734381616,0.6323065761382201,0.5416588560570849,0.25801145553380234,1.3369896856811678,-0.6564072156035029,0.19376484831734087,0.2937667665765117,-1.570492942850171,-0.6132092438031086,1.5111471458467387,1.4633282497792037,-0.5585460355998368,0.32387720916432833,1.5271944757887963,-0.6993724791258156,-1.5432373425408235,0.6805635570982138,-0.19403225360505208,0.9480303038533627,-0.001493232412873552,-0.1260431308820136,0.030837471934231073,-0.21699904721603303,-0.22728208777171935,-0.7072797893297744,-1.3558412838883938,-0.6844111539116826,0.5539332790179642,-0.4118852703804302,2.8460788901212912,1.2974613781232007,0.5117927704903444,-0.19686216154501063,-0.04105661866255928,0.02944813114580223,0.00045103826612160827,0.6946718869643124,-0.6255811767405366,-0.5237957145629558,-1.0508786315885654,1.300523204664431,0.21775814639420724,1.7977239274953862,0.7538051335850401,0.33370278107066437,-0.5353501714312515,-0.1278658292281604,0.8353094467516324,0.033291188722614655,-1.8486398414376155,-0.36918541919466913,-0.7090557181720686,0.07101097797203515,-1.7582691426380328,0.4151293843885225,0.525482801901166,1.0003975958713374,-0.7251437905020867,-0.05179773148786689,-1.1353922612864336,0.06393207281323608,1.478463629052684,0.6106599777216862,-0.001685620128343559,-0.06397171849575364,1.0761770444118255,0.4883548211682853,0.6489448248739202,0.6193015694937775,1.4537881976338332,0.4233463140182659,-0.48092132233387946,0.8593760397778081,1.6325366551129092,-1.6920863673126614,1.4973368132603428,-0.46268269730843625]}],                        {\"legend\":{\"bgcolor\":\"#F5F6F9\",\"font\":{\"color\":\"#4D5663\"}},\"paper_bgcolor\":\"#F5F6F9\",\"plot_bgcolor\":\"#F5F6F9\",\"template\":{\"data\":{\"bar\":[{\"error_x\":{\"color\":\"#2a3f5f\"},\"error_y\":{\"color\":\"#2a3f5f\"},\"marker\":{\"line\":{\"color\":\"#E5ECF6\",\"width\":0.5},\"pattern\":{\"fillmode\":\"overlay\",\"size\":10,\"solidity\":0.2}},\"type\":\"bar\"}],\"barpolar\":[{\"marker\":{\"line\":{\"color\":\"#E5ECF6\",\"width\":0.5},\"pattern\":{\"fillmode\":\"overlay\",\"size\":10,\"solidity\":0.2}},\"type\":\"barpolar\"}],\"carpet\":[{\"aaxis\":{\"endlinecolor\":\"#2a3f5f\",\"gridcolor\":\"white\",\"linecolor\":\"white\",\"minorgridcolor\":\"white\",\"startlinecolor\":\"#2a3f5f\"},\"baxis\":{\"endlinecolor\":\"#2a3f5f\",\"gridcolor\":\"white\",\"linecolor\":\"white\",\"minorgridcolor\":\"white\",\"startlinecolor\":\"#2a3f5f\"},\"type\":\"carpet\"}],\"choropleth\":[{\"colorbar\":{\"outlinewidth\":0,\"ticks\":\"\"},\"type\":\"choropleth\"}],\"contour\":[{\"colorbar\":{\"outlinewidth\":0,\"ticks\":\"\"},\"colorscale\":[[0.0,\"#0d0887\"],[0.1111111111111111,\"#46039f\"],[0.2222222222222222,\"#7201a8\"],[0.3333333333333333,\"#9c179e\"],[0.4444444444444444,\"#bd3786\"],[0.5555555555555556,\"#d8576b\"],[0.6666666666666666,\"#ed7953\"],[0.7777777777777778,\"#fb9f3a\"],[0.8888888888888888,\"#fdca26\"],[1.0,\"#f0f921\"]],\"type\":\"contour\"}],\"contourcarpet\":[{\"colorbar\":{\"outlinewidth\":0,\"ticks\":\"\"},\"type\":\"contourcarpet\"}],\"heatmap\":[{\"colorbar\":{\"outlinewidth\":0,\"ticks\":\"\"},\"colorscale\":[[0.0,\"#0d0887\"],[0.1111111111111111,\"#46039f\"],[0.2222222222222222,\"#7201a8\"],[0.3333333333333333,\"#9c179e\"],[0.4444444444444444,\"#bd3786\"],[0.5555555555555556,\"#d8576b\"],[0.6666666666666666,\"#ed7953\"],[0.7777777777777778,\"#fb9f3a\"],[0.8888888888888888,\"#fdca26\"],[1.0,\"#f0f921\"]],\"type\":\"heatmap\"}],\"heatmapgl\":[{\"colorbar\":{\"outlinewidth\":0,\"ticks\":\"\"},\"colorscale\":[[0.0,\"#0d0887\"],[0.1111111111111111,\"#46039f\"],[0.2222222222222222,\"#7201a8\"],[0.3333333333333333,\"#9c179e\"],[0.4444444444444444,\"#bd3786\"],[0.5555555555555556,\"#d8576b\"],[0.6666666666666666,\"#ed7953\"],[0.7777777777777778,\"#fb9f3a\"],[0.8888888888888888,\"#fdca26\"],[1.0,\"#f0f921\"]],\"type\":\"heatmapgl\"}],\"histogram\":[{\"marker\":{\"pattern\":{\"fillmode\":\"overlay\",\"size\":10,\"solidity\":0.2}},\"type\":\"histogram\"}],\"histogram2d\":[{\"colorbar\":{\"outlinewidth\":0,\"ticks\":\"\"},\"colorscale\":[[0.0,\"#0d0887\"],[0.1111111111111111,\"#46039f\"],[0.2222222222222222,\"#7201a8\"],[0.3333333333333333,\"#9c179e\"],[0.4444444444444444,\"#bd3786\"],[0.5555555555555556,\"#d8576b\"],[0.6666666666666666,\"#ed7953\"],[0.7777777777777778,\"#fb9f3a\"],[0.8888888888888888,\"#fdca26\"],[1.0,\"#f0f921\"]],\"type\":\"histogram2d\"}],\"histogram2dcontour\":[{\"colorbar\":{\"outlinewidth\":0,\"ticks\":\"\"},\"colorscale\":[[0.0,\"#0d0887\"],[0.1111111111111111,\"#46039f\"],[0.2222222222222222,\"#7201a8\"],[0.3333333333333333,\"#9c179e\"],[0.4444444444444444,\"#bd3786\"],[0.5555555555555556,\"#d8576b\"],[0.6666666666666666,\"#ed7953\"],[0.7777777777777778,\"#fb9f3a\"],[0.8888888888888888,\"#fdca26\"],[1.0,\"#f0f921\"]],\"type\":\"histogram2dcontour\"}],\"mesh3d\":[{\"colorbar\":{\"outlinewidth\":0,\"ticks\":\"\"},\"type\":\"mesh3d\"}],\"parcoords\":[{\"line\":{\"colorbar\":{\"outlinewidth\":0,\"ticks\":\"\"}},\"type\":\"parcoords\"}],\"pie\":[{\"automargin\":true,\"type\":\"pie\"}],\"scatter\":[{\"marker\":{\"colorbar\":{\"outlinewidth\":0,\"ticks\":\"\"}},\"type\":\"scatter\"}],\"scatter3d\":[{\"line\":{\"colorbar\":{\"outlinewidth\":0,\"ticks\":\"\"}},\"marker\":{\"colorbar\":{\"outlinewidth\":0,\"ticks\":\"\"}},\"type\":\"scatter3d\"}],\"scattercarpet\":[{\"marker\":{\"colorbar\":{\"outlinewidth\":0,\"ticks\":\"\"}},\"type\":\"scattercarpet\"}],\"scattergeo\":[{\"marker\":{\"colorbar\":{\"outlinewidth\":0,\"ticks\":\"\"}},\"type\":\"scattergeo\"}],\"scattergl\":[{\"marker\":{\"colorbar\":{\"outlinewidth\":0,\"ticks\":\"\"}},\"type\":\"scattergl\"}],\"scattermapbox\":[{\"marker\":{\"colorbar\":{\"outlinewidth\":0,\"ticks\":\"\"}},\"type\":\"scattermapbox\"}],\"scatterpolar\":[{\"marker\":{\"colorbar\":{\"outlinewidth\":0,\"ticks\":\"\"}},\"type\":\"scatterpolar\"}],\"scatterpolargl\":[{\"marker\":{\"colorbar\":{\"outlinewidth\":0,\"ticks\":\"\"}},\"type\":\"scatterpolargl\"}],\"scatterternary\":[{\"marker\":{\"colorbar\":{\"outlinewidth\":0,\"ticks\":\"\"}},\"type\":\"scatterternary\"}],\"surface\":[{\"colorbar\":{\"outlinewidth\":0,\"ticks\":\"\"},\"colorscale\":[[0.0,\"#0d0887\"],[0.1111111111111111,\"#46039f\"],[0.2222222222222222,\"#7201a8\"],[0.3333333333333333,\"#9c179e\"],[0.4444444444444444,\"#bd3786\"],[0.5555555555555556,\"#d8576b\"],[0.6666666666666666,\"#ed7953\"],[0.7777777777777778,\"#fb9f3a\"],[0.8888888888888888,\"#fdca26\"],[1.0,\"#f0f921\"]],\"type\":\"surface\"}],\"table\":[{\"cells\":{\"fill\":{\"color\":\"#EBF0F8\"},\"line\":{\"color\":\"white\"}},\"header\":{\"fill\":{\"color\":\"#C8D4E3\"},\"line\":{\"color\":\"white\"}},\"type\":\"table\"}]},\"layout\":{\"annotationdefaults\":{\"arrowcolor\":\"#2a3f5f\",\"arrowhead\":0,\"arrowwidth\":1},\"autotypenumbers\":\"strict\",\"coloraxis\":{\"colorbar\":{\"outlinewidth\":0,\"ticks\":\"\"}},\"colorscale\":{\"diverging\":[[0,\"#8e0152\"],[0.1,\"#c51b7d\"],[0.2,\"#de77ae\"],[0.3,\"#f1b6da\"],[0.4,\"#fde0ef\"],[0.5,\"#f7f7f7\"],[0.6,\"#e6f5d0\"],[0.7,\"#b8e186\"],[0.8,\"#7fbc41\"],[0.9,\"#4d9221\"],[1,\"#276419\"]],\"sequential\":[[0.0,\"#0d0887\"],[0.1111111111111111,\"#46039f\"],[0.2222222222222222,\"#7201a8\"],[0.3333333333333333,\"#9c179e\"],[0.4444444444444444,\"#bd3786\"],[0.5555555555555556,\"#d8576b\"],[0.6666666666666666,\"#ed7953\"],[0.7777777777777778,\"#fb9f3a\"],[0.8888888888888888,\"#fdca26\"],[1.0,\"#f0f921\"]],\"sequentialminus\":[[0.0,\"#0d0887\"],[0.1111111111111111,\"#46039f\"],[0.2222222222222222,\"#7201a8\"],[0.3333333333333333,\"#9c179e\"],[0.4444444444444444,\"#bd3786\"],[0.5555555555555556,\"#d8576b\"],[0.6666666666666666,\"#ed7953\"],[0.7777777777777778,\"#fb9f3a\"],[0.8888888888888888,\"#fdca26\"],[1.0,\"#f0f921\"]]},\"colorway\":[\"#636efa\",\"#EF553B\",\"#00cc96\",\"#ab63fa\",\"#FFA15A\",\"#19d3f3\",\"#FF6692\",\"#B6E880\",\"#FF97FF\",\"#FECB52\"],\"font\":{\"color\":\"#2a3f5f\"},\"geo\":{\"bgcolor\":\"white\",\"lakecolor\":\"white\",\"landcolor\":\"#E5ECF6\",\"showlakes\":true,\"showland\":true,\"subunitcolor\":\"white\"},\"hoverlabel\":{\"align\":\"left\"},\"hovermode\":\"closest\",\"mapbox\":{\"style\":\"light\"},\"paper_bgcolor\":\"white\",\"plot_bgcolor\":\"#E5ECF6\",\"polar\":{\"angularaxis\":{\"gridcolor\":\"white\",\"linecolor\":\"white\",\"ticks\":\"\"},\"bgcolor\":\"#E5ECF6\",\"radialaxis\":{\"gridcolor\":\"white\",\"linecolor\":\"white\",\"ticks\":\"\"}},\"scene\":{\"xaxis\":{\"backgroundcolor\":\"#E5ECF6\",\"gridcolor\":\"white\",\"gridwidth\":2,\"linecolor\":\"white\",\"showbackground\":true,\"ticks\":\"\",\"zerolinecolor\":\"white\"},\"yaxis\":{\"backgroundcolor\":\"#E5ECF6\",\"gridcolor\":\"white\",\"gridwidth\":2,\"linecolor\":\"white\",\"showbackground\":true,\"ticks\":\"\",\"zerolinecolor\":\"white\"},\"zaxis\":{\"backgroundcolor\":\"#E5ECF6\",\"gridcolor\":\"white\",\"gridwidth\":2,\"linecolor\":\"white\",\"showbackground\":true,\"ticks\":\"\",\"zerolinecolor\":\"white\"}},\"shapedefaults\":{\"line\":{\"color\":\"#2a3f5f\"}},\"ternary\":{\"aaxis\":{\"gridcolor\":\"white\",\"linecolor\":\"white\",\"ticks\":\"\"},\"baxis\":{\"gridcolor\":\"white\",\"linecolor\":\"white\",\"ticks\":\"\"},\"bgcolor\":\"#E5ECF6\",\"caxis\":{\"gridcolor\":\"white\",\"linecolor\":\"white\",\"ticks\":\"\"}},\"title\":{\"x\":0.05},\"xaxis\":{\"automargin\":true,\"gridcolor\":\"white\",\"linecolor\":\"white\",\"ticks\":\"\",\"title\":{\"standoff\":15},\"zerolinecolor\":\"white\",\"zerolinewidth\":2},\"yaxis\":{\"automargin\":true,\"gridcolor\":\"white\",\"linecolor\":\"white\",\"ticks\":\"\",\"title\":{\"standoff\":15},\"zerolinecolor\":\"white\",\"zerolinewidth\":2}}},\"title\":{\"font\":{\"color\":\"#4D5663\"}},\"xaxis\":{\"gridcolor\":\"#E1E5ED\",\"showgrid\":true,\"tickfont\":{\"color\":\"#4D5663\"},\"title\":{\"font\":{\"color\":\"#4D5663\"},\"text\":\"\"},\"zerolinecolor\":\"#E1E5ED\"},\"yaxis\":{\"gridcolor\":\"#E1E5ED\",\"showgrid\":true,\"tickfont\":{\"color\":\"#4D5663\"},\"title\":{\"font\":{\"color\":\"#4D5663\"},\"text\":\"\"},\"zerolinecolor\":\"#E1E5ED\"}},                        {\"showLink\": true, \"linkText\": \"Export to plot.ly\", \"plotlyServerURL\": \"https://plot.ly\", \"responsive\": true}                    ).then(function(){\n",
       "                            \n",
       "var gd = document.getElementById('a782740e-1dd1-44b0-9899-8b97f69c2058');\n",
       "var x = new MutationObserver(function (mutations, observer) {{\n",
       "        var display = window.getComputedStyle(gd).display;\n",
       "        if (!display || display === 'none') {{\n",
       "            console.log([gd, 'removed!']);\n",
       "            Plotly.purge(gd);\n",
       "            observer.disconnect();\n",
       "        }}\n",
       "}});\n",
       "\n",
       "// Listen for the removal of the full notebook cells\n",
       "var notebookContainer = gd.closest('#notebook-container');\n",
       "if (notebookContainer) {{\n",
       "    x.observe(notebookContainer, {childList: true});\n",
       "}}\n",
       "\n",
       "// Listen for the clearing of the current output cell\n",
       "var outputEl = gd.closest('.output');\n",
       "if (outputEl) {{\n",
       "    x.observe(outputEl, {childList: true});\n",
       "}}\n",
       "\n",
       "                        })                };                });            </script>        </div>"
      ]
     },
     "metadata": {},
     "output_type": "display_data"
    }
   ],
   "source": [
    "df.iplot(kind=\"box\")"
   ]
  },
  {
   "cell_type": "code",
   "execution_count": 46,
   "metadata": {},
   "outputs": [
    {
     "data": {
      "application/vnd.plotly.v1+json": {
       "config": {
        "linkText": "Export to plot.ly",
        "plotlyServerURL": "https://plot.ly",
        "showLink": true
       },
       "data": [
        {
         "colorscale": [
          [
           0,
           "rgb(165,0,38)"
          ],
          [
           0.1,
           "rgb(215,48,39)"
          ],
          [
           0.2,
           "rgb(244,109,67)"
          ],
          [
           0.3,
           "rgb(253,174,97)"
          ],
          [
           0.4,
           "rgb(254,224,144)"
          ],
          [
           0.5,
           "rgb(255,255,191)"
          ],
          [
           0.6,
           "rgb(224,243,248)"
          ],
          [
           0.7,
           "rgb(171,217,233)"
          ],
          [
           0.8,
           "rgb(116,173,209)"
          ],
          [
           0.9,
           "rgb(69,117,180)"
          ],
          [
           1,
           "rgb(49,54,149)"
          ]
         ],
         "type": "surface",
         "x": [
          0,
          1,
          2,
          3,
          4
         ],
         "y": [
          "x",
          "y",
          "z"
         ],
         "z": [
          [
           1,
           2,
           3,
           4,
           5
          ],
          [
           10,
           20,
           30,
           20,
           10
          ],
          [
           5,
           4,
           3,
           2,
           1
          ]
         ]
        }
       ],
       "layout": {
        "legend": {
         "bgcolor": "#F5F6F9",
         "font": {
          "color": "#4D5663"
         }
        },
        "paper_bgcolor": "#F5F6F9",
        "plot_bgcolor": "#F5F6F9",
        "template": {
         "data": {
          "bar": [
           {
            "error_x": {
             "color": "#2a3f5f"
            },
            "error_y": {
             "color": "#2a3f5f"
            },
            "marker": {
             "line": {
              "color": "#E5ECF6",
              "width": 0.5
             },
             "pattern": {
              "fillmode": "overlay",
              "size": 10,
              "solidity": 0.2
             }
            },
            "type": "bar"
           }
          ],
          "barpolar": [
           {
            "marker": {
             "line": {
              "color": "#E5ECF6",
              "width": 0.5
             },
             "pattern": {
              "fillmode": "overlay",
              "size": 10,
              "solidity": 0.2
             }
            },
            "type": "barpolar"
           }
          ],
          "carpet": [
           {
            "aaxis": {
             "endlinecolor": "#2a3f5f",
             "gridcolor": "white",
             "linecolor": "white",
             "minorgridcolor": "white",
             "startlinecolor": "#2a3f5f"
            },
            "baxis": {
             "endlinecolor": "#2a3f5f",
             "gridcolor": "white",
             "linecolor": "white",
             "minorgridcolor": "white",
             "startlinecolor": "#2a3f5f"
            },
            "type": "carpet"
           }
          ],
          "choropleth": [
           {
            "colorbar": {
             "outlinewidth": 0,
             "ticks": ""
            },
            "type": "choropleth"
           }
          ],
          "contour": [
           {
            "colorbar": {
             "outlinewidth": 0,
             "ticks": ""
            },
            "colorscale": [
             [
              0,
              "#0d0887"
             ],
             [
              0.1111111111111111,
              "#46039f"
             ],
             [
              0.2222222222222222,
              "#7201a8"
             ],
             [
              0.3333333333333333,
              "#9c179e"
             ],
             [
              0.4444444444444444,
              "#bd3786"
             ],
             [
              0.5555555555555556,
              "#d8576b"
             ],
             [
              0.6666666666666666,
              "#ed7953"
             ],
             [
              0.7777777777777778,
              "#fb9f3a"
             ],
             [
              0.8888888888888888,
              "#fdca26"
             ],
             [
              1,
              "#f0f921"
             ]
            ],
            "type": "contour"
           }
          ],
          "contourcarpet": [
           {
            "colorbar": {
             "outlinewidth": 0,
             "ticks": ""
            },
            "type": "contourcarpet"
           }
          ],
          "heatmap": [
           {
            "colorbar": {
             "outlinewidth": 0,
             "ticks": ""
            },
            "colorscale": [
             [
              0,
              "#0d0887"
             ],
             [
              0.1111111111111111,
              "#46039f"
             ],
             [
              0.2222222222222222,
              "#7201a8"
             ],
             [
              0.3333333333333333,
              "#9c179e"
             ],
             [
              0.4444444444444444,
              "#bd3786"
             ],
             [
              0.5555555555555556,
              "#d8576b"
             ],
             [
              0.6666666666666666,
              "#ed7953"
             ],
             [
              0.7777777777777778,
              "#fb9f3a"
             ],
             [
              0.8888888888888888,
              "#fdca26"
             ],
             [
              1,
              "#f0f921"
             ]
            ],
            "type": "heatmap"
           }
          ],
          "heatmapgl": [
           {
            "colorbar": {
             "outlinewidth": 0,
             "ticks": ""
            },
            "colorscale": [
             [
              0,
              "#0d0887"
             ],
             [
              0.1111111111111111,
              "#46039f"
             ],
             [
              0.2222222222222222,
              "#7201a8"
             ],
             [
              0.3333333333333333,
              "#9c179e"
             ],
             [
              0.4444444444444444,
              "#bd3786"
             ],
             [
              0.5555555555555556,
              "#d8576b"
             ],
             [
              0.6666666666666666,
              "#ed7953"
             ],
             [
              0.7777777777777778,
              "#fb9f3a"
             ],
             [
              0.8888888888888888,
              "#fdca26"
             ],
             [
              1,
              "#f0f921"
             ]
            ],
            "type": "heatmapgl"
           }
          ],
          "histogram": [
           {
            "marker": {
             "pattern": {
              "fillmode": "overlay",
              "size": 10,
              "solidity": 0.2
             }
            },
            "type": "histogram"
           }
          ],
          "histogram2d": [
           {
            "colorbar": {
             "outlinewidth": 0,
             "ticks": ""
            },
            "colorscale": [
             [
              0,
              "#0d0887"
             ],
             [
              0.1111111111111111,
              "#46039f"
             ],
             [
              0.2222222222222222,
              "#7201a8"
             ],
             [
              0.3333333333333333,
              "#9c179e"
             ],
             [
              0.4444444444444444,
              "#bd3786"
             ],
             [
              0.5555555555555556,
              "#d8576b"
             ],
             [
              0.6666666666666666,
              "#ed7953"
             ],
             [
              0.7777777777777778,
              "#fb9f3a"
             ],
             [
              0.8888888888888888,
              "#fdca26"
             ],
             [
              1,
              "#f0f921"
             ]
            ],
            "type": "histogram2d"
           }
          ],
          "histogram2dcontour": [
           {
            "colorbar": {
             "outlinewidth": 0,
             "ticks": ""
            },
            "colorscale": [
             [
              0,
              "#0d0887"
             ],
             [
              0.1111111111111111,
              "#46039f"
             ],
             [
              0.2222222222222222,
              "#7201a8"
             ],
             [
              0.3333333333333333,
              "#9c179e"
             ],
             [
              0.4444444444444444,
              "#bd3786"
             ],
             [
              0.5555555555555556,
              "#d8576b"
             ],
             [
              0.6666666666666666,
              "#ed7953"
             ],
             [
              0.7777777777777778,
              "#fb9f3a"
             ],
             [
              0.8888888888888888,
              "#fdca26"
             ],
             [
              1,
              "#f0f921"
             ]
            ],
            "type": "histogram2dcontour"
           }
          ],
          "mesh3d": [
           {
            "colorbar": {
             "outlinewidth": 0,
             "ticks": ""
            },
            "type": "mesh3d"
           }
          ],
          "parcoords": [
           {
            "line": {
             "colorbar": {
              "outlinewidth": 0,
              "ticks": ""
             }
            },
            "type": "parcoords"
           }
          ],
          "pie": [
           {
            "automargin": true,
            "type": "pie"
           }
          ],
          "scatter": [
           {
            "marker": {
             "colorbar": {
              "outlinewidth": 0,
              "ticks": ""
             }
            },
            "type": "scatter"
           }
          ],
          "scatter3d": [
           {
            "line": {
             "colorbar": {
              "outlinewidth": 0,
              "ticks": ""
             }
            },
            "marker": {
             "colorbar": {
              "outlinewidth": 0,
              "ticks": ""
             }
            },
            "type": "scatter3d"
           }
          ],
          "scattercarpet": [
           {
            "marker": {
             "colorbar": {
              "outlinewidth": 0,
              "ticks": ""
             }
            },
            "type": "scattercarpet"
           }
          ],
          "scattergeo": [
           {
            "marker": {
             "colorbar": {
              "outlinewidth": 0,
              "ticks": ""
             }
            },
            "type": "scattergeo"
           }
          ],
          "scattergl": [
           {
            "marker": {
             "colorbar": {
              "outlinewidth": 0,
              "ticks": ""
             }
            },
            "type": "scattergl"
           }
          ],
          "scattermapbox": [
           {
            "marker": {
             "colorbar": {
              "outlinewidth": 0,
              "ticks": ""
             }
            },
            "type": "scattermapbox"
           }
          ],
          "scatterpolar": [
           {
            "marker": {
             "colorbar": {
              "outlinewidth": 0,
              "ticks": ""
             }
            },
            "type": "scatterpolar"
           }
          ],
          "scatterpolargl": [
           {
            "marker": {
             "colorbar": {
              "outlinewidth": 0,
              "ticks": ""
             }
            },
            "type": "scatterpolargl"
           }
          ],
          "scatterternary": [
           {
            "marker": {
             "colorbar": {
              "outlinewidth": 0,
              "ticks": ""
             }
            },
            "type": "scatterternary"
           }
          ],
          "surface": [
           {
            "colorbar": {
             "outlinewidth": 0,
             "ticks": ""
            },
            "colorscale": [
             [
              0,
              "#0d0887"
             ],
             [
              0.1111111111111111,
              "#46039f"
             ],
             [
              0.2222222222222222,
              "#7201a8"
             ],
             [
              0.3333333333333333,
              "#9c179e"
             ],
             [
              0.4444444444444444,
              "#bd3786"
             ],
             [
              0.5555555555555556,
              "#d8576b"
             ],
             [
              0.6666666666666666,
              "#ed7953"
             ],
             [
              0.7777777777777778,
              "#fb9f3a"
             ],
             [
              0.8888888888888888,
              "#fdca26"
             ],
             [
              1,
              "#f0f921"
             ]
            ],
            "type": "surface"
           }
          ],
          "table": [
           {
            "cells": {
             "fill": {
              "color": "#EBF0F8"
             },
             "line": {
              "color": "white"
             }
            },
            "header": {
             "fill": {
              "color": "#C8D4E3"
             },
             "line": {
              "color": "white"
             }
            },
            "type": "table"
           }
          ]
         },
         "layout": {
          "annotationdefaults": {
           "arrowcolor": "#2a3f5f",
           "arrowhead": 0,
           "arrowwidth": 1
          },
          "autotypenumbers": "strict",
          "coloraxis": {
           "colorbar": {
            "outlinewidth": 0,
            "ticks": ""
           }
          },
          "colorscale": {
           "diverging": [
            [
             0,
             "#8e0152"
            ],
            [
             0.1,
             "#c51b7d"
            ],
            [
             0.2,
             "#de77ae"
            ],
            [
             0.3,
             "#f1b6da"
            ],
            [
             0.4,
             "#fde0ef"
            ],
            [
             0.5,
             "#f7f7f7"
            ],
            [
             0.6,
             "#e6f5d0"
            ],
            [
             0.7,
             "#b8e186"
            ],
            [
             0.8,
             "#7fbc41"
            ],
            [
             0.9,
             "#4d9221"
            ],
            [
             1,
             "#276419"
            ]
           ],
           "sequential": [
            [
             0,
             "#0d0887"
            ],
            [
             0.1111111111111111,
             "#46039f"
            ],
            [
             0.2222222222222222,
             "#7201a8"
            ],
            [
             0.3333333333333333,
             "#9c179e"
            ],
            [
             0.4444444444444444,
             "#bd3786"
            ],
            [
             0.5555555555555556,
             "#d8576b"
            ],
            [
             0.6666666666666666,
             "#ed7953"
            ],
            [
             0.7777777777777778,
             "#fb9f3a"
            ],
            [
             0.8888888888888888,
             "#fdca26"
            ],
            [
             1,
             "#f0f921"
            ]
           ],
           "sequentialminus": [
            [
             0,
             "#0d0887"
            ],
            [
             0.1111111111111111,
             "#46039f"
            ],
            [
             0.2222222222222222,
             "#7201a8"
            ],
            [
             0.3333333333333333,
             "#9c179e"
            ],
            [
             0.4444444444444444,
             "#bd3786"
            ],
            [
             0.5555555555555556,
             "#d8576b"
            ],
            [
             0.6666666666666666,
             "#ed7953"
            ],
            [
             0.7777777777777778,
             "#fb9f3a"
            ],
            [
             0.8888888888888888,
             "#fdca26"
            ],
            [
             1,
             "#f0f921"
            ]
           ]
          },
          "colorway": [
           "#636efa",
           "#EF553B",
           "#00cc96",
           "#ab63fa",
           "#FFA15A",
           "#19d3f3",
           "#FF6692",
           "#B6E880",
           "#FF97FF",
           "#FECB52"
          ],
          "font": {
           "color": "#2a3f5f"
          },
          "geo": {
           "bgcolor": "white",
           "lakecolor": "white",
           "landcolor": "#E5ECF6",
           "showlakes": true,
           "showland": true,
           "subunitcolor": "white"
          },
          "hoverlabel": {
           "align": "left"
          },
          "hovermode": "closest",
          "mapbox": {
           "style": "light"
          },
          "paper_bgcolor": "white",
          "plot_bgcolor": "#E5ECF6",
          "polar": {
           "angularaxis": {
            "gridcolor": "white",
            "linecolor": "white",
            "ticks": ""
           },
           "bgcolor": "#E5ECF6",
           "radialaxis": {
            "gridcolor": "white",
            "linecolor": "white",
            "ticks": ""
           }
          },
          "scene": {
           "xaxis": {
            "backgroundcolor": "#E5ECF6",
            "gridcolor": "white",
            "gridwidth": 2,
            "linecolor": "white",
            "showbackground": true,
            "ticks": "",
            "zerolinecolor": "white"
           },
           "yaxis": {
            "backgroundcolor": "#E5ECF6",
            "gridcolor": "white",
            "gridwidth": 2,
            "linecolor": "white",
            "showbackground": true,
            "ticks": "",
            "zerolinecolor": "white"
           },
           "zaxis": {
            "backgroundcolor": "#E5ECF6",
            "gridcolor": "white",
            "gridwidth": 2,
            "linecolor": "white",
            "showbackground": true,
            "ticks": "",
            "zerolinecolor": "white"
           }
          },
          "shapedefaults": {
           "line": {
            "color": "#2a3f5f"
           }
          },
          "ternary": {
           "aaxis": {
            "gridcolor": "white",
            "linecolor": "white",
            "ticks": ""
           },
           "baxis": {
            "gridcolor": "white",
            "linecolor": "white",
            "ticks": ""
           },
           "bgcolor": "#E5ECF6",
           "caxis": {
            "gridcolor": "white",
            "linecolor": "white",
            "ticks": ""
           }
          },
          "title": {
           "x": 0.05
          },
          "xaxis": {
           "automargin": true,
           "gridcolor": "white",
           "linecolor": "white",
           "ticks": "",
           "title": {
            "standoff": 15
           },
           "zerolinecolor": "white",
           "zerolinewidth": 2
          },
          "yaxis": {
           "automargin": true,
           "gridcolor": "white",
           "linecolor": "white",
           "ticks": "",
           "title": {
            "standoff": 15
           },
           "zerolinecolor": "white",
           "zerolinewidth": 2
          }
         }
        },
        "title": {
         "font": {
          "color": "#4D5663"
         }
        },
        "xaxis": {
         "gridcolor": "#E1E5ED",
         "showgrid": true,
         "tickfont": {
          "color": "#4D5663"
         },
         "title": {
          "font": {
           "color": "#4D5663"
          },
          "text": ""
         },
         "zerolinecolor": "#E1E5ED"
        },
        "yaxis": {
         "gridcolor": "#E1E5ED",
         "showgrid": true,
         "tickfont": {
          "color": "#4D5663"
         },
         "title": {
          "font": {
           "color": "#4D5663"
          },
          "text": ""
         },
         "zerolinecolor": "#E1E5ED"
        }
       }
      },
      "text/html": [
       "<div>                            <div id=\"d8f474b6-752d-45d6-8a78-66def707ba9b\" class=\"plotly-graph-div\" style=\"height:525px; width:100%;\"></div>            <script type=\"text/javascript\">                require([\"plotly\"], function(Plotly) {                    window.PLOTLYENV=window.PLOTLYENV || {};\n",
       "                    window.PLOTLYENV.BASE_URL='https://plot.ly';                                    if (document.getElementById(\"d8f474b6-752d-45d6-8a78-66def707ba9b\")) {                    Plotly.newPlot(                        \"d8f474b6-752d-45d6-8a78-66def707ba9b\",                        [{\"colorscale\":[[0.0,\"rgb(165,0,38)\"],[0.1,\"rgb(215,48,39)\"],[0.2,\"rgb(244,109,67)\"],[0.3,\"rgb(253,174,97)\"],[0.4,\"rgb(254,224,144)\"],[0.5,\"rgb(255,255,191)\"],[0.6,\"rgb(224,243,248)\"],[0.7,\"rgb(171,217,233)\"],[0.8,\"rgb(116,173,209)\"],[0.9,\"rgb(69,117,180)\"],[1.0,\"rgb(49,54,149)\"]],\"type\":\"surface\",\"x\":[0,1,2,3,4],\"y\":[\"x\",\"y\",\"z\"],\"z\":[[1,2,3,4,5],[10,20,30,20,10],[5,4,3,2,1]]}],                        {\"legend\":{\"bgcolor\":\"#F5F6F9\",\"font\":{\"color\":\"#4D5663\"}},\"paper_bgcolor\":\"#F5F6F9\",\"plot_bgcolor\":\"#F5F6F9\",\"template\":{\"data\":{\"bar\":[{\"error_x\":{\"color\":\"#2a3f5f\"},\"error_y\":{\"color\":\"#2a3f5f\"},\"marker\":{\"line\":{\"color\":\"#E5ECF6\",\"width\":0.5},\"pattern\":{\"fillmode\":\"overlay\",\"size\":10,\"solidity\":0.2}},\"type\":\"bar\"}],\"barpolar\":[{\"marker\":{\"line\":{\"color\":\"#E5ECF6\",\"width\":0.5},\"pattern\":{\"fillmode\":\"overlay\",\"size\":10,\"solidity\":0.2}},\"type\":\"barpolar\"}],\"carpet\":[{\"aaxis\":{\"endlinecolor\":\"#2a3f5f\",\"gridcolor\":\"white\",\"linecolor\":\"white\",\"minorgridcolor\":\"white\",\"startlinecolor\":\"#2a3f5f\"},\"baxis\":{\"endlinecolor\":\"#2a3f5f\",\"gridcolor\":\"white\",\"linecolor\":\"white\",\"minorgridcolor\":\"white\",\"startlinecolor\":\"#2a3f5f\"},\"type\":\"carpet\"}],\"choropleth\":[{\"colorbar\":{\"outlinewidth\":0,\"ticks\":\"\"},\"type\":\"choropleth\"}],\"contour\":[{\"colorbar\":{\"outlinewidth\":0,\"ticks\":\"\"},\"colorscale\":[[0.0,\"#0d0887\"],[0.1111111111111111,\"#46039f\"],[0.2222222222222222,\"#7201a8\"],[0.3333333333333333,\"#9c179e\"],[0.4444444444444444,\"#bd3786\"],[0.5555555555555556,\"#d8576b\"],[0.6666666666666666,\"#ed7953\"],[0.7777777777777778,\"#fb9f3a\"],[0.8888888888888888,\"#fdca26\"],[1.0,\"#f0f921\"]],\"type\":\"contour\"}],\"contourcarpet\":[{\"colorbar\":{\"outlinewidth\":0,\"ticks\":\"\"},\"type\":\"contourcarpet\"}],\"heatmap\":[{\"colorbar\":{\"outlinewidth\":0,\"ticks\":\"\"},\"colorscale\":[[0.0,\"#0d0887\"],[0.1111111111111111,\"#46039f\"],[0.2222222222222222,\"#7201a8\"],[0.3333333333333333,\"#9c179e\"],[0.4444444444444444,\"#bd3786\"],[0.5555555555555556,\"#d8576b\"],[0.6666666666666666,\"#ed7953\"],[0.7777777777777778,\"#fb9f3a\"],[0.8888888888888888,\"#fdca26\"],[1.0,\"#f0f921\"]],\"type\":\"heatmap\"}],\"heatmapgl\":[{\"colorbar\":{\"outlinewidth\":0,\"ticks\":\"\"},\"colorscale\":[[0.0,\"#0d0887\"],[0.1111111111111111,\"#46039f\"],[0.2222222222222222,\"#7201a8\"],[0.3333333333333333,\"#9c179e\"],[0.4444444444444444,\"#bd3786\"],[0.5555555555555556,\"#d8576b\"],[0.6666666666666666,\"#ed7953\"],[0.7777777777777778,\"#fb9f3a\"],[0.8888888888888888,\"#fdca26\"],[1.0,\"#f0f921\"]],\"type\":\"heatmapgl\"}],\"histogram\":[{\"marker\":{\"pattern\":{\"fillmode\":\"overlay\",\"size\":10,\"solidity\":0.2}},\"type\":\"histogram\"}],\"histogram2d\":[{\"colorbar\":{\"outlinewidth\":0,\"ticks\":\"\"},\"colorscale\":[[0.0,\"#0d0887\"],[0.1111111111111111,\"#46039f\"],[0.2222222222222222,\"#7201a8\"],[0.3333333333333333,\"#9c179e\"],[0.4444444444444444,\"#bd3786\"],[0.5555555555555556,\"#d8576b\"],[0.6666666666666666,\"#ed7953\"],[0.7777777777777778,\"#fb9f3a\"],[0.8888888888888888,\"#fdca26\"],[1.0,\"#f0f921\"]],\"type\":\"histogram2d\"}],\"histogram2dcontour\":[{\"colorbar\":{\"outlinewidth\":0,\"ticks\":\"\"},\"colorscale\":[[0.0,\"#0d0887\"],[0.1111111111111111,\"#46039f\"],[0.2222222222222222,\"#7201a8\"],[0.3333333333333333,\"#9c179e\"],[0.4444444444444444,\"#bd3786\"],[0.5555555555555556,\"#d8576b\"],[0.6666666666666666,\"#ed7953\"],[0.7777777777777778,\"#fb9f3a\"],[0.8888888888888888,\"#fdca26\"],[1.0,\"#f0f921\"]],\"type\":\"histogram2dcontour\"}],\"mesh3d\":[{\"colorbar\":{\"outlinewidth\":0,\"ticks\":\"\"},\"type\":\"mesh3d\"}],\"parcoords\":[{\"line\":{\"colorbar\":{\"outlinewidth\":0,\"ticks\":\"\"}},\"type\":\"parcoords\"}],\"pie\":[{\"automargin\":true,\"type\":\"pie\"}],\"scatter\":[{\"marker\":{\"colorbar\":{\"outlinewidth\":0,\"ticks\":\"\"}},\"type\":\"scatter\"}],\"scatter3d\":[{\"line\":{\"colorbar\":{\"outlinewidth\":0,\"ticks\":\"\"}},\"marker\":{\"colorbar\":{\"outlinewidth\":0,\"ticks\":\"\"}},\"type\":\"scatter3d\"}],\"scattercarpet\":[{\"marker\":{\"colorbar\":{\"outlinewidth\":0,\"ticks\":\"\"}},\"type\":\"scattercarpet\"}],\"scattergeo\":[{\"marker\":{\"colorbar\":{\"outlinewidth\":0,\"ticks\":\"\"}},\"type\":\"scattergeo\"}],\"scattergl\":[{\"marker\":{\"colorbar\":{\"outlinewidth\":0,\"ticks\":\"\"}},\"type\":\"scattergl\"}],\"scattermapbox\":[{\"marker\":{\"colorbar\":{\"outlinewidth\":0,\"ticks\":\"\"}},\"type\":\"scattermapbox\"}],\"scatterpolar\":[{\"marker\":{\"colorbar\":{\"outlinewidth\":0,\"ticks\":\"\"}},\"type\":\"scatterpolar\"}],\"scatterpolargl\":[{\"marker\":{\"colorbar\":{\"outlinewidth\":0,\"ticks\":\"\"}},\"type\":\"scatterpolargl\"}],\"scatterternary\":[{\"marker\":{\"colorbar\":{\"outlinewidth\":0,\"ticks\":\"\"}},\"type\":\"scatterternary\"}],\"surface\":[{\"colorbar\":{\"outlinewidth\":0,\"ticks\":\"\"},\"colorscale\":[[0.0,\"#0d0887\"],[0.1111111111111111,\"#46039f\"],[0.2222222222222222,\"#7201a8\"],[0.3333333333333333,\"#9c179e\"],[0.4444444444444444,\"#bd3786\"],[0.5555555555555556,\"#d8576b\"],[0.6666666666666666,\"#ed7953\"],[0.7777777777777778,\"#fb9f3a\"],[0.8888888888888888,\"#fdca26\"],[1.0,\"#f0f921\"]],\"type\":\"surface\"}],\"table\":[{\"cells\":{\"fill\":{\"color\":\"#EBF0F8\"},\"line\":{\"color\":\"white\"}},\"header\":{\"fill\":{\"color\":\"#C8D4E3\"},\"line\":{\"color\":\"white\"}},\"type\":\"table\"}]},\"layout\":{\"annotationdefaults\":{\"arrowcolor\":\"#2a3f5f\",\"arrowhead\":0,\"arrowwidth\":1},\"autotypenumbers\":\"strict\",\"coloraxis\":{\"colorbar\":{\"outlinewidth\":0,\"ticks\":\"\"}},\"colorscale\":{\"diverging\":[[0,\"#8e0152\"],[0.1,\"#c51b7d\"],[0.2,\"#de77ae\"],[0.3,\"#f1b6da\"],[0.4,\"#fde0ef\"],[0.5,\"#f7f7f7\"],[0.6,\"#e6f5d0\"],[0.7,\"#b8e186\"],[0.8,\"#7fbc41\"],[0.9,\"#4d9221\"],[1,\"#276419\"]],\"sequential\":[[0.0,\"#0d0887\"],[0.1111111111111111,\"#46039f\"],[0.2222222222222222,\"#7201a8\"],[0.3333333333333333,\"#9c179e\"],[0.4444444444444444,\"#bd3786\"],[0.5555555555555556,\"#d8576b\"],[0.6666666666666666,\"#ed7953\"],[0.7777777777777778,\"#fb9f3a\"],[0.8888888888888888,\"#fdca26\"],[1.0,\"#f0f921\"]],\"sequentialminus\":[[0.0,\"#0d0887\"],[0.1111111111111111,\"#46039f\"],[0.2222222222222222,\"#7201a8\"],[0.3333333333333333,\"#9c179e\"],[0.4444444444444444,\"#bd3786\"],[0.5555555555555556,\"#d8576b\"],[0.6666666666666666,\"#ed7953\"],[0.7777777777777778,\"#fb9f3a\"],[0.8888888888888888,\"#fdca26\"],[1.0,\"#f0f921\"]]},\"colorway\":[\"#636efa\",\"#EF553B\",\"#00cc96\",\"#ab63fa\",\"#FFA15A\",\"#19d3f3\",\"#FF6692\",\"#B6E880\",\"#FF97FF\",\"#FECB52\"],\"font\":{\"color\":\"#2a3f5f\"},\"geo\":{\"bgcolor\":\"white\",\"lakecolor\":\"white\",\"landcolor\":\"#E5ECF6\",\"showlakes\":true,\"showland\":true,\"subunitcolor\":\"white\"},\"hoverlabel\":{\"align\":\"left\"},\"hovermode\":\"closest\",\"mapbox\":{\"style\":\"light\"},\"paper_bgcolor\":\"white\",\"plot_bgcolor\":\"#E5ECF6\",\"polar\":{\"angularaxis\":{\"gridcolor\":\"white\",\"linecolor\":\"white\",\"ticks\":\"\"},\"bgcolor\":\"#E5ECF6\",\"radialaxis\":{\"gridcolor\":\"white\",\"linecolor\":\"white\",\"ticks\":\"\"}},\"scene\":{\"xaxis\":{\"backgroundcolor\":\"#E5ECF6\",\"gridcolor\":\"white\",\"gridwidth\":2,\"linecolor\":\"white\",\"showbackground\":true,\"ticks\":\"\",\"zerolinecolor\":\"white\"},\"yaxis\":{\"backgroundcolor\":\"#E5ECF6\",\"gridcolor\":\"white\",\"gridwidth\":2,\"linecolor\":\"white\",\"showbackground\":true,\"ticks\":\"\",\"zerolinecolor\":\"white\"},\"zaxis\":{\"backgroundcolor\":\"#E5ECF6\",\"gridcolor\":\"white\",\"gridwidth\":2,\"linecolor\":\"white\",\"showbackground\":true,\"ticks\":\"\",\"zerolinecolor\":\"white\"}},\"shapedefaults\":{\"line\":{\"color\":\"#2a3f5f\"}},\"ternary\":{\"aaxis\":{\"gridcolor\":\"white\",\"linecolor\":\"white\",\"ticks\":\"\"},\"baxis\":{\"gridcolor\":\"white\",\"linecolor\":\"white\",\"ticks\":\"\"},\"bgcolor\":\"#E5ECF6\",\"caxis\":{\"gridcolor\":\"white\",\"linecolor\":\"white\",\"ticks\":\"\"}},\"title\":{\"x\":0.05},\"xaxis\":{\"automargin\":true,\"gridcolor\":\"white\",\"linecolor\":\"white\",\"ticks\":\"\",\"title\":{\"standoff\":15},\"zerolinecolor\":\"white\",\"zerolinewidth\":2},\"yaxis\":{\"automargin\":true,\"gridcolor\":\"white\",\"linecolor\":\"white\",\"ticks\":\"\",\"title\":{\"standoff\":15},\"zerolinecolor\":\"white\",\"zerolinewidth\":2}}},\"title\":{\"font\":{\"color\":\"#4D5663\"}},\"xaxis\":{\"gridcolor\":\"#E1E5ED\",\"showgrid\":true,\"tickfont\":{\"color\":\"#4D5663\"},\"title\":{\"font\":{\"color\":\"#4D5663\"},\"text\":\"\"},\"zerolinecolor\":\"#E1E5ED\"},\"yaxis\":{\"gridcolor\":\"#E1E5ED\",\"showgrid\":true,\"tickfont\":{\"color\":\"#4D5663\"},\"title\":{\"font\":{\"color\":\"#4D5663\"},\"text\":\"\"},\"zerolinecolor\":\"#E1E5ED\"}},                        {\"showLink\": true, \"linkText\": \"Export to plot.ly\", \"plotlyServerURL\": \"https://plot.ly\", \"responsive\": true}                    ).then(function(){\n",
       "                            \n",
       "var gd = document.getElementById('d8f474b6-752d-45d6-8a78-66def707ba9b');\n",
       "var x = new MutationObserver(function (mutations, observer) {{\n",
       "        var display = window.getComputedStyle(gd).display;\n",
       "        if (!display || display === 'none') {{\n",
       "            console.log([gd, 'removed!']);\n",
       "            Plotly.purge(gd);\n",
       "            observer.disconnect();\n",
       "        }}\n",
       "}});\n",
       "\n",
       "// Listen for the removal of the full notebook cells\n",
       "var notebookContainer = gd.closest('#notebook-container');\n",
       "if (notebookContainer) {{\n",
       "    x.observe(notebookContainer, {childList: true});\n",
       "}}\n",
       "\n",
       "// Listen for the clearing of the current output cell\n",
       "var outputEl = gd.closest('.output');\n",
       "if (outputEl) {{\n",
       "    x.observe(outputEl, {childList: true});\n",
       "}}\n",
       "\n",
       "                        })                };                });            </script>        </div>"
      ]
     },
     "metadata": {},
     "output_type": "display_data"
    }
   ],
   "source": [
    "df3 = pd.DataFrame({'x':[1,2,3,4,5],'y':[10,20,30,20,10],'z':[5,4,3,2,1]})\n",
    "df3.iplot(kind='surface',colorscale=\"rdylbu\")"
   ]
  },
  {
   "cell_type": "code",
   "execution_count": 47,
   "metadata": {},
   "outputs": [
    {
     "name": "stderr",
     "output_type": "stream",
     "text": [
      "c:\\users\\mohit\\appdata\\local\\programs\\python\\python37-32\\lib\\site-packages\\cufflinks\\plotlytools.py:849: FutureWarning:\n",
      "\n",
      "The pandas.np module is deprecated and will be removed from pandas in a future version. Import numpy directly instead\n",
      "\n",
      "c:\\users\\mohit\\appdata\\local\\programs\\python\\python37-32\\lib\\site-packages\\cufflinks\\plotlytools.py:850: FutureWarning:\n",
      "\n",
      "The pandas.np module is deprecated and will be removed from pandas in a future version. Import numpy directly instead\n",
      "\n"
     ]
    },
    {
     "data": {
      "application/vnd.plotly.v1+json": {
       "config": {
        "linkText": "Export to plot.ly",
        "plotlyServerURL": "https://plot.ly",
        "showLink": true
       },
       "data": [
        {
         "line": {
          "color": "rgba(255, 153, 51, 1.0)",
          "dash": "solid",
          "shape": "linear",
          "width": 1.3
         },
         "mode": "lines",
         "name": "A",
         "text": "",
         "type": "scatter",
         "x": [
          0,
          1,
          2,
          3,
          4,
          5,
          6,
          7,
          8,
          9,
          10,
          11,
          12,
          13,
          14,
          15,
          16,
          17,
          18,
          19,
          20,
          21,
          22,
          23,
          24,
          25,
          26,
          27,
          28,
          29,
          30,
          31,
          32,
          33,
          34,
          35,
          36,
          37,
          38,
          39,
          40,
          41,
          42,
          43,
          44,
          45,
          46,
          47,
          48,
          49,
          50,
          51,
          52,
          53,
          54,
          55,
          56,
          57,
          58,
          59,
          60,
          61,
          62,
          63,
          64,
          65,
          66,
          67,
          68,
          69,
          70,
          71,
          72,
          73,
          74,
          75,
          76,
          77,
          78,
          79,
          80,
          81,
          82,
          83,
          84,
          85,
          86,
          87,
          88,
          89,
          90,
          91,
          92,
          93,
          94,
          95,
          96,
          97,
          98,
          99
         ],
         "y": [
          1.3958571402522173,
          1.7687417871313142,
          0.10653189579918299,
          -0.06839751030895003,
          -0.22286407251005386,
          -0.911813054415412,
          -1.138374712280638,
          -2.076515295378499,
          0.8355743687848377,
          -1.3852398598619142,
          -0.7881696259183386,
          1.567746687368864,
          1.9892891176353522,
          -0.9830767758554056,
          -0.3627983979158278,
          -0.2820990166954689,
          0.046870071917995845,
          0.19842188879515865,
          -0.6568697207070987,
          -0.764236807627151,
          1.1736716674459398,
          -0.6191162705469615,
          1.084557146065737,
          1.653380999200758,
          1.4090059850128653,
          0.1861857567059522,
          -0.786733985990504,
          -1.600126818156464,
          1.1255562264329135,
          -0.28735115089746577,
          0.2723703615553113,
          -0.9473062585529124,
          0.0002873577943047055,
          0.7331551022767826,
          -0.8872465280594893,
          -1.0264752373869415,
          -0.7409637199245542,
          -0.7046085376423608,
          -0.40775762221923517,
          -1.6784306148900403,
          -0.8407645884416786,
          1.5596392657887848,
          -0.5259211309683172,
          -0.07497933317657705,
          -1.0226455579770275,
          -0.6860456493957651,
          -0.6975946526799793,
          2.1043412618632313,
          0.47785752753502864,
          2.054327559238907,
          -0.6585820392388271,
          -1.3210350576424565,
          -0.22868465795478748,
          -2.6883518205241663,
          0.42664908196041373,
          0.9983811999339781,
          -0.18160768836834684,
          1.6320159222316475,
          -0.2516207782679942,
          -1.5445388099026622,
          -0.7695414918898916,
          0.7546127640134019,
          -0.3359542940734125,
          -1.191926069470237,
          -1.0927364230354342,
          1.2351843215395883,
          0.5051650057793735,
          1.1416519597608146,
          -1.0055825617519072,
          1.6829143708101177,
          -0.32423847811046014,
          -0.5770935042474814,
          -0.06757080836898403,
          0.022809114117759575,
          2.21936698432604,
          -0.35172589279848776,
          -0.04859146944744719,
          -1.1858001293639995,
          0.49929049394009534,
          0.8462783992717402,
          0.05519926184140124,
          0.7422481328903986,
          0.0706953624577117,
          0.7985470808608991,
          0.04725948488277241,
          0.4450498669823275,
          -0.4022199827458861,
          0.047164515076318976,
          0.7103398027557435,
          0.3877377434028861,
          -0.7411714841424565,
          -1.2280193523166323,
          1.9568324643654835,
          -1.215878836062444,
          0.15667208570674476,
          -0.10815633343085357,
          -0.9009243428302873,
          -0.0795524993928057,
          -0.8454673086593281,
          -0.3389249262706094
         ]
        },
        {
         "line": {
          "color": "rgba(55, 128, 191, 1.0)",
          "dash": "solid",
          "shape": "linear",
          "width": 1.3
         },
         "mode": "lines",
         "name": "B",
         "text": "",
         "type": "scatter",
         "x": [
          0,
          1,
          2,
          3,
          4,
          5,
          6,
          7,
          8,
          9,
          10,
          11,
          12,
          13,
          14,
          15,
          16,
          17,
          18,
          19,
          20,
          21,
          22,
          23,
          24,
          25,
          26,
          27,
          28,
          29,
          30,
          31,
          32,
          33,
          34,
          35,
          36,
          37,
          38,
          39,
          40,
          41,
          42,
          43,
          44,
          45,
          46,
          47,
          48,
          49,
          50,
          51,
          52,
          53,
          54,
          55,
          56,
          57,
          58,
          59,
          60,
          61,
          62,
          63,
          64,
          65,
          66,
          67,
          68,
          69,
          70,
          71,
          72,
          73,
          74,
          75,
          76,
          77,
          78,
          79,
          80,
          81,
          82,
          83,
          84,
          85,
          86,
          87,
          88,
          89,
          90,
          91,
          92,
          93,
          94,
          95,
          96,
          97,
          98,
          99
         ],
         "y": [
          0.31109329086789356,
          -0.5896119792127454,
          0.18249769739963367,
          0.21273906694711908,
          0.34546790380517933,
          1.4360691722389451,
          0.0343021349022167,
          -2.2980295614555537,
          -0.7237288140051719,
          0.806522745140201,
          1.55988029049177,
          0.659722457974447,
          0.6928752051233459,
          -0.3433248984765326,
          -2.151751528618054,
          1.1691350062192414,
          -0.5301247177872519,
          -1.5048533378505118,
          0.5047690078441021,
          0.7775406491403986,
          0.49904089052427425,
          0.8296443449352046,
          1.0896299791611008,
          0.7377019861129948,
          1.0180645558788401,
          2.093681731800379,
          -0.09126646340663945,
          0.44804128182266945,
          -0.4816226664996335,
          -0.621942600653705,
          0.9944941339374124,
          0.6654419517329713,
          0.5128809494180684,
          0.9180080552315676,
          -0.9709378852782818,
          -0.14147321728217505,
          -0.5176675881051254,
          2.3059657949304326,
          1.4963679195653352,
          1.9839559596060798,
          -1.6702107081802164,
          0.4294416061188701,
          0.012606398726399072,
          1.2428092614742294,
          0.9511349956811631,
          -1.279460026426591,
          0.3816809303288523,
          -0.9014048293561713,
          -1.2103133313567842,
          1.154954986794404,
          1.100899783879604,
          -0.21599626415112302,
          0.333822558746985,
          -1.315563202336242,
          -1.5552900360807937,
          1.252717178399084,
          -1.3743601997655164,
          -0.25862816090832486,
          -1.8315619262622933,
          -1.1722014006145083,
          0.2912483438736711,
          0.19565927515916923,
          -0.2342104353474634,
          0.20546762939681662,
          0.6121835437337633,
          -0.37335920121020494,
          0.3317532063059609,
          -1.9925436753413595,
          -1.6003098768246704,
          0.3514677569461104,
          1.3272177621816075,
          1.4029331703224068,
          0.3523168323756554,
          0.3309423247587541,
          -1.9510545964729062,
          -1.4014187409082823,
          -0.5397632785490671,
          -0.08521821954972478,
          -0.16621049899519807,
          -1.475760420609932,
          -0.5598875937119878,
          1.0939185750888833,
          1.872907682637046,
          0.758055974295879,
          -1.3348431468217508,
          0.3276533558639439,
          0.6821689694033598,
          0.03168399942849605,
          -1.2437262113594139,
          -0.8514055203570562,
          -0.5032698663296064,
          -0.06416017208904702,
          2.520308466556398,
          -1.235168939598875,
          0.2505454787907699,
          0.053354249893103584,
          1.3103937710010418,
          2.225094555722162,
          -0.19809983931161484,
          0.09120185081284775
         ]
        },
        {
         "connectgaps": false,
         "fill": "tozeroy",
         "line": {
          "color": "green",
          "dash": "solid",
          "shape": "linear",
          "width": 0.5
         },
         "mode": "lines",
         "name": "Spread",
         "showlegend": false,
         "type": "scatter",
         "x": [
          0,
          1,
          2,
          3,
          4,
          5,
          6,
          7,
          8,
          9,
          10,
          11,
          12,
          13,
          14,
          15,
          16,
          17,
          18,
          19,
          20,
          21,
          22,
          23,
          24,
          25,
          26,
          27,
          28,
          29,
          30,
          31,
          32,
          33,
          34,
          35,
          36,
          37,
          38,
          39,
          40,
          41,
          42,
          43,
          44,
          45,
          46,
          47,
          48,
          49,
          50,
          51,
          52,
          53,
          54,
          55,
          56,
          57,
          58,
          59,
          60,
          61,
          62,
          63,
          64,
          65,
          66,
          67,
          68,
          69,
          70,
          71,
          72,
          73,
          74,
          75,
          76,
          77,
          78,
          79,
          80,
          81,
          82,
          83,
          84,
          85,
          86,
          87,
          88,
          89,
          90,
          91,
          92,
          93,
          94,
          95,
          96,
          97,
          98,
          99
         ],
         "xaxis": "x2",
         "y": [
          1.0847638493843237,
          2.3583537663440595,
          "",
          "",
          "",
          "",
          "",
          0.2215142660770546,
          1.5593031827900097,
          "",
          "",
          0.908024229394417,
          1.2964139125120062,
          "",
          1.7889531307022264,
          "",
          0.5769947897052478,
          1.7032752266456703,
          "",
          "",
          0.6746307769216655,
          "",
          "",
          0.9156790130877632,
          0.3909414291340252,
          "",
          "",
          "",
          1.607178892932547,
          0.3345914497562392,
          "",
          "",
          "",
          "",
          0.0836913572187925,
          "",
          "",
          "",
          "",
          "",
          0.8294461197385379,
          1.1301976596699146,
          "",
          "",
          "",
          0.5934143770308259,
          "",
          3.0057460912194025,
          1.6881708588918127,
          0.899372572444503,
          "",
          "",
          "",
          "",
          1.9819391180412076,
          "",
          1.1927525113971695,
          1.8906440831399722,
          1.579941147994299,
          "",
          "",
          0.5589534888542327,
          "",
          "",
          "",
          1.6085435227497933,
          0.17341179947341262,
          3.134195635102174,
          0.5947273150727632,
          1.3314466138640073,
          "",
          "",
          "",
          "",
          4.170421580798946,
          1.0496928481097947,
          0.49117180910161995,
          "",
          0.6655009929352934,
          2.322038819881672,
          0.615086855553389,
          "",
          "",
          0.040491106565020085,
          1.382102631704523,
          0.11739651111838362,
          "",
          0.015480515647822927,
          1.9540660141151573,
          1.2391432637599422,
          "",
          "",
          "",
          0.019290103536431014,
          "",
          "",
          "",
          "",
          "",
          ""
         ],
         "yaxis": "y2"
        },
        {
         "connectgaps": false,
         "fill": "tozeroy",
         "line": {
          "color": "red",
          "dash": "solid",
          "shape": "linear",
          "width": 0.5
         },
         "mode": "lines",
         "name": "Spread",
         "showlegend": false,
         "type": "scatter",
         "x": [
          0,
          1,
          2,
          3,
          4,
          5,
          6,
          7,
          8,
          9,
          10,
          11,
          12,
          13,
          14,
          15,
          16,
          17,
          18,
          19,
          20,
          21,
          22,
          23,
          24,
          25,
          26,
          27,
          28,
          29,
          30,
          31,
          32,
          33,
          34,
          35,
          36,
          37,
          38,
          39,
          40,
          41,
          42,
          43,
          44,
          45,
          46,
          47,
          48,
          49,
          50,
          51,
          52,
          53,
          54,
          55,
          56,
          57,
          58,
          59,
          60,
          61,
          62,
          63,
          64,
          65,
          66,
          67,
          68,
          69,
          70,
          71,
          72,
          73,
          74,
          75,
          76,
          77,
          78,
          79,
          80,
          81,
          82,
          83,
          84,
          85,
          86,
          87,
          88,
          89,
          90,
          91,
          92,
          93,
          94,
          95,
          96,
          97,
          98,
          99
         ],
         "xaxis": "x2",
         "y": [
          "",
          "",
          -0.07596580160045069,
          -0.2811365772560691,
          -0.5683319763152332,
          -2.3478822266543573,
          -1.1726768471828548,
          "",
          "",
          -2.1917626050021153,
          -2.3480499164101083,
          "",
          "",
          -0.6397518773788731,
          "",
          -1.4512340229147103,
          "",
          "",
          -1.1616387285512006,
          -1.5417774567675495,
          "",
          -1.4487606154821662,
          -0.005072833095363771,
          "",
          "",
          -1.907495975094427,
          -0.6954675225838646,
          -2.0481680999791334,
          "",
          "",
          -0.722123772382101,
          -1.6127482102858837,
          -0.5125935916237637,
          -0.184852952954785,
          "",
          -0.8850020201047664,
          -0.22329613181942887,
          -3.0105743325727934,
          -1.9041255417845704,
          -3.66238657449612,
          "",
          "",
          -0.5385275296947163,
          -1.3177885946508066,
          -1.9737805536581905,
          "",
          -1.0792755830088316,
          "",
          "",
          "",
          -1.759481823118431,
          -1.1050387934913335,
          -0.5625072167017725,
          -1.3727886181879243,
          "",
          -0.2543359784651059,
          "",
          "",
          "",
          -0.37233740928815395,
          -1.0607898357635628,
          "",
          -0.10174385872594907,
          -1.3973936988670537,
          -1.7049199667691974,
          "",
          "",
          "",
          "",
          "",
          -1.6514562402920676,
          -1.9800266745698882,
          -0.41988764074463947,
          -0.3081332106409945,
          "",
          "",
          "",
          -1.1005819098142746,
          "",
          "",
          "",
          -0.35167044219848476,
          -1.8022123201793343,
          "",
          "",
          "",
          -1.0843889521492458,
          "",
          "",
          "",
          -0.23790161781285013,
          -1.1638591802275853,
          -0.5634760021909144,
          "",
          -0.09387339308402512,
          -0.16151058332395715,
          -2.211318113831329,
          -2.304647055114968,
          -0.6473674693477132,
          -0.43012677708345715
         ],
         "yaxis": "y2"
        }
       ],
       "layout": {
        "hovermode": "x",
        "legend": {
         "bgcolor": "#F5F6F9",
         "font": {
          "color": "#4D5663"
         }
        },
        "paper_bgcolor": "#F5F6F9",
        "plot_bgcolor": "#F5F6F9",
        "template": {
         "data": {
          "bar": [
           {
            "error_x": {
             "color": "#2a3f5f"
            },
            "error_y": {
             "color": "#2a3f5f"
            },
            "marker": {
             "line": {
              "color": "#E5ECF6",
              "width": 0.5
             },
             "pattern": {
              "fillmode": "overlay",
              "size": 10,
              "solidity": 0.2
             }
            },
            "type": "bar"
           }
          ],
          "barpolar": [
           {
            "marker": {
             "line": {
              "color": "#E5ECF6",
              "width": 0.5
             },
             "pattern": {
              "fillmode": "overlay",
              "size": 10,
              "solidity": 0.2
             }
            },
            "type": "barpolar"
           }
          ],
          "carpet": [
           {
            "aaxis": {
             "endlinecolor": "#2a3f5f",
             "gridcolor": "white",
             "linecolor": "white",
             "minorgridcolor": "white",
             "startlinecolor": "#2a3f5f"
            },
            "baxis": {
             "endlinecolor": "#2a3f5f",
             "gridcolor": "white",
             "linecolor": "white",
             "minorgridcolor": "white",
             "startlinecolor": "#2a3f5f"
            },
            "type": "carpet"
           }
          ],
          "choropleth": [
           {
            "colorbar": {
             "outlinewidth": 0,
             "ticks": ""
            },
            "type": "choropleth"
           }
          ],
          "contour": [
           {
            "colorbar": {
             "outlinewidth": 0,
             "ticks": ""
            },
            "colorscale": [
             [
              0,
              "#0d0887"
             ],
             [
              0.1111111111111111,
              "#46039f"
             ],
             [
              0.2222222222222222,
              "#7201a8"
             ],
             [
              0.3333333333333333,
              "#9c179e"
             ],
             [
              0.4444444444444444,
              "#bd3786"
             ],
             [
              0.5555555555555556,
              "#d8576b"
             ],
             [
              0.6666666666666666,
              "#ed7953"
             ],
             [
              0.7777777777777778,
              "#fb9f3a"
             ],
             [
              0.8888888888888888,
              "#fdca26"
             ],
             [
              1,
              "#f0f921"
             ]
            ],
            "type": "contour"
           }
          ],
          "contourcarpet": [
           {
            "colorbar": {
             "outlinewidth": 0,
             "ticks": ""
            },
            "type": "contourcarpet"
           }
          ],
          "heatmap": [
           {
            "colorbar": {
             "outlinewidth": 0,
             "ticks": ""
            },
            "colorscale": [
             [
              0,
              "#0d0887"
             ],
             [
              0.1111111111111111,
              "#46039f"
             ],
             [
              0.2222222222222222,
              "#7201a8"
             ],
             [
              0.3333333333333333,
              "#9c179e"
             ],
             [
              0.4444444444444444,
              "#bd3786"
             ],
             [
              0.5555555555555556,
              "#d8576b"
             ],
             [
              0.6666666666666666,
              "#ed7953"
             ],
             [
              0.7777777777777778,
              "#fb9f3a"
             ],
             [
              0.8888888888888888,
              "#fdca26"
             ],
             [
              1,
              "#f0f921"
             ]
            ],
            "type": "heatmap"
           }
          ],
          "heatmapgl": [
           {
            "colorbar": {
             "outlinewidth": 0,
             "ticks": ""
            },
            "colorscale": [
             [
              0,
              "#0d0887"
             ],
             [
              0.1111111111111111,
              "#46039f"
             ],
             [
              0.2222222222222222,
              "#7201a8"
             ],
             [
              0.3333333333333333,
              "#9c179e"
             ],
             [
              0.4444444444444444,
              "#bd3786"
             ],
             [
              0.5555555555555556,
              "#d8576b"
             ],
             [
              0.6666666666666666,
              "#ed7953"
             ],
             [
              0.7777777777777778,
              "#fb9f3a"
             ],
             [
              0.8888888888888888,
              "#fdca26"
             ],
             [
              1,
              "#f0f921"
             ]
            ],
            "type": "heatmapgl"
           }
          ],
          "histogram": [
           {
            "marker": {
             "pattern": {
              "fillmode": "overlay",
              "size": 10,
              "solidity": 0.2
             }
            },
            "type": "histogram"
           }
          ],
          "histogram2d": [
           {
            "colorbar": {
             "outlinewidth": 0,
             "ticks": ""
            },
            "colorscale": [
             [
              0,
              "#0d0887"
             ],
             [
              0.1111111111111111,
              "#46039f"
             ],
             [
              0.2222222222222222,
              "#7201a8"
             ],
             [
              0.3333333333333333,
              "#9c179e"
             ],
             [
              0.4444444444444444,
              "#bd3786"
             ],
             [
              0.5555555555555556,
              "#d8576b"
             ],
             [
              0.6666666666666666,
              "#ed7953"
             ],
             [
              0.7777777777777778,
              "#fb9f3a"
             ],
             [
              0.8888888888888888,
              "#fdca26"
             ],
             [
              1,
              "#f0f921"
             ]
            ],
            "type": "histogram2d"
           }
          ],
          "histogram2dcontour": [
           {
            "colorbar": {
             "outlinewidth": 0,
             "ticks": ""
            },
            "colorscale": [
             [
              0,
              "#0d0887"
             ],
             [
              0.1111111111111111,
              "#46039f"
             ],
             [
              0.2222222222222222,
              "#7201a8"
             ],
             [
              0.3333333333333333,
              "#9c179e"
             ],
             [
              0.4444444444444444,
              "#bd3786"
             ],
             [
              0.5555555555555556,
              "#d8576b"
             ],
             [
              0.6666666666666666,
              "#ed7953"
             ],
             [
              0.7777777777777778,
              "#fb9f3a"
             ],
             [
              0.8888888888888888,
              "#fdca26"
             ],
             [
              1,
              "#f0f921"
             ]
            ],
            "type": "histogram2dcontour"
           }
          ],
          "mesh3d": [
           {
            "colorbar": {
             "outlinewidth": 0,
             "ticks": ""
            },
            "type": "mesh3d"
           }
          ],
          "parcoords": [
           {
            "line": {
             "colorbar": {
              "outlinewidth": 0,
              "ticks": ""
             }
            },
            "type": "parcoords"
           }
          ],
          "pie": [
           {
            "automargin": true,
            "type": "pie"
           }
          ],
          "scatter": [
           {
            "marker": {
             "colorbar": {
              "outlinewidth": 0,
              "ticks": ""
             }
            },
            "type": "scatter"
           }
          ],
          "scatter3d": [
           {
            "line": {
             "colorbar": {
              "outlinewidth": 0,
              "ticks": ""
             }
            },
            "marker": {
             "colorbar": {
              "outlinewidth": 0,
              "ticks": ""
             }
            },
            "type": "scatter3d"
           }
          ],
          "scattercarpet": [
           {
            "marker": {
             "colorbar": {
              "outlinewidth": 0,
              "ticks": ""
             }
            },
            "type": "scattercarpet"
           }
          ],
          "scattergeo": [
           {
            "marker": {
             "colorbar": {
              "outlinewidth": 0,
              "ticks": ""
             }
            },
            "type": "scattergeo"
           }
          ],
          "scattergl": [
           {
            "marker": {
             "colorbar": {
              "outlinewidth": 0,
              "ticks": ""
             }
            },
            "type": "scattergl"
           }
          ],
          "scattermapbox": [
           {
            "marker": {
             "colorbar": {
              "outlinewidth": 0,
              "ticks": ""
             }
            },
            "type": "scattermapbox"
           }
          ],
          "scatterpolar": [
           {
            "marker": {
             "colorbar": {
              "outlinewidth": 0,
              "ticks": ""
             }
            },
            "type": "scatterpolar"
           }
          ],
          "scatterpolargl": [
           {
            "marker": {
             "colorbar": {
              "outlinewidth": 0,
              "ticks": ""
             }
            },
            "type": "scatterpolargl"
           }
          ],
          "scatterternary": [
           {
            "marker": {
             "colorbar": {
              "outlinewidth": 0,
              "ticks": ""
             }
            },
            "type": "scatterternary"
           }
          ],
          "surface": [
           {
            "colorbar": {
             "outlinewidth": 0,
             "ticks": ""
            },
            "colorscale": [
             [
              0,
              "#0d0887"
             ],
             [
              0.1111111111111111,
              "#46039f"
             ],
             [
              0.2222222222222222,
              "#7201a8"
             ],
             [
              0.3333333333333333,
              "#9c179e"
             ],
             [
              0.4444444444444444,
              "#bd3786"
             ],
             [
              0.5555555555555556,
              "#d8576b"
             ],
             [
              0.6666666666666666,
              "#ed7953"
             ],
             [
              0.7777777777777778,
              "#fb9f3a"
             ],
             [
              0.8888888888888888,
              "#fdca26"
             ],
             [
              1,
              "#f0f921"
             ]
            ],
            "type": "surface"
           }
          ],
          "table": [
           {
            "cells": {
             "fill": {
              "color": "#EBF0F8"
             },
             "line": {
              "color": "white"
             }
            },
            "header": {
             "fill": {
              "color": "#C8D4E3"
             },
             "line": {
              "color": "white"
             }
            },
            "type": "table"
           }
          ]
         },
         "layout": {
          "annotationdefaults": {
           "arrowcolor": "#2a3f5f",
           "arrowhead": 0,
           "arrowwidth": 1
          },
          "autotypenumbers": "strict",
          "coloraxis": {
           "colorbar": {
            "outlinewidth": 0,
            "ticks": ""
           }
          },
          "colorscale": {
           "diverging": [
            [
             0,
             "#8e0152"
            ],
            [
             0.1,
             "#c51b7d"
            ],
            [
             0.2,
             "#de77ae"
            ],
            [
             0.3,
             "#f1b6da"
            ],
            [
             0.4,
             "#fde0ef"
            ],
            [
             0.5,
             "#f7f7f7"
            ],
            [
             0.6,
             "#e6f5d0"
            ],
            [
             0.7,
             "#b8e186"
            ],
            [
             0.8,
             "#7fbc41"
            ],
            [
             0.9,
             "#4d9221"
            ],
            [
             1,
             "#276419"
            ]
           ],
           "sequential": [
            [
             0,
             "#0d0887"
            ],
            [
             0.1111111111111111,
             "#46039f"
            ],
            [
             0.2222222222222222,
             "#7201a8"
            ],
            [
             0.3333333333333333,
             "#9c179e"
            ],
            [
             0.4444444444444444,
             "#bd3786"
            ],
            [
             0.5555555555555556,
             "#d8576b"
            ],
            [
             0.6666666666666666,
             "#ed7953"
            ],
            [
             0.7777777777777778,
             "#fb9f3a"
            ],
            [
             0.8888888888888888,
             "#fdca26"
            ],
            [
             1,
             "#f0f921"
            ]
           ],
           "sequentialminus": [
            [
             0,
             "#0d0887"
            ],
            [
             0.1111111111111111,
             "#46039f"
            ],
            [
             0.2222222222222222,
             "#7201a8"
            ],
            [
             0.3333333333333333,
             "#9c179e"
            ],
            [
             0.4444444444444444,
             "#bd3786"
            ],
            [
             0.5555555555555556,
             "#d8576b"
            ],
            [
             0.6666666666666666,
             "#ed7953"
            ],
            [
             0.7777777777777778,
             "#fb9f3a"
            ],
            [
             0.8888888888888888,
             "#fdca26"
            ],
            [
             1,
             "#f0f921"
            ]
           ]
          },
          "colorway": [
           "#636efa",
           "#EF553B",
           "#00cc96",
           "#ab63fa",
           "#FFA15A",
           "#19d3f3",
           "#FF6692",
           "#B6E880",
           "#FF97FF",
           "#FECB52"
          ],
          "font": {
           "color": "#2a3f5f"
          },
          "geo": {
           "bgcolor": "white",
           "lakecolor": "white",
           "landcolor": "#E5ECF6",
           "showlakes": true,
           "showland": true,
           "subunitcolor": "white"
          },
          "hoverlabel": {
           "align": "left"
          },
          "hovermode": "closest",
          "mapbox": {
           "style": "light"
          },
          "paper_bgcolor": "white",
          "plot_bgcolor": "#E5ECF6",
          "polar": {
           "angularaxis": {
            "gridcolor": "white",
            "linecolor": "white",
            "ticks": ""
           },
           "bgcolor": "#E5ECF6",
           "radialaxis": {
            "gridcolor": "white",
            "linecolor": "white",
            "ticks": ""
           }
          },
          "scene": {
           "xaxis": {
            "backgroundcolor": "#E5ECF6",
            "gridcolor": "white",
            "gridwidth": 2,
            "linecolor": "white",
            "showbackground": true,
            "ticks": "",
            "zerolinecolor": "white"
           },
           "yaxis": {
            "backgroundcolor": "#E5ECF6",
            "gridcolor": "white",
            "gridwidth": 2,
            "linecolor": "white",
            "showbackground": true,
            "ticks": "",
            "zerolinecolor": "white"
           },
           "zaxis": {
            "backgroundcolor": "#E5ECF6",
            "gridcolor": "white",
            "gridwidth": 2,
            "linecolor": "white",
            "showbackground": true,
            "ticks": "",
            "zerolinecolor": "white"
           }
          },
          "shapedefaults": {
           "line": {
            "color": "#2a3f5f"
           }
          },
          "ternary": {
           "aaxis": {
            "gridcolor": "white",
            "linecolor": "white",
            "ticks": ""
           },
           "baxis": {
            "gridcolor": "white",
            "linecolor": "white",
            "ticks": ""
           },
           "bgcolor": "#E5ECF6",
           "caxis": {
            "gridcolor": "white",
            "linecolor": "white",
            "ticks": ""
           }
          },
          "title": {
           "x": 0.05
          },
          "xaxis": {
           "automargin": true,
           "gridcolor": "white",
           "linecolor": "white",
           "ticks": "",
           "title": {
            "standoff": 15
           },
           "zerolinecolor": "white",
           "zerolinewidth": 2
          },
          "yaxis": {
           "automargin": true,
           "gridcolor": "white",
           "linecolor": "white",
           "ticks": "",
           "title": {
            "standoff": 15
           },
           "zerolinecolor": "white",
           "zerolinewidth": 2
          }
         }
        },
        "title": {
         "font": {
          "color": "#4D5663"
         }
        },
        "xaxis": {
         "gridcolor": "#E1E5ED",
         "showgrid": true,
         "tickfont": {
          "color": "#4D5663"
         },
         "title": {
          "font": {
           "color": "#4D5663"
          },
          "text": ""
         },
         "zerolinecolor": "#E1E5ED"
        },
        "xaxis2": {
         "anchor": "y2",
         "gridcolor": "#E1E5ED",
         "showgrid": true,
         "showticklabels": false,
         "tickfont": {
          "color": "#4D5663"
         },
         "title": {
          "font": {
           "color": "#4D5663"
          },
          "text": ""
         },
         "zerolinecolor": "#E1E5ED"
        },
        "yaxis": {
         "domain": [
          0.3,
          1
         ],
         "gridcolor": "#E1E5ED",
         "showgrid": true,
         "tickfont": {
          "color": "#4D5663"
         },
         "title": {
          "font": {
           "color": "#4D5663"
          },
          "text": ""
         },
         "zerolinecolor": "#E1E5ED"
        },
        "yaxis2": {
         "domain": [
          0,
          0.25
         ],
         "gridcolor": "#E1E5ED",
         "showgrid": true,
         "tickfont": {
          "color": "#4D5663"
         },
         "title": {
          "font": {
           "color": "#4D5663"
          },
          "text": "Spread"
         },
         "zerolinecolor": "#E1E5ED"
        }
       }
      },
      "text/html": [
       "<div>                            <div id=\"362f592e-6da6-43cb-ae4d-d4526e4ae49c\" class=\"plotly-graph-div\" style=\"height:525px; width:100%;\"></div>            <script type=\"text/javascript\">                require([\"plotly\"], function(Plotly) {                    window.PLOTLYENV=window.PLOTLYENV || {};\n",
       "                    window.PLOTLYENV.BASE_URL='https://plot.ly';                                    if (document.getElementById(\"362f592e-6da6-43cb-ae4d-d4526e4ae49c\")) {                    Plotly.newPlot(                        \"362f592e-6da6-43cb-ae4d-d4526e4ae49c\",                        [{\"line\":{\"color\":\"rgba(255, 153, 51, 1.0)\",\"dash\":\"solid\",\"shape\":\"linear\",\"width\":1.3},\"mode\":\"lines\",\"name\":\"A\",\"text\":\"\",\"type\":\"scatter\",\"x\":[0,1,2,3,4,5,6,7,8,9,10,11,12,13,14,15,16,17,18,19,20,21,22,23,24,25,26,27,28,29,30,31,32,33,34,35,36,37,38,39,40,41,42,43,44,45,46,47,48,49,50,51,52,53,54,55,56,57,58,59,60,61,62,63,64,65,66,67,68,69,70,71,72,73,74,75,76,77,78,79,80,81,82,83,84,85,86,87,88,89,90,91,92,93,94,95,96,97,98,99],\"y\":[1.3958571402522173,1.7687417871313142,0.10653189579918299,-0.06839751030895003,-0.22286407251005386,-0.911813054415412,-1.138374712280638,-2.076515295378499,0.8355743687848377,-1.3852398598619142,-0.7881696259183386,1.567746687368864,1.9892891176353522,-0.9830767758554056,-0.3627983979158278,-0.2820990166954689,0.046870071917995845,0.19842188879515865,-0.6568697207070987,-0.764236807627151,1.1736716674459398,-0.6191162705469615,1.084557146065737,1.653380999200758,1.4090059850128653,0.1861857567059522,-0.786733985990504,-1.600126818156464,1.1255562264329135,-0.28735115089746577,0.2723703615553113,-0.9473062585529124,0.0002873577943047055,0.7331551022767826,-0.8872465280594893,-1.0264752373869415,-0.7409637199245542,-0.7046085376423608,-0.40775762221923517,-1.6784306148900403,-0.8407645884416786,1.5596392657887848,-0.5259211309683172,-0.07497933317657705,-1.0226455579770275,-0.6860456493957651,-0.6975946526799793,2.1043412618632313,0.47785752753502864,2.054327559238907,-0.6585820392388271,-1.3210350576424565,-0.22868465795478748,-2.6883518205241663,0.42664908196041373,0.9983811999339781,-0.18160768836834684,1.6320159222316475,-0.2516207782679942,-1.5445388099026622,-0.7695414918898916,0.7546127640134019,-0.3359542940734125,-1.191926069470237,-1.0927364230354342,1.2351843215395883,0.5051650057793735,1.1416519597608146,-1.0055825617519072,1.6829143708101177,-0.32423847811046014,-0.5770935042474814,-0.06757080836898403,0.022809114117759575,2.21936698432604,-0.35172589279848776,-0.04859146944744719,-1.1858001293639995,0.49929049394009534,0.8462783992717402,0.05519926184140124,0.7422481328903986,0.0706953624577117,0.7985470808608991,0.04725948488277241,0.4450498669823275,-0.4022199827458861,0.047164515076318976,0.7103398027557435,0.3877377434028861,-0.7411714841424565,-1.2280193523166323,1.9568324643654835,-1.215878836062444,0.15667208570674476,-0.10815633343085357,-0.9009243428302873,-0.0795524993928057,-0.8454673086593281,-0.3389249262706094]},{\"line\":{\"color\":\"rgba(55, 128, 191, 1.0)\",\"dash\":\"solid\",\"shape\":\"linear\",\"width\":1.3},\"mode\":\"lines\",\"name\":\"B\",\"text\":\"\",\"type\":\"scatter\",\"x\":[0,1,2,3,4,5,6,7,8,9,10,11,12,13,14,15,16,17,18,19,20,21,22,23,24,25,26,27,28,29,30,31,32,33,34,35,36,37,38,39,40,41,42,43,44,45,46,47,48,49,50,51,52,53,54,55,56,57,58,59,60,61,62,63,64,65,66,67,68,69,70,71,72,73,74,75,76,77,78,79,80,81,82,83,84,85,86,87,88,89,90,91,92,93,94,95,96,97,98,99],\"y\":[0.31109329086789356,-0.5896119792127454,0.18249769739963367,0.21273906694711908,0.34546790380517933,1.4360691722389451,0.0343021349022167,-2.2980295614555537,-0.7237288140051719,0.806522745140201,1.55988029049177,0.659722457974447,0.6928752051233459,-0.3433248984765326,-2.151751528618054,1.1691350062192414,-0.5301247177872519,-1.5048533378505118,0.5047690078441021,0.7775406491403986,0.49904089052427425,0.8296443449352046,1.0896299791611008,0.7377019861129948,1.0180645558788401,2.093681731800379,-0.09126646340663945,0.44804128182266945,-0.4816226664996335,-0.621942600653705,0.9944941339374124,0.6654419517329713,0.5128809494180684,0.9180080552315676,-0.9709378852782818,-0.14147321728217505,-0.5176675881051254,2.3059657949304326,1.4963679195653352,1.9839559596060798,-1.6702107081802164,0.4294416061188701,0.012606398726399072,1.2428092614742294,0.9511349956811631,-1.279460026426591,0.3816809303288523,-0.9014048293561713,-1.2103133313567842,1.154954986794404,1.100899783879604,-0.21599626415112302,0.333822558746985,-1.315563202336242,-1.5552900360807937,1.252717178399084,-1.3743601997655164,-0.25862816090832486,-1.8315619262622933,-1.1722014006145083,0.2912483438736711,0.19565927515916923,-0.2342104353474634,0.20546762939681662,0.6121835437337633,-0.37335920121020494,0.3317532063059609,-1.9925436753413595,-1.6003098768246704,0.3514677569461104,1.3272177621816075,1.4029331703224068,0.3523168323756554,0.3309423247587541,-1.9510545964729062,-1.4014187409082823,-0.5397632785490671,-0.08521821954972478,-0.16621049899519807,-1.475760420609932,-0.5598875937119878,1.0939185750888833,1.872907682637046,0.758055974295879,-1.3348431468217508,0.3276533558639439,0.6821689694033598,0.03168399942849605,-1.2437262113594139,-0.8514055203570562,-0.5032698663296064,-0.06416017208904702,2.520308466556398,-1.235168939598875,0.2505454787907699,0.053354249893103584,1.3103937710010418,2.225094555722162,-0.19809983931161484,0.09120185081284775]},{\"connectgaps\":false,\"fill\":\"tozeroy\",\"line\":{\"color\":\"green\",\"dash\":\"solid\",\"shape\":\"linear\",\"width\":0.5},\"mode\":\"lines\",\"name\":\"Spread\",\"showlegend\":false,\"type\":\"scatter\",\"x\":[0,1,2,3,4,5,6,7,8,9,10,11,12,13,14,15,16,17,18,19,20,21,22,23,24,25,26,27,28,29,30,31,32,33,34,35,36,37,38,39,40,41,42,43,44,45,46,47,48,49,50,51,52,53,54,55,56,57,58,59,60,61,62,63,64,65,66,67,68,69,70,71,72,73,74,75,76,77,78,79,80,81,82,83,84,85,86,87,88,89,90,91,92,93,94,95,96,97,98,99],\"xaxis\":\"x2\",\"y\":[1.0847638493843237,2.3583537663440595,\"\",\"\",\"\",\"\",\"\",0.2215142660770546,1.5593031827900097,\"\",\"\",0.908024229394417,1.2964139125120062,\"\",1.7889531307022264,\"\",0.5769947897052478,1.7032752266456703,\"\",\"\",0.6746307769216655,\"\",\"\",0.9156790130877632,0.3909414291340252,\"\",\"\",\"\",1.607178892932547,0.3345914497562392,\"\",\"\",\"\",\"\",0.0836913572187925,\"\",\"\",\"\",\"\",\"\",0.8294461197385379,1.1301976596699146,\"\",\"\",\"\",0.5934143770308259,\"\",3.0057460912194025,1.6881708588918127,0.899372572444503,\"\",\"\",\"\",\"\",1.9819391180412076,\"\",1.1927525113971695,1.8906440831399722,1.579941147994299,\"\",\"\",0.5589534888542327,\"\",\"\",\"\",1.6085435227497933,0.17341179947341262,3.134195635102174,0.5947273150727632,1.3314466138640073,\"\",\"\",\"\",\"\",4.170421580798946,1.0496928481097947,0.49117180910161995,\"\",0.6655009929352934,2.322038819881672,0.615086855553389,\"\",\"\",0.040491106565020085,1.382102631704523,0.11739651111838362,\"\",0.015480515647822927,1.9540660141151573,1.2391432637599422,\"\",\"\",\"\",0.019290103536431014,\"\",\"\",\"\",\"\",\"\",\"\"],\"yaxis\":\"y2\"},{\"connectgaps\":false,\"fill\":\"tozeroy\",\"line\":{\"color\":\"red\",\"dash\":\"solid\",\"shape\":\"linear\",\"width\":0.5},\"mode\":\"lines\",\"name\":\"Spread\",\"showlegend\":false,\"type\":\"scatter\",\"x\":[0,1,2,3,4,5,6,7,8,9,10,11,12,13,14,15,16,17,18,19,20,21,22,23,24,25,26,27,28,29,30,31,32,33,34,35,36,37,38,39,40,41,42,43,44,45,46,47,48,49,50,51,52,53,54,55,56,57,58,59,60,61,62,63,64,65,66,67,68,69,70,71,72,73,74,75,76,77,78,79,80,81,82,83,84,85,86,87,88,89,90,91,92,93,94,95,96,97,98,99],\"xaxis\":\"x2\",\"y\":[\"\",\"\",-0.07596580160045069,-0.2811365772560691,-0.5683319763152332,-2.3478822266543573,-1.1726768471828548,\"\",\"\",-2.1917626050021153,-2.3480499164101083,\"\",\"\",-0.6397518773788731,\"\",-1.4512340229147103,\"\",\"\",-1.1616387285512006,-1.5417774567675495,\"\",-1.4487606154821662,-0.005072833095363771,\"\",\"\",-1.907495975094427,-0.6954675225838646,-2.0481680999791334,\"\",\"\",-0.722123772382101,-1.6127482102858837,-0.5125935916237637,-0.184852952954785,\"\",-0.8850020201047664,-0.22329613181942887,-3.0105743325727934,-1.9041255417845704,-3.66238657449612,\"\",\"\",-0.5385275296947163,-1.3177885946508066,-1.9737805536581905,\"\",-1.0792755830088316,\"\",\"\",\"\",-1.759481823118431,-1.1050387934913335,-0.5625072167017725,-1.3727886181879243,\"\",-0.2543359784651059,\"\",\"\",\"\",-0.37233740928815395,-1.0607898357635628,\"\",-0.10174385872594907,-1.3973936988670537,-1.7049199667691974,\"\",\"\",\"\",\"\",\"\",-1.6514562402920676,-1.9800266745698882,-0.41988764074463947,-0.3081332106409945,\"\",\"\",\"\",-1.1005819098142746,\"\",\"\",\"\",-0.35167044219848476,-1.8022123201793343,\"\",\"\",\"\",-1.0843889521492458,\"\",\"\",\"\",-0.23790161781285013,-1.1638591802275853,-0.5634760021909144,\"\",-0.09387339308402512,-0.16151058332395715,-2.211318113831329,-2.304647055114968,-0.6473674693477132,-0.43012677708345715],\"yaxis\":\"y2\"}],                        {\"hovermode\":\"x\",\"legend\":{\"bgcolor\":\"#F5F6F9\",\"font\":{\"color\":\"#4D5663\"}},\"paper_bgcolor\":\"#F5F6F9\",\"plot_bgcolor\":\"#F5F6F9\",\"template\":{\"data\":{\"bar\":[{\"error_x\":{\"color\":\"#2a3f5f\"},\"error_y\":{\"color\":\"#2a3f5f\"},\"marker\":{\"line\":{\"color\":\"#E5ECF6\",\"width\":0.5},\"pattern\":{\"fillmode\":\"overlay\",\"size\":10,\"solidity\":0.2}},\"type\":\"bar\"}],\"barpolar\":[{\"marker\":{\"line\":{\"color\":\"#E5ECF6\",\"width\":0.5},\"pattern\":{\"fillmode\":\"overlay\",\"size\":10,\"solidity\":0.2}},\"type\":\"barpolar\"}],\"carpet\":[{\"aaxis\":{\"endlinecolor\":\"#2a3f5f\",\"gridcolor\":\"white\",\"linecolor\":\"white\",\"minorgridcolor\":\"white\",\"startlinecolor\":\"#2a3f5f\"},\"baxis\":{\"endlinecolor\":\"#2a3f5f\",\"gridcolor\":\"white\",\"linecolor\":\"white\",\"minorgridcolor\":\"white\",\"startlinecolor\":\"#2a3f5f\"},\"type\":\"carpet\"}],\"choropleth\":[{\"colorbar\":{\"outlinewidth\":0,\"ticks\":\"\"},\"type\":\"choropleth\"}],\"contour\":[{\"colorbar\":{\"outlinewidth\":0,\"ticks\":\"\"},\"colorscale\":[[0.0,\"#0d0887\"],[0.1111111111111111,\"#46039f\"],[0.2222222222222222,\"#7201a8\"],[0.3333333333333333,\"#9c179e\"],[0.4444444444444444,\"#bd3786\"],[0.5555555555555556,\"#d8576b\"],[0.6666666666666666,\"#ed7953\"],[0.7777777777777778,\"#fb9f3a\"],[0.8888888888888888,\"#fdca26\"],[1.0,\"#f0f921\"]],\"type\":\"contour\"}],\"contourcarpet\":[{\"colorbar\":{\"outlinewidth\":0,\"ticks\":\"\"},\"type\":\"contourcarpet\"}],\"heatmap\":[{\"colorbar\":{\"outlinewidth\":0,\"ticks\":\"\"},\"colorscale\":[[0.0,\"#0d0887\"],[0.1111111111111111,\"#46039f\"],[0.2222222222222222,\"#7201a8\"],[0.3333333333333333,\"#9c179e\"],[0.4444444444444444,\"#bd3786\"],[0.5555555555555556,\"#d8576b\"],[0.6666666666666666,\"#ed7953\"],[0.7777777777777778,\"#fb9f3a\"],[0.8888888888888888,\"#fdca26\"],[1.0,\"#f0f921\"]],\"type\":\"heatmap\"}],\"heatmapgl\":[{\"colorbar\":{\"outlinewidth\":0,\"ticks\":\"\"},\"colorscale\":[[0.0,\"#0d0887\"],[0.1111111111111111,\"#46039f\"],[0.2222222222222222,\"#7201a8\"],[0.3333333333333333,\"#9c179e\"],[0.4444444444444444,\"#bd3786\"],[0.5555555555555556,\"#d8576b\"],[0.6666666666666666,\"#ed7953\"],[0.7777777777777778,\"#fb9f3a\"],[0.8888888888888888,\"#fdca26\"],[1.0,\"#f0f921\"]],\"type\":\"heatmapgl\"}],\"histogram\":[{\"marker\":{\"pattern\":{\"fillmode\":\"overlay\",\"size\":10,\"solidity\":0.2}},\"type\":\"histogram\"}],\"histogram2d\":[{\"colorbar\":{\"outlinewidth\":0,\"ticks\":\"\"},\"colorscale\":[[0.0,\"#0d0887\"],[0.1111111111111111,\"#46039f\"],[0.2222222222222222,\"#7201a8\"],[0.3333333333333333,\"#9c179e\"],[0.4444444444444444,\"#bd3786\"],[0.5555555555555556,\"#d8576b\"],[0.6666666666666666,\"#ed7953\"],[0.7777777777777778,\"#fb9f3a\"],[0.8888888888888888,\"#fdca26\"],[1.0,\"#f0f921\"]],\"type\":\"histogram2d\"}],\"histogram2dcontour\":[{\"colorbar\":{\"outlinewidth\":0,\"ticks\":\"\"},\"colorscale\":[[0.0,\"#0d0887\"],[0.1111111111111111,\"#46039f\"],[0.2222222222222222,\"#7201a8\"],[0.3333333333333333,\"#9c179e\"],[0.4444444444444444,\"#bd3786\"],[0.5555555555555556,\"#d8576b\"],[0.6666666666666666,\"#ed7953\"],[0.7777777777777778,\"#fb9f3a\"],[0.8888888888888888,\"#fdca26\"],[1.0,\"#f0f921\"]],\"type\":\"histogram2dcontour\"}],\"mesh3d\":[{\"colorbar\":{\"outlinewidth\":0,\"ticks\":\"\"},\"type\":\"mesh3d\"}],\"parcoords\":[{\"line\":{\"colorbar\":{\"outlinewidth\":0,\"ticks\":\"\"}},\"type\":\"parcoords\"}],\"pie\":[{\"automargin\":true,\"type\":\"pie\"}],\"scatter\":[{\"marker\":{\"colorbar\":{\"outlinewidth\":0,\"ticks\":\"\"}},\"type\":\"scatter\"}],\"scatter3d\":[{\"line\":{\"colorbar\":{\"outlinewidth\":0,\"ticks\":\"\"}},\"marker\":{\"colorbar\":{\"outlinewidth\":0,\"ticks\":\"\"}},\"type\":\"scatter3d\"}],\"scattercarpet\":[{\"marker\":{\"colorbar\":{\"outlinewidth\":0,\"ticks\":\"\"}},\"type\":\"scattercarpet\"}],\"scattergeo\":[{\"marker\":{\"colorbar\":{\"outlinewidth\":0,\"ticks\":\"\"}},\"type\":\"scattergeo\"}],\"scattergl\":[{\"marker\":{\"colorbar\":{\"outlinewidth\":0,\"ticks\":\"\"}},\"type\":\"scattergl\"}],\"scattermapbox\":[{\"marker\":{\"colorbar\":{\"outlinewidth\":0,\"ticks\":\"\"}},\"type\":\"scattermapbox\"}],\"scatterpolar\":[{\"marker\":{\"colorbar\":{\"outlinewidth\":0,\"ticks\":\"\"}},\"type\":\"scatterpolar\"}],\"scatterpolargl\":[{\"marker\":{\"colorbar\":{\"outlinewidth\":0,\"ticks\":\"\"}},\"type\":\"scatterpolargl\"}],\"scatterternary\":[{\"marker\":{\"colorbar\":{\"outlinewidth\":0,\"ticks\":\"\"}},\"type\":\"scatterternary\"}],\"surface\":[{\"colorbar\":{\"outlinewidth\":0,\"ticks\":\"\"},\"colorscale\":[[0.0,\"#0d0887\"],[0.1111111111111111,\"#46039f\"],[0.2222222222222222,\"#7201a8\"],[0.3333333333333333,\"#9c179e\"],[0.4444444444444444,\"#bd3786\"],[0.5555555555555556,\"#d8576b\"],[0.6666666666666666,\"#ed7953\"],[0.7777777777777778,\"#fb9f3a\"],[0.8888888888888888,\"#fdca26\"],[1.0,\"#f0f921\"]],\"type\":\"surface\"}],\"table\":[{\"cells\":{\"fill\":{\"color\":\"#EBF0F8\"},\"line\":{\"color\":\"white\"}},\"header\":{\"fill\":{\"color\":\"#C8D4E3\"},\"line\":{\"color\":\"white\"}},\"type\":\"table\"}]},\"layout\":{\"annotationdefaults\":{\"arrowcolor\":\"#2a3f5f\",\"arrowhead\":0,\"arrowwidth\":1},\"autotypenumbers\":\"strict\",\"coloraxis\":{\"colorbar\":{\"outlinewidth\":0,\"ticks\":\"\"}},\"colorscale\":{\"diverging\":[[0,\"#8e0152\"],[0.1,\"#c51b7d\"],[0.2,\"#de77ae\"],[0.3,\"#f1b6da\"],[0.4,\"#fde0ef\"],[0.5,\"#f7f7f7\"],[0.6,\"#e6f5d0\"],[0.7,\"#b8e186\"],[0.8,\"#7fbc41\"],[0.9,\"#4d9221\"],[1,\"#276419\"]],\"sequential\":[[0.0,\"#0d0887\"],[0.1111111111111111,\"#46039f\"],[0.2222222222222222,\"#7201a8\"],[0.3333333333333333,\"#9c179e\"],[0.4444444444444444,\"#bd3786\"],[0.5555555555555556,\"#d8576b\"],[0.6666666666666666,\"#ed7953\"],[0.7777777777777778,\"#fb9f3a\"],[0.8888888888888888,\"#fdca26\"],[1.0,\"#f0f921\"]],\"sequentialminus\":[[0.0,\"#0d0887\"],[0.1111111111111111,\"#46039f\"],[0.2222222222222222,\"#7201a8\"],[0.3333333333333333,\"#9c179e\"],[0.4444444444444444,\"#bd3786\"],[0.5555555555555556,\"#d8576b\"],[0.6666666666666666,\"#ed7953\"],[0.7777777777777778,\"#fb9f3a\"],[0.8888888888888888,\"#fdca26\"],[1.0,\"#f0f921\"]]},\"colorway\":[\"#636efa\",\"#EF553B\",\"#00cc96\",\"#ab63fa\",\"#FFA15A\",\"#19d3f3\",\"#FF6692\",\"#B6E880\",\"#FF97FF\",\"#FECB52\"],\"font\":{\"color\":\"#2a3f5f\"},\"geo\":{\"bgcolor\":\"white\",\"lakecolor\":\"white\",\"landcolor\":\"#E5ECF6\",\"showlakes\":true,\"showland\":true,\"subunitcolor\":\"white\"},\"hoverlabel\":{\"align\":\"left\"},\"hovermode\":\"closest\",\"mapbox\":{\"style\":\"light\"},\"paper_bgcolor\":\"white\",\"plot_bgcolor\":\"#E5ECF6\",\"polar\":{\"angularaxis\":{\"gridcolor\":\"white\",\"linecolor\":\"white\",\"ticks\":\"\"},\"bgcolor\":\"#E5ECF6\",\"radialaxis\":{\"gridcolor\":\"white\",\"linecolor\":\"white\",\"ticks\":\"\"}},\"scene\":{\"xaxis\":{\"backgroundcolor\":\"#E5ECF6\",\"gridcolor\":\"white\",\"gridwidth\":2,\"linecolor\":\"white\",\"showbackground\":true,\"ticks\":\"\",\"zerolinecolor\":\"white\"},\"yaxis\":{\"backgroundcolor\":\"#E5ECF6\",\"gridcolor\":\"white\",\"gridwidth\":2,\"linecolor\":\"white\",\"showbackground\":true,\"ticks\":\"\",\"zerolinecolor\":\"white\"},\"zaxis\":{\"backgroundcolor\":\"#E5ECF6\",\"gridcolor\":\"white\",\"gridwidth\":2,\"linecolor\":\"white\",\"showbackground\":true,\"ticks\":\"\",\"zerolinecolor\":\"white\"}},\"shapedefaults\":{\"line\":{\"color\":\"#2a3f5f\"}},\"ternary\":{\"aaxis\":{\"gridcolor\":\"white\",\"linecolor\":\"white\",\"ticks\":\"\"},\"baxis\":{\"gridcolor\":\"white\",\"linecolor\":\"white\",\"ticks\":\"\"},\"bgcolor\":\"#E5ECF6\",\"caxis\":{\"gridcolor\":\"white\",\"linecolor\":\"white\",\"ticks\":\"\"}},\"title\":{\"x\":0.05},\"xaxis\":{\"automargin\":true,\"gridcolor\":\"white\",\"linecolor\":\"white\",\"ticks\":\"\",\"title\":{\"standoff\":15},\"zerolinecolor\":\"white\",\"zerolinewidth\":2},\"yaxis\":{\"automargin\":true,\"gridcolor\":\"white\",\"linecolor\":\"white\",\"ticks\":\"\",\"title\":{\"standoff\":15},\"zerolinecolor\":\"white\",\"zerolinewidth\":2}}},\"title\":{\"font\":{\"color\":\"#4D5663\"}},\"xaxis\":{\"gridcolor\":\"#E1E5ED\",\"showgrid\":true,\"tickfont\":{\"color\":\"#4D5663\"},\"title\":{\"font\":{\"color\":\"#4D5663\"},\"text\":\"\"},\"zerolinecolor\":\"#E1E5ED\"},\"xaxis2\":{\"anchor\":\"y2\",\"gridcolor\":\"#E1E5ED\",\"showgrid\":true,\"showticklabels\":false,\"tickfont\":{\"color\":\"#4D5663\"},\"title\":{\"font\":{\"color\":\"#4D5663\"},\"text\":\"\"},\"zerolinecolor\":\"#E1E5ED\"},\"yaxis\":{\"domain\":[0.3,1],\"gridcolor\":\"#E1E5ED\",\"showgrid\":true,\"tickfont\":{\"color\":\"#4D5663\"},\"title\":{\"font\":{\"color\":\"#4D5663\"},\"text\":\"\"},\"zerolinecolor\":\"#E1E5ED\"},\"yaxis2\":{\"domain\":[0,0.25],\"gridcolor\":\"#E1E5ED\",\"showgrid\":true,\"tickfont\":{\"color\":\"#4D5663\"},\"title\":{\"font\":{\"color\":\"#4D5663\"},\"text\":\"Spread\"},\"zerolinecolor\":\"#E1E5ED\"}},                        {\"showLink\": true, \"linkText\": \"Export to plot.ly\", \"plotlyServerURL\": \"https://plot.ly\", \"responsive\": true}                    ).then(function(){\n",
       "                            \n",
       "var gd = document.getElementById('362f592e-6da6-43cb-ae4d-d4526e4ae49c');\n",
       "var x = new MutationObserver(function (mutations, observer) {{\n",
       "        var display = window.getComputedStyle(gd).display;\n",
       "        if (!display || display === 'none') {{\n",
       "            console.log([gd, 'removed!']);\n",
       "            Plotly.purge(gd);\n",
       "            observer.disconnect();\n",
       "        }}\n",
       "}});\n",
       "\n",
       "// Listen for the removal of the full notebook cells\n",
       "var notebookContainer = gd.closest('#notebook-container');\n",
       "if (notebookContainer) {{\n",
       "    x.observe(notebookContainer, {childList: true});\n",
       "}}\n",
       "\n",
       "// Listen for the clearing of the current output cell\n",
       "var outputEl = gd.closest('.output');\n",
       "if (outputEl) {{\n",
       "    x.observe(outputEl, {childList: true});\n",
       "}}\n",
       "\n",
       "                        })                };                });            </script>        </div>"
      ]
     },
     "metadata": {},
     "output_type": "display_data"
    }
   ],
   "source": [
    "df[['A','B']].iplot(kind='spread') #stock data"
   ]
  },
  {
   "cell_type": "code",
   "execution_count": 40,
   "metadata": {},
   "outputs": [
    {
     "data": {
      "text/html": [
       "<div>\n",
       "<style scoped>\n",
       "    .dataframe tbody tr th:only-of-type {\n",
       "        vertical-align: middle;\n",
       "    }\n",
       "\n",
       "    .dataframe tbody tr th {\n",
       "        vertical-align: top;\n",
       "    }\n",
       "\n",
       "    .dataframe thead th {\n",
       "        text-align: right;\n",
       "    }\n",
       "</style>\n",
       "<table border=\"1\" class=\"dataframe\">\n",
       "  <thead>\n",
       "    <tr style=\"text-align: right;\">\n",
       "      <th></th>\n",
       "      <th>x</th>\n",
       "      <th>y</th>\n",
       "      <th>z</th>\n",
       "    </tr>\n",
       "  </thead>\n",
       "  <tbody>\n",
       "    <tr>\n",
       "      <th>0</th>\n",
       "      <td>1</td>\n",
       "      <td>10</td>\n",
       "      <td>5</td>\n",
       "    </tr>\n",
       "    <tr>\n",
       "      <th>1</th>\n",
       "      <td>2</td>\n",
       "      <td>20</td>\n",
       "      <td>4</td>\n",
       "    </tr>\n",
       "    <tr>\n",
       "      <th>2</th>\n",
       "      <td>3</td>\n",
       "      <td>30</td>\n",
       "      <td>3</td>\n",
       "    </tr>\n",
       "    <tr>\n",
       "      <th>3</th>\n",
       "      <td>4</td>\n",
       "      <td>20</td>\n",
       "      <td>2</td>\n",
       "    </tr>\n",
       "    <tr>\n",
       "      <th>4</th>\n",
       "      <td>5</td>\n",
       "      <td>10</td>\n",
       "      <td>1</td>\n",
       "    </tr>\n",
       "  </tbody>\n",
       "</table>\n",
       "</div>"
      ],
      "text/plain": [
       "   x   y  z\n",
       "0  1  10  5\n",
       "1  2  20  4\n",
       "2  3  30  3\n",
       "3  4  20  2\n",
       "4  5  10  1"
      ]
     },
     "execution_count": 40,
     "metadata": {},
     "output_type": "execute_result"
    }
   ],
   "source": [
    "df3"
   ]
  }
 ],
 "metadata": {
  "kernelspec": {
   "display_name": "Python 3",
   "language": "python",
   "name": "python3"
  },
  "language_info": {
   "codemirror_mode": {
    "name": "ipython",
    "version": 3
   },
   "file_extension": ".py",
   "mimetype": "text/x-python",
   "name": "python",
   "nbconvert_exporter": "python",
   "pygments_lexer": "ipython3",
   "version": "3.7.0"
  }
 },
 "nbformat": 4,
 "nbformat_minor": 2
}
